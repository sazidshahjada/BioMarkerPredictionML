{
 "cells": [
  {
   "cell_type": "markdown",
   "metadata": {},
   "source": [
    "# **Biomarker Selection for CLL and T2D**\n",
    "\n",
    "This notebook performs feature selection to identify significant biomarkers for Chronic Lymphocytic Leukemia (CLL) and Type 2 Diabetes (T2D) using a merged gene expression dataset. Three feature selection methods—Lasso, Random Forest, and SVM-RFE—are applied to rank and select biomarkers. The intersection of selected features is identified, and a t-test is used to verify the statistical significance of the common biomarkers. The results are saved for further analysis."
   ]
  },
  {
   "cell_type": "markdown",
   "metadata": {},
   "source": [
    "### **1. Import Libraries**\n",
    "\n",
    "The following libraries are imported for data manipulation, visualization, statistical testing, and machine learning-based feature selection."
   ]
  },
  {
   "cell_type": "code",
   "execution_count": 96,
   "metadata": {},
   "outputs": [],
   "source": [
    "# Import libraries\n",
    "import numpy as np\n",
    "import pandas as pd\n",
    "import seaborn as sns\n",
    "from scipy.stats import ttest_ind\n",
    "import matplotlib.pyplot as plt\n",
    "from sklearn.svm import SVC\n",
    "from sklearn.linear_model import Lasso\n",
    "from sklearn.ensemble import RandomForestClassifier\n",
    "from sklearn.preprocessing import StandardScaler\n",
    "from imblearn.over_sampling import SMOTE\n",
    "from sklearn.feature_selection import RFE\n",
    "from sklearn.model_selection import train_test_split"
   ]
  },
  {
   "cell_type": "markdown",
   "metadata": {},
   "source": [
    "### **2. Load Dataset**\n",
    "\n",
    "The merged dataset containing gene expression data for CLL and T2D is loaded from a CSV file."
   ]
  },
  {
   "cell_type": "code",
   "execution_count": 97,
   "metadata": {},
   "outputs": [
    {
     "data": {
      "text/html": [
       "<div>\n",
       "<style scoped>\n",
       "    .dataframe tbody tr th:only-of-type {\n",
       "        vertical-align: middle;\n",
       "    }\n",
       "\n",
       "    .dataframe tbody tr th {\n",
       "        vertical-align: top;\n",
       "    }\n",
       "\n",
       "    .dataframe thead th {\n",
       "        text-align: right;\n",
       "    }\n",
       "</style>\n",
       "<table border=\"1\" class=\"dataframe\">\n",
       "  <thead>\n",
       "    <tr style=\"text-align: right;\">\n",
       "      <th></th>\n",
       "      <th>SOCS1</th>\n",
       "      <th>CD3D</th>\n",
       "      <th>CCL4</th>\n",
       "      <th>IL7R</th>\n",
       "      <th>TSSC2</th>\n",
       "      <th>SAMSN1</th>\n",
       "      <th>PTPN7</th>\n",
       "      <th>CD300C</th>\n",
       "      <th>VSIG4</th>\n",
       "      <th>CXCL10</th>\n",
       "      <th>...</th>\n",
       "      <th>IFIT3</th>\n",
       "      <th>BATF3</th>\n",
       "      <th>SLFN12L</th>\n",
       "      <th>IL10</th>\n",
       "      <th>SIGLEC7</th>\n",
       "      <th>GZMH</th>\n",
       "      <th>CD7</th>\n",
       "      <th>OLR1</th>\n",
       "      <th>S100A8</th>\n",
       "      <th>label</th>\n",
       "    </tr>\n",
       "  </thead>\n",
       "  <tbody>\n",
       "    <tr>\n",
       "      <th>0</th>\n",
       "      <td>4.0</td>\n",
       "      <td>24.0</td>\n",
       "      <td>0.0</td>\n",
       "      <td>49.0</td>\n",
       "      <td>21.0</td>\n",
       "      <td>94.0</td>\n",
       "      <td>12.0</td>\n",
       "      <td>0.0</td>\n",
       "      <td>0.0</td>\n",
       "      <td>217.0</td>\n",
       "      <td>...</td>\n",
       "      <td>1024.0</td>\n",
       "      <td>6.0</td>\n",
       "      <td>13.0</td>\n",
       "      <td>21.0</td>\n",
       "      <td>0.0</td>\n",
       "      <td>8.0</td>\n",
       "      <td>0.0</td>\n",
       "      <td>21.0</td>\n",
       "      <td>38.0</td>\n",
       "      <td>0.0</td>\n",
       "    </tr>\n",
       "    <tr>\n",
       "      <th>1</th>\n",
       "      <td>5.0</td>\n",
       "      <td>14.0</td>\n",
       "      <td>0.0</td>\n",
       "      <td>97.0</td>\n",
       "      <td>19.0</td>\n",
       "      <td>51.0</td>\n",
       "      <td>17.0</td>\n",
       "      <td>5.0</td>\n",
       "      <td>0.0</td>\n",
       "      <td>214.0</td>\n",
       "      <td>...</td>\n",
       "      <td>1958.0</td>\n",
       "      <td>20.0</td>\n",
       "      <td>15.0</td>\n",
       "      <td>23.0</td>\n",
       "      <td>0.0</td>\n",
       "      <td>6.0</td>\n",
       "      <td>2.0</td>\n",
       "      <td>52.0</td>\n",
       "      <td>53.0</td>\n",
       "      <td>1.0</td>\n",
       "    </tr>\n",
       "    <tr>\n",
       "      <th>2</th>\n",
       "      <td>7.0</td>\n",
       "      <td>8.0</td>\n",
       "      <td>0.0</td>\n",
       "      <td>46.0</td>\n",
       "      <td>27.0</td>\n",
       "      <td>43.0</td>\n",
       "      <td>13.0</td>\n",
       "      <td>12.0</td>\n",
       "      <td>44.0</td>\n",
       "      <td>134.0</td>\n",
       "      <td>...</td>\n",
       "      <td>1320.0</td>\n",
       "      <td>0.0</td>\n",
       "      <td>10.0</td>\n",
       "      <td>14.0</td>\n",
       "      <td>3.0</td>\n",
       "      <td>0.0</td>\n",
       "      <td>0.0</td>\n",
       "      <td>44.0</td>\n",
       "      <td>25.0</td>\n",
       "      <td>0.0</td>\n",
       "    </tr>\n",
       "    <tr>\n",
       "      <th>3</th>\n",
       "      <td>9.0</td>\n",
       "      <td>8.0</td>\n",
       "      <td>3.0</td>\n",
       "      <td>37.0</td>\n",
       "      <td>25.0</td>\n",
       "      <td>146.0</td>\n",
       "      <td>2.0</td>\n",
       "      <td>0.0</td>\n",
       "      <td>0.0</td>\n",
       "      <td>86.0</td>\n",
       "      <td>...</td>\n",
       "      <td>750.0</td>\n",
       "      <td>0.0</td>\n",
       "      <td>21.0</td>\n",
       "      <td>10.0</td>\n",
       "      <td>0.0</td>\n",
       "      <td>0.0</td>\n",
       "      <td>0.0</td>\n",
       "      <td>67.0</td>\n",
       "      <td>16.0</td>\n",
       "      <td>0.0</td>\n",
       "    </tr>\n",
       "    <tr>\n",
       "      <th>4</th>\n",
       "      <td>9.0</td>\n",
       "      <td>25.0</td>\n",
       "      <td>0.0</td>\n",
       "      <td>77.0</td>\n",
       "      <td>24.0</td>\n",
       "      <td>67.0</td>\n",
       "      <td>21.0</td>\n",
       "      <td>20.0</td>\n",
       "      <td>36.0</td>\n",
       "      <td>41.0</td>\n",
       "      <td>...</td>\n",
       "      <td>1125.0</td>\n",
       "      <td>15.0</td>\n",
       "      <td>14.0</td>\n",
       "      <td>75.0</td>\n",
       "      <td>0.0</td>\n",
       "      <td>0.0</td>\n",
       "      <td>0.0</td>\n",
       "      <td>68.0</td>\n",
       "      <td>35.0</td>\n",
       "      <td>1.0</td>\n",
       "    </tr>\n",
       "  </tbody>\n",
       "</table>\n",
       "<p>5 rows × 60 columns</p>\n",
       "</div>"
      ],
      "text/plain": [
       "   SOCS1  CD3D  CCL4  IL7R  TSSC2  SAMSN1  PTPN7  CD300C  VSIG4  CXCL10  ...  \\\n",
       "0    4.0  24.0   0.0  49.0   21.0    94.0   12.0     0.0    0.0   217.0  ...   \n",
       "1    5.0  14.0   0.0  97.0   19.0    51.0   17.0     5.0    0.0   214.0  ...   \n",
       "2    7.0   8.0   0.0  46.0   27.0    43.0   13.0    12.0   44.0   134.0  ...   \n",
       "3    9.0   8.0   3.0  37.0   25.0   146.0    2.0     0.0    0.0    86.0  ...   \n",
       "4    9.0  25.0   0.0  77.0   24.0    67.0   21.0    20.0   36.0    41.0  ...   \n",
       "\n",
       "    IFIT3  BATF3  SLFN12L  IL10  SIGLEC7  GZMH  CD7  OLR1  S100A8  label  \n",
       "0  1024.0    6.0     13.0  21.0      0.0   8.0  0.0  21.0    38.0    0.0  \n",
       "1  1958.0   20.0     15.0  23.0      0.0   6.0  2.0  52.0    53.0    1.0  \n",
       "2  1320.0    0.0     10.0  14.0      3.0   0.0  0.0  44.0    25.0    0.0  \n",
       "3   750.0    0.0     21.0  10.0      0.0   0.0  0.0  67.0    16.0    0.0  \n",
       "4  1125.0   15.0     14.0  75.0      0.0   0.0  0.0  68.0    35.0    1.0  \n",
       "\n",
       "[5 rows x 60 columns]"
      ]
     },
     "execution_count": 97,
     "metadata": {},
     "output_type": "execute_result"
    }
   ],
   "source": [
    "# Load the dataset\n",
    "data = pd.read_csv('clean_data/merged_cll_t2d_data.csv')\n",
    "data.head()"
   ]
  },
  {
   "cell_type": "markdown",
   "metadata": {},
   "source": [
    "### **3. Select Features and Target**\n",
    "\n",
    "The dataset is split into features (X: gene expression values) and the target variable (y: labels indicating disease status)."
   ]
  },
  {
   "cell_type": "code",
   "execution_count": 98,
   "metadata": {},
   "outputs": [
    {
     "name": "stdout",
     "output_type": "stream",
     "text": [
      "Shape of the dataset: (146, 59), (146,)\n"
     ]
    }
   ],
   "source": [
    "# Select features and target variable (X, y)\n",
    "X = data.drop(columns=['label'])\n",
    "y = data['label']\n",
    "\n",
    "# Print the shape of the dataset\n",
    "print(f\"Shape of the dataset: {X.shape}, {y.shape}\")"
   ]
  },
  {
   "cell_type": "markdown",
   "metadata": {},
   "source": [
    "### **4. Standardize Features**\n",
    "\n",
    "Features are standardized using StandardScaler to ensure comparability, as many ML algorithms (e.g., SVM) are sensitive to feature scales."
   ]
  },
  {
   "cell_type": "code",
   "execution_count": 99,
   "metadata": {},
   "outputs": [],
   "source": [
    "# Standardize the features\n",
    "scaler = StandardScaler()\n",
    "X = scaler.fit_transform(X)"
   ]
  },
  {
   "cell_type": "code",
   "execution_count": 100,
   "metadata": {},
   "outputs": [],
   "source": [
    "# Make a dataframe from the scaled features\n",
    "X = pd.DataFrame(X, columns=data.columns[:-1])"
   ]
  },
  {
   "cell_type": "markdown",
   "metadata": {},
   "source": [
    "### **5. Visualize Class Distribution**\n",
    "\n",
    "A count plot visualizes the distribution of classes (e.g., healthy, T2D, CLL) in the dataset."
   ]
  },
  {
   "cell_type": "code",
   "execution_count": 101,
   "metadata": {},
   "outputs": [
    {
     "data": {
      "image/png": "[encoded data removed]",
      "text/plain": [
       "<Figure size 640x480 with 1 Axes>"
      ]
     },
     "metadata": {},
     "output_type": "display_data"
    }
   ],
   "source": [
    "# Visualize the class distribution\n",
    "sns.countplot(x=y)\n",
    "plt.title('Class Distribution')\n",
    "plt.xlabel('Classes')\n",
    "plt.ylabel('Count')\n",
    "plt.grid(True, axis='y')\n",
    "plt.show()"
   ]
  },
  {
   "cell_type": "markdown",
   "metadata": {},
   "source": [
    "### **6. Handle Class Imbalance (Commented Out)**\n",
    "\n",
    "The code for handling class imbalance using SMOTE is present but commented out. It would upsample the minority class and visualize the new class distribution."
   ]
  },
  {
   "cell_type": "code",
   "execution_count": 102,
   "metadata": {},
   "outputs": [
    {
     "name": "stdout",
     "output_type": "stream",
     "text": [
      "Resampled dataset shape: (324, 59), (324,)\n"
     ]
    },
    {
     "data": {
      "image/png": "[encoded data removed]",
      "text/plain": [
       "<Figure size 640x480 with 1 Axes>"
      ]
     },
     "metadata": {},
     "output_type": "display_data"
    }
   ],
   "source": [
    "# Handle class imbalance using SMOTE\n",
    "smote = SMOTE(random_state=42)\n",
    "X, y = smote.fit_resample(X, y)\n",
    "# print the shapesbefore and after SMOTE\n",
    "print(f\"Resampled dataset shape: {X.shape}, {y.shape}\")\n",
    "# Visualize the class distribution after SMOTE\n",
    "sns.countplot(x=y)\n",
    "plt.title('Class Distribution After SMOTE')\n",
    "plt.xlabel('Classes')\n",
    "plt.ylabel('Count')\n",
    "plt.grid(True, axis='y')\n",
    "plt.show()"
   ]
  },
  {
   "cell_type": "markdown",
   "metadata": {},
   "source": [
    "### **7. Lasso Feature Selection**\n",
    "\n",
    "A Lasso model is trained to select features by shrinking less important feature coefficients to zero. The absolute values of the coefficients are used to rank features."
   ]
  },
  {
   "cell_type": "code",
   "execution_count": 103,
   "metadata": {},
   "outputs": [
    {
     "name": "stdout",
     "output_type": "stream",
     "text": [
      "Number of Biomarkers selected by Lasso:"
     ]
    },
    {
     "name": "stdout",
     "output_type": "stream",
     "text": [
      " 25\n",
      "Selected Biomarkers using Lasso:\n",
      "     Feature  Importance\n",
      "0      PTPN7    0.241794\n",
      "1      SOCS1    0.138049\n",
      "2       GZMB    0.131219\n",
      "3     SEMA6B    0.097751\n",
      "4     CLEC5A    0.086481\n",
      "5       APOD    0.083404\n",
      "6      TSSC2    0.075062\n",
      "7      IFIT3    0.072434\n",
      "8    SIGLEC7    0.059557\n",
      "9       IL10    0.059466\n",
      "10      CCL7    0.053899\n",
      "11     FSIP1    0.052554\n",
      "12      FPR1    0.042821\n",
      "13     CD209    0.042450\n",
      "14      NKG7    0.027744\n",
      "15      PPBP    0.025125\n",
      "16    CXCL10    0.023511\n",
      "17      FLT4    0.014136\n",
      "18      MT1E    0.013578\n",
      "19   SLFN12L    0.009928\n",
      "20  PDCD1LG2    0.009638\n",
      "21     VSIG4    0.008389\n",
      "22    LILRB4    0.008281\n",
      "23    LRRC25    0.007798\n",
      "24     BATF3    0.000393\n"
     ]
    }
   ],
   "source": [
    "# Train Lasso model and perform feature selection s\n",
    "lasso = Lasso(alpha=0.01)\n",
    "lasso.fit(X, y)\n",
    "importance = np.abs(lasso.coef_)\n",
    "# Create a DataFrame for feature importance\n",
    "feature_importance = pd.DataFrame({'Feature': X.columns, 'Importance': importance})\n",
    "# Sort the features by importance\n",
    "feature_importance = feature_importance.sort_values(by='Importance', ascending=False)\n",
    "feature_importance.reset_index(drop=True, inplace=True)\n",
    "lasso_feature_importance = feature_importance[feature_importance['Importance'] > 0]\n",
    "# Print the selected features\n",
    "print(\"Number of Biomarkers selected by Lasso:\", len(lasso_feature_importance))\n",
    "print(\"Selected Biomarkers using Lasso:\")\n",
    "print(lasso_feature_importance)"
   ]
  },
  {
   "cell_type": "markdown",
   "metadata": {},
   "source": [
    "### **8. Random Forest Feature Selection**\n",
    "\n",
    "A Random Forest model is trained to select features based on their importance scores, derived from their contribution to classification."
   ]
  },
  {
   "cell_type": "code",
   "execution_count": 104,
   "metadata": {},
   "outputs": [
    {
     "name": "stdout",
     "output_type": "stream",
     "text": [
      "Number of Biomarkers selected by Random Forest: 59\n",
      "Selected Biomarkers using Random Forest:\n",
      "     Feature  Importance\n",
      "0        CD7    0.075134\n",
      "1      IL2RB    0.071939\n",
      "2      PTPN7    0.060632\n",
      "3       PRF1    0.060381\n",
      "4       NKG7    0.042406\n",
      "5      CYTIP    0.037331\n",
      "6       IL1B    0.033082\n",
      "7    IL18RAP    0.031262\n",
      "8     SAMSN1    0.030500\n",
      "9    SLFN12L    0.030314\n",
      "10     FSIP1    0.027740\n",
      "11      CD3G    0.026947\n",
      "12    LRRC25    0.021961\n",
      "13      IL7R    0.021245\n",
      "14      APOD    0.020855\n",
      "15    SEMA6B    0.020504\n",
      "16      GZMH    0.019981\n",
      "17    S100A8    0.018298\n",
      "18    CD300E    0.018013\n",
      "19      CD3D    0.015341\n",
      "20     CXCR6    0.013852\n",
      "21       ITK    0.013243\n",
      "22     SOCS1    0.012894\n",
      "23     IL2RA    0.011725\n",
      "24    CLEC5A    0.011688\n",
      "25     TSSC2    0.010935\n",
      "26      MT1E    0.010926\n",
      "27      CCL5    0.010624\n",
      "28    CD300C    0.010516\n",
      "29     THBS1    0.010382\n",
      "30      CCL3    0.009898\n",
      "31     GPR84    0.009840\n",
      "32    FCGR3A    0.009249\n",
      "33    LILRB4    0.009162\n",
      "34      CCL7    0.009074\n",
      "35      MT1G    0.008709\n",
      "36     IFIT3    0.008679\n",
      "37      FPR1    0.008496\n",
      "38     P2RY6    0.008079\n",
      "39     CD209    0.007979\n",
      "40      GZMA    0.007795\n",
      "41      MT2A    0.007564\n",
      "42   SIGLEC7    0.007340\n",
      "43      GZMB    0.007217\n",
      "44      AQP9    0.007136\n",
      "45     VSIG4    0.007132\n",
      "46      PPBP    0.006422\n",
      "47     BATF3    0.006377\n",
      "48  PDCD1LG2    0.006165\n",
      "49      FLT4    0.005363\n",
      "50    CXCL10    0.005205\n",
      "51     KLRC1    0.005097\n",
      "52      IL10    0.005068\n",
      "53    FCER1G    0.005046\n",
      "54      CCL4    0.004730\n",
      "55    GIMAP6    0.004264\n",
      "56    CCL4L2    0.004254\n",
      "57      OLR1    0.004122\n",
      "58      IDO1    0.003888\n"
     ]
    }
   ],
   "source": [
    "# Train Random Forest model and perform feature selection\n",
    "rf = RandomForestClassifier(n_estimators=100, random_state=42)\n",
    "rf.fit(X, y)\n",
    "importance = rf.feature_importances_\n",
    "# Create a DataFrame for feature importance\n",
    "feature_importance = pd.DataFrame({'Feature': X.columns, 'Importance': importance})\n",
    "# Sort the features by importance\n",
    "feature_importance = feature_importance.sort_values(by='Importance', ascending=False)\n",
    "feature_importance.reset_index(drop=True, inplace=True)\n",
    "rf_feature_importance = feature_importance[feature_importance['Importance'] > 0]\n",
    "# Print the selected features\n",
    "print(\"Number of Biomarkers selected by Random Forest:\", len(rf_feature_importance))\n",
    "print(\"Selected Biomarkers using Random Forest:\")\n",
    "print(rf_feature_importance)"
   ]
  },
  {
   "cell_type": "markdown",
   "metadata": {},
   "source": [
    "### **9. SVM-RFE Feature Selection**\n",
    "\n",
    "SVM-RFE is used to select the top 10 features by iteratively eliminating the least important features based on SVM weights."
   ]
  },
  {
   "cell_type": "code",
   "execution_count": 105,
   "metadata": {},
   "outputs": [
    {
     "name": "stdout",
     "output_type": "stream",
     "text": [
      "Number of Biomarkers selected by SVM-RFE: 59\n",
      "Selected Biomarkers using SVM-RFE:\n",
      "     Feature  Importance\n",
      "0     FCGR3A          50\n",
      "1       FLT4          49\n",
      "2      KLRC1          48\n",
      "3     GIMAP6          47\n",
      "4       FPR1          46\n",
      "5       CD3D          45\n",
      "6       PRF1          44\n",
      "7     S100A8          43\n",
      "8        ITK          42\n",
      "9        CD7          41\n",
      "10      IDO1          40\n",
      "11      CCL4          39\n",
      "12    CD300E          38\n",
      "13    CD300C          37\n",
      "14      MT2A          36\n",
      "15     IL2RA          35\n",
      "16     CD209          34\n",
      "17      CCL3          33\n",
      "18    SAMSN1          32\n",
      "19     IL2RB          31\n",
      "20      GZMH          30\n",
      "21     TSSC2          29\n",
      "22      PPBP          28\n",
      "23     BATF3          27\n",
      "24  PDCD1LG2          26\n",
      "25      OLR1          25\n",
      "26      CCL7          24\n",
      "27     GPR84          23\n",
      "28      CCL5          22\n",
      "29      CD3G          21\n",
      "30     IFIT3          20\n",
      "31      GZMA          19\n",
      "32    CCL4L2          18\n",
      "33      IL1B          17\n",
      "34     THBS1          16\n",
      "35      MT1E          15\n",
      "36      MT1G          14\n",
      "37     PTPN7          13\n",
      "38     VSIG4          12\n",
      "39   SLFN12L          11\n",
      "40   IL18RAP          10\n",
      "41      AQP9           9\n",
      "42      IL10           8\n",
      "43     CXCR6           7\n",
      "44    LRRC25           6\n",
      "45   SIGLEC7           5\n",
      "46    FCER1G           4\n",
      "47      IL7R           3\n",
      "48    CXCL10           2\n",
      "49     FSIP1           1\n",
      "50     SOCS1           1\n",
      "51     CYTIP           1\n",
      "52    LILRB4           1\n",
      "53    SEMA6B           1\n",
      "54      GZMB           1\n",
      "55      APOD           1\n",
      "56      NKG7           1\n",
      "57    CLEC5A           1\n",
      "58     P2RY6           1\n"
     ]
    }
   ],
   "source": [
    "# Train SVM-RFE model and perform feature selection\n",
    "svm = SVC(kernel='linear', random_state=42)\n",
    "rfe = RFE(estimator=svm, n_features_to_select=10)\n",
    "rfe.fit(X, y)\n",
    "# Create a DataFrame for feature importance\n",
    "feature_importance = pd.DataFrame({'Feature': X.columns, 'Importance': rfe.ranking_})\n",
    "# Sort the features by importance\n",
    "feature_importance = feature_importance.sort_values(by='Importance', ascending=False)\n",
    "feature_importance.reset_index(drop=True, inplace=True)\n",
    "svmrfe_feature_importance = feature_importance[feature_importance['Importance'] > 0.0]\n",
    "# Print the selected features\n",
    "print(\"Number of Biomarkers selected by SVM-RFE:\", len(svmrfe_feature_importance))\n",
    "print(\"Selected Biomarkers using SVM-RFE:\")\n",
    "print(svmrfe_feature_importance)"
   ]
  },
  {
   "cell_type": "markdown",
   "metadata": {},
   "source": [
    "### **10. Intersection of Selected Features**\n",
    "\n",
    "The common biomarkers selected by all three methods (Lasso, Random Forest, and SVM-RFE) are identified."
   ]
  },
  {
   "cell_type": "code",
   "execution_count": 106,
   "metadata": {},
   "outputs": [
    {
     "name": "stdout",
     "output_type": "stream",
     "text": [
      "Number of Biomarkers in intersection: 25\n",
      "Intersection of Selected Biomarkers:\n",
      "{'IFIT3', 'PDCD1LG2', 'LRRC25', 'FPR1', 'NKG7', 'CLEC5A', 'FSIP1', 'SIGLEC7', 'PTPN7', 'CD209', 'LILRB4', 'CXCL10', 'MT1E', 'GZMB', 'FLT4', 'PPBP', 'SLFN12L', 'SEMA6B', 'BATF3', 'VSIG4', 'APOD', 'SOCS1', 'IL10', 'TSSC2', 'CCL7'}\n"
     ]
    }
   ],
   "source": [
    "# Intersection of selected features from all three methods\n",
    "lasso_features = set(lasso_feature_importance['Feature'])\n",
    "rf_features = set(rf_feature_importance['Feature'])\n",
    "svmrfe_features = set(svmrfe_feature_importance['Feature'])\n",
    "intersection_features = lasso_features.intersection(rf_features).intersection(svmrfe_features)\n",
    "# Print the intersection of selected features\n",
    "print(\"Number of Biomarkers in intersection:\", len(list(intersection_features)))\n",
    "print(\"Intersection of Selected Biomarkers:\")\n",
    "print(intersection_features)\n",
    "\n",
    "# Common biomarkers from previous methods\n",
    "# ['TRIM10', 'NDUFA8', 'HSCB', 'TIMM8B']"
   ]
  },
  {
   "cell_type": "markdown",
   "metadata": {},
   "source": [
    "### **11. Compile Selected Features with Scores**\n",
    "\n",
    "A DataFrame is created to compile the importance scores from all three methods for the common biomarkers.\n",
    "\n"
   ]
  },
  {
   "cell_type": "code",
   "execution_count": null,
   "metadata": {},
   "outputs": [
    {
     "name": "stdout",
     "output_type": "stream",
     "text": [
      "Selected Biomarkers with Scores:\n",
      "     Feature     Lasso  Random Forest  SVM-RFE\n",
      "0      IFIT3  0.072434       0.008679       20\n",
      "1   PDCD1LG2  0.009638       0.006165       26\n",
      "2     LRRC25  0.007798       0.021961        6\n",
      "3       FPR1  0.042821       0.008496       46\n",
      "4       NKG7  0.027744       0.042406        1\n",
      "5     CLEC5A  0.086481       0.011688        1\n",
      "6      FSIP1  0.052554       0.027740        1\n",
      "7    SIGLEC7  0.059557       0.007340        5\n",
      "8      PTPN7  0.241794       0.060632       13\n",
      "9      CD209  0.042450       0.007979       34\n",
      "10    LILRB4  0.008281       0.009162        1\n",
      "11    CXCL10  0.023511       0.005205        2\n",
      "12      MT1E  0.013578       0.010926       15\n",
      "13      GZMB  0.131219       0.007217        1\n",
      "14      FLT4  0.014136       0.005363       49\n",
      "15      PPBP  0.025125       0.006422       28\n",
      "16   SLFN12L  0.009928       0.030314       11\n",
      "17    SEMA6B  0.097751       0.020504        1\n",
      "18     BATF3  0.000393       0.006377       27\n",
      "19     VSIG4  0.008389       0.007132       12\n",
      "20      APOD  0.083404       0.020855        1\n",
      "21     SOCS1  0.138049       0.012894        1\n",
      "22      IL10  0.059466       0.005068        8\n",
      "23     TSSC2  0.075062       0.010935       29\n",
      "24      CCL7  0.053899       0.009074       24\n"
     ]
    }
   ],
   "source": [
    "# Create a new DataFrame with the selected features with scores from all three methods\n",
    "# Create a list to store rows\n",
    "rows = []\n",
    "for feature in intersection_features:\n",
    "    lasso_score = lasso_feature_importance[lasso_feature_importance['Feature'] == feature]['Importance'].values[0]\n",
    "    rf_score = rf_feature_importance[rf_feature_importance['Feature'] == feature]['Importance'].values[0]\n",
    "    svmrfe_score = svmrfe_feature_importance[svmrfe_feature_importance['Feature'] == feature]['Importance'].values[0]\n",
    "    rows.append({\n",
    "        'Feature': feature,\n",
    "        'Lasso': lasso_score,\n",
    "        'Random Forest': rf_score,\n",
    "        'SVM-RFE': svmrfe_score\n",
    "    })\n",
    "\n",
    "selected_features = pd.DataFrame(rows)\n",
    "# Print the selected features with scores\n",
    "print(\"Selected Biomarkers with Scores:\")\n",
    "print(selected_features)\n",
    "# Save to CSV\n",
    "selected_features.to_csv('results/cll_t2d_multimode_selected_features.csv', index=False)"
   ]
  },
  {
   "cell_type": "markdown",
   "metadata": {},
   "source": [
    "### **12. Verify Common Biomarkers with T-test**\n",
    "\n",
    "A t-test is performed to verify the statistical significance of the common biomarkers by comparing their expression levels between healthy (label 0) and T2D (label 1) groups."
   ]
  },
  {
   "cell_type": "code",
   "execution_count": 108,
   "metadata": {},
   "outputs": [
    {
     "name": "stdout",
     "output_type": "stream",
     "text": [
      "T-test Results:\n",
      "     Feature  t-statistic   p-value\n",
      "0       APOD    -3.297298  0.001250\n",
      "1       CCL7    -2.709209  0.007626\n",
      "2       GZMB    -2.238023  0.026870\n",
      "3     SEMA6B     1.983165  0.049393\n",
      "4       MT1E    -1.950671  0.053183\n",
      "5      FSIP1     1.720976  0.087563\n",
      "6      TSSC2     1.718639  0.087990\n",
      "7     LRRC25     1.417743  0.158587\n",
      "8       IL10    -1.313042  0.191413\n",
      "9      CD209     1.304802  0.194196\n",
      "10    LILRB4     1.196734  0.233523\n",
      "11     PTPN7     1.128860  0.260974\n",
      "12   SIGLEC7     1.075002  0.284306\n",
      "13      FLT4     0.987705  0.325077\n",
      "14   SLFN12L     0.954819  0.341388\n",
      "15    CLEC5A    -0.823284  0.411809\n",
      "16     VSIG4    -0.785104  0.433779\n",
      "17  PDCD1LG2     0.754316  0.451983\n",
      "18     IFIT3     0.628005  0.531070\n",
      "19     SOCS1    -0.495325  0.621182\n",
      "20      PPBP    -0.478335  0.633191\n",
      "21      FPR1     0.357383  0.721367\n",
      "22      NKG7     0.354687  0.723382\n",
      "23     BATF3    -0.245564  0.806396\n",
      "24    CXCL10    -0.215904  0.829391\n"
     ]
    },
    {
     "name": "stderr",
     "output_type": "stream",
     "text": [
      "/tmp/ipykernel_11215/3768257735.py:12: SettingWithCopyWarning: \n",
      "A value is trying to be set on a copy of a slice from a DataFrame.\n",
      "Try using .loc[row_indexer,col_indexer] = value instead\n",
      "\n",
      "See the caveats in the documentation: https://pandas.pydata.org/pandas-docs/stable/user_guide/indexing.html#returning-a-view-versus-a-copy\n",
      "  common_biomarkers_df['label'] = y\n"
     ]
    }
   ],
   "source": [
    "# Verify the common biomarkers with t-test\n",
    "# Load the dataset again\n",
    "data = pd.read_csv('clean_data/merged_cll_t2d_data.csv')\n",
    "# Select features and target variable (X, y)\n",
    "X = data.drop(columns=['label'])\n",
    "y = data['label']\n",
    "# Select the common biomarkers\n",
    "common_biomarkers = list(intersection_features)\n",
    "# Create a new DataFrame with the common biomarkers\n",
    "common_biomarkers_df = data[common_biomarkers]\n",
    "# Add the target variable\n",
    "common_biomarkers_df['label'] = y\n",
    "# Perform t-test for each common biomarker\n",
    "t_test_results = []\n",
    "for feature in common_biomarkers:\n",
    "    group1 = common_biomarkers_df[common_biomarkers_df['label'] == 0][feature]\n",
    "    group2 = common_biomarkers_df[common_biomarkers_df['label'] == 1][feature]\n",
    "    t_stat, p_value = ttest_ind(group1, group2)\n",
    "    t_test_results.append({\n",
    "        'Feature': feature,\n",
    "        't-statistic': t_stat,\n",
    "        'p-value': p_value\n",
    "    })\n",
    "# Create a DataFrame for t-test results\n",
    "t_test_results_df = pd.DataFrame(t_test_results)\n",
    "# Print the t-test results\n",
    "print(\"T-test Results:\")\n",
    "print(t_test_results_df.sort_values(by='p-value', ascending=True).reset_index(drop=True))\n",
    "# Save t-test results to CSV\n",
    "t_test_results_df.to_csv('results/cll_t2d_multimode_t_test_results.csv', index=False)\n",
    "\n",
    "# Common biomarkers from previous methods\n",
    "# ['TRIM10', 'NDUFA8', 'HSCB', 'TIMM8B']"
   ]
  },
  {
   "cell_type": "code",
   "execution_count": 111,
   "metadata": {},
   "outputs": [
    {
     "name": "stdout",
     "output_type": "stream",
     "text": [
      "Significant Genes:\n",
      "  Feature  t-statistic   p-value\n",
      "0    APOD    -3.297298  0.001250\n",
      "1    CCL7    -2.709209  0.007626\n",
      "2    GZMB    -2.238023  0.026870\n",
      "3  SEMA6B     1.983165  0.049393\n"
     ]
    }
   ],
   "source": [
    "# print the genes with p-value < 0.05\n",
    "significant_genes = t_test_results_df[t_test_results_df['p-value'] < 0.05].sort_values(by='p-value', ascending=True).reset_index(drop=True)\n",
    "print(\"Significant Genes:\")\n",
    "print(significant_genes)\n",
    "# Save significant genes to CSV\n",
    "significant_genes.to_csv('results/cll_t2d_multimode_significant_genes.csv', index=False)"
   ]
  },
  {
   "cell_type": "code",
   "execution_count": null,
   "metadata": {},
   "outputs": [],
   "source": []
  }
 ],
 "metadata": {
  "kernelspec": {
   "display_name": "dsenv",
   "language": "python",
   "name": "python3"
  },
  "language_info": {
   "codemirror_mode": {
    "name": "ipython",
    "version": 3
   },
   "file_extension": ".py",
   "mimetype": "text/x-python",
   "name": "python",
   "nbconvert_exporter": "python",
   "pygments_lexer": "ipython3",
   "version": "3.12.3"
  }
 },
 "nbformat": 4,
 "nbformat_minor": 4
}

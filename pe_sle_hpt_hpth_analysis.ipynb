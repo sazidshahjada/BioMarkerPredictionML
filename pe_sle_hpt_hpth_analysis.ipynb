{
 "cells": [
  {
   "cell_type": "markdown",
   "metadata": {},
   "source": [
    "### **1. Import Libraries**\n",
    "Description: Import necessary Python libraries for data manipulation, machine learning, and visualization.\n",
    "- **pandas**: Used for handling and manipulating structured data (e.g., DataFrames).\n",
    "- **numpy**: Provides support for numerical operations and array handling.\n",
    "- **matplotlib.pyplot**: Enables plotting and visualization of results (e.g., class imbalance, metrics).\n",
    "- **sklearn** modules: Provide tools for preprocessing (StandardScaler), model training (RandomForestClassifier), evaluation (accuracy_score, classification_report, etc.), and data splitting (train_test_split, cross_val_score)."
   ]
  },
  {
   "cell_type": "code",
   "execution_count": 3,
   "metadata": {},
   "outputs": [],
   "source": [
    "import pandas as pd\n",
    "import numpy as np\n",
    "import matplotlib.pyplot as plt\n",
    "from sklearn.model_selection import train_test_split, cross_val_score\n",
    "from sklearn.preprocessing import StandardScaler\n",
    "from sklearn.ensemble import RandomForestClassifier\n",
    "from sklearn.metrics import accuracy_score, classification_report\n",
    "from sklearn.metrics import precision_score, recall_score, f1_score"
   ]
  },
  {
   "cell_type": "markdown",
   "metadata": {},
   "source": [
    "### **2. Define Data Paths**\n",
    "Description: Store file paths to the gene expression counts data and metadata for Preeclampsia (PE), Hypertension (HPT), Hypothyroidism (HPTh), and Systemic Lupus Erythematosus (SLE) in a dictionary. This centralizes file references, making it easier to manage and update paths if needed."
   ]
  },
  {
   "cell_type": "code",
   "execution_count": 4,
   "metadata": {},
   "outputs": [],
   "source": [
    "data_paths = {\n",
    "    \"pe_counts\": [\"Data for ML_PE/Preeclampsia/GSE148241_counts_data.csv\", \"Data for ML_PE/Preeclampsia/GSE172381_counts_data.csv\"],\n",
    "    \"pe_metadata\": [\"Data for ML_PE/Preeclampsia/GSE148241_metadata.csv\", \"Data for ML_PE/Preeclampsia/GSE172381_metadata.csv\"],\n",
    "    \"hpt_counts\": \"Data for ML_PE/Hypertension/GSE120852_counts_data.csv\",\n",
    "    \"hpt_metadata\": \"Data for ML_PE/Hypertension/GSE120852_metadata.csv\",\n",
    "    \"hpth_counts\": \"Data for ML_PE/Hypothyroidism/GSE147527_counts_data.csv\",\n",
    "    \"hpth_metadata\": \"Data for ML_PE/Hypothyroidism/GSE147527_metadata.csv\",\n",
    "    \"sle_counts\": [\"Data for ML_PE/SLE/GSE109843_counts_data.csv\", \"Data for ML_PE/SLE/GSE110999_counts_data.csv\"],\n",
    "    \"sle_metadata\": [\"Data for ML_PE/SLE/GSE109843_metadata.csv\", \"Data for ML_PE/SLE/GSE110999_metadata.csv\"]\n",
    "}"
   ]
  },
  {
   "cell_type": "markdown",
   "metadata": {},
   "source": [
    "### **3. Load and Merge Datasets**\n",
    "Description: Load and merge gene expression counts data and metadata from CSV files into pandas DataFrames.\n",
    "- **PE and SLE**: Each have two datasets that are concatenated along the columns (axis=1) for counts and along the rows (axis=0) for metadata.\n",
    "- **HPT and HPTh**: Single datasets are loaded directly without merging.\n",
    "- **index_col=0**: Sets the first column as the DataFrame index (e.g., gene symbols or sample IDs)."
   ]
  },
  {
   "cell_type": "code",
   "execution_count": 5,
   "metadata": {},
   "outputs": [],
   "source": [
    "# Load and merge PE datasets\n",
    "pe_counts_0 = pd.read_csv(data_paths[\"pe_counts\"][0], index_col=0)\n",
    "pe_counts_1 = pd.read_csv(data_paths[\"pe_counts\"][1], index_col=0)\n",
    "pe_metadata_0 = pd.read_csv(data_paths[\"pe_metadata\"][0])\n",
    "pe_metadata_1 = pd.read_csv(data_paths[\"pe_metadata\"][1])\n",
    "\n",
    "pe_counts = pd.concat([pe_counts_0, pe_counts_1], axis=1)\n",
    "pe_metadata = pd.concat([pe_metadata_0, pe_metadata_1], axis=0)"
   ]
  },
  {
   "cell_type": "code",
   "execution_count": 6,
   "metadata": {},
   "outputs": [],
   "source": [
    "# Load and merge SLE dataset\n",
    "sle_counts_0 = pd.read_csv(data_paths[\"sle_counts\"][0], index_col=0)\n",
    "sle_counts_1 = pd.read_csv(data_paths[\"sle_counts\"][1], index_col=0)\n",
    "sle_metadata_0 = pd.read_csv(data_paths[\"sle_metadata\"][0])\n",
    "sle_metadata_1 = pd.read_csv(data_paths[\"sle_metadata\"][1])\n",
    "sle_counts = pd.concat([sle_counts_0, sle_counts_1], axis=1)\n",
    "sle_metadata = pd.concat([sle_metadata_0, sle_metadata_1], axis=0)"
   ]
  },
  {
   "cell_type": "code",
   "execution_count": 7,
   "metadata": {},
   "outputs": [],
   "source": [
    "# Load HPT dataset\n",
    "hpt_counts = pd.read_csv(data_paths[\"hpt_counts\"], index_col=0)\n",
    "hpt_metadata = pd.read_csv(data_paths[\"hpt_metadata\"])\n",
    "\n",
    "# Load HPTh dataset\n",
    "hpth_counts = pd.read_csv(data_paths[\"hpth_counts\"], index_col=0)\n",
    "hpth_metadata = pd.read_csv(data_paths[\"hpth_metadata\"])"
   ]
  },
  {
   "cell_type": "markdown",
   "metadata": {},
   "source": [
    "### **4. Label Metadata**\n",
    "Description: Assign binary labels to metadata based on the \"Condition\" column to indicate disease state.\n",
    "- **1**: Represents \"Case\" (disease present, e.g., PE, HPT, HPTh, SLE).\n",
    "- **0**: Represents \"Control\" (healthy, no disease).\n",
    "- A lambda function is applied to create a new label column for each disease (e.g., `pe_label`, `sle_label`).\n"
   ]
  },
  {
   "cell_type": "code",
   "execution_count": 8,
   "metadata": {},
   "outputs": [],
   "source": [
    "# Label all metadata\n",
    "pe_metadata[\"pe_label\"] = pe_metadata[\"Condition\"].apply(\n",
    "    lambda x: 1 if x == \"Case\" else 0\n",
    ")\n",
    "hpt_metadata[\"hpt_label\"] = hpt_metadata[\"Condition\"].apply(\n",
    "    lambda x: 1 if x == \"Case\" else 0\n",
    ")\n",
    "hpth_metadata[\"hpth_label\"] = hpth_metadata[\"Condition\"].apply(\n",
    "    lambda x: 1 if x == \"Case\" else 0\n",
    ")\n",
    "sle_metadata[\"sle_label\"] = sle_metadata[\"Condition\"].apply(\n",
    "    lambda x: 1 if x == \"Case\" else 0\n",
    ")"
   ]
  },
  {
   "cell_type": "markdown",
   "metadata": {},
   "source": [
    "### **5. Preprocess Counts Data**\n",
    "Description: Transform the counts data into a suitable format for machine learning analysis.\n",
    "- **Set Index**: Use 'gene_symbol' as the index to organize data by genes.\n",
    "- **Transpose**: Switch rows and columns so samples are rows and genes are columns, aligning with typical machine learning input format.\n",
    "- **Index Name**: Name the index 'GSM' to represent sample IDs.\n",
    "- **Add Labels**: Append disease labels from metadata to the counts DataFrame.\n",
    "- **Column Names**: Ensure column names are strings, converting tuples or other types if necessary."
   ]
  },
  {
   "cell_type": "code",
   "execution_count": 9,
   "metadata": {},
   "outputs": [],
   "source": [
    "# Preprocess PE data\n",
    "pe_counts = pe_counts.set_index('gene_symbol').T\n",
    "pe_counts.index.name = 'GSM'\n",
    "pe_counts['pe_label'] = pe_metadata['pe_label'].values\n",
    "pe_counts.columns = [col if isinstance(col, str) else col[0] for col in pe_counts.columns]"
   ]
  },
  {
   "cell_type": "code",
   "execution_count": 10,
   "metadata": {},
   "outputs": [],
   "source": [
    "# Preprocess SLE data\n",
    "sle_counts = sle_counts.set_index('gene_symbol').T\n",
    "sle_counts.index.name = 'GSM'\n",
    "sle_counts['sle_label'] = sle_metadata['sle_label'].values\n",
    "sle_counts.columns = [col if isinstance(col, str) else col[0] for col in sle_counts.columns]"
   ]
  },
  {
   "cell_type": "code",
   "execution_count": 11,
   "metadata": {},
   "outputs": [],
   "source": [
    "# Preprocess HPT data\n",
    "hpt_counts = hpt_counts.set_index('gene_symbol').T\n",
    "hpt_counts.index.name = 'GSM'\n",
    "hpt_counts['hpt_label'] = hpt_metadata['hpt_label'].values\n",
    "hpt_counts.columns = [col if isinstance(col, str) else col[0] for col in hpt_counts.columns]\n"
   ]
  },
  {
   "cell_type": "code",
   "execution_count": 12,
   "metadata": {},
   "outputs": [],
   "source": [
    "# Preprocess HPTh data\n",
    "hpth_counts = hpth_counts.set_index('gene_symbol').T\n",
    "hpth_counts.index.name = 'GSM'\n",
    "hpth_counts['hpth_label'] = hpth_metadata['hpth_label'].values\n",
    "hpth_counts.columns = [col if isinstance(col, str) else col[0] for col in hpth_counts.columns]"
   ]
  },
  {
   "cell_type": "markdown",
   "metadata": {},
   "source": [
    "### **6. Check Data Quality and Save**\n",
    "Description: Perform quality checks on the datasets to ensure they are suitable for analysis.\n",
    "- **check_missing_values**: Identifies columns with missing values, which could impact model performance if not addressed.\n",
    "- **check_duplicates**: Detects duplicate rows, which could skew results if present.\n",
    "- Results are printed to assess the extent of missing values and duplicates for each dataset (PE, SLE, HPT, HPTh).\n",
    "- Save the datasets as CSV files for futureworks."
   ]
  },
  {
   "cell_type": "code",
   "execution_count": 13,
   "metadata": {},
   "outputs": [
    {
     "name": "stdout",
     "output_type": "stream",
     "text": [
      "PE Missing Values:\n",
      " Series([], dtype: int64)\n",
      "SLE Missing Values:\n",
      " Series([], dtype: int64)\n",
      "HPT Missing Values:\n",
      " Series([], dtype: int64)\n",
      "HPTh Missing Values:\n",
      " Series([], dtype: int64)\n"
     ]
    }
   ],
   "source": [
    "# Check for missing values\n",
    "def check_missing_values(df):\n",
    "    missing_values = df.isnull().sum()\n",
    "    return missing_values[missing_values > 0]\n",
    "pe_missing = check_missing_values(pe_counts)\n",
    "sle_missing = check_missing_values(sle_counts)\n",
    "hpt_missing = check_missing_values(hpt_counts)\n",
    "hpth_missing = check_missing_values(hpth_counts)\n",
    "print(\"PE Missing Values:\\n\", pe_missing)\n",
    "print(\"SLE Missing Values:\\n\", sle_missing)\n",
    "print(\"HPT Missing Values:\\n\", hpt_missing)\n",
    "print(\"HPTh Missing Values:\\n\", hpth_missing)\n"
   ]
  },
  {
   "cell_type": "code",
   "execution_count": 14,
   "metadata": {},
   "outputs": [
    {
     "name": "stdout",
     "output_type": "stream",
     "text": [
      "PE Duplicates: 0\n",
      "SLE Duplicates: 0\n",
      "HPT Duplicates: 0\n",
      "HPTh Duplicates: 0\n"
     ]
    }
   ],
   "source": [
    "# Check for duplicates\n",
    "def check_duplicates(df):\n",
    "    duplicates = df.duplicated().sum()\n",
    "    return duplicates\n",
    "pe_duplicates = check_duplicates(pe_counts)\n",
    "sle_duplicates = check_duplicates(sle_counts)\n",
    "hpt_duplicates = check_duplicates(hpt_counts)\n",
    "hpth_duplicates = check_duplicates(hpth_counts)\n",
    "print(\"PE Duplicates:\", pe_duplicates)\n",
    "print(\"SLE Duplicates:\", sle_duplicates)\n",
    "print(\"HPT Duplicates:\", hpt_duplicates)\n",
    "print(\"HPTh Duplicates:\", hpth_duplicates)"
   ]
  },
  {
   "cell_type": "code",
   "execution_count": 15,
   "metadata": {},
   "outputs": [],
   "source": [
    "# Save the processed datasets\n",
    "pe_counts.to_csv(\"PE_counts_processed.csv\")\n",
    "sle_counts.to_csv(\"SLE_counts_processed.csv\")\n",
    "hpt_counts.to_csv(\"HPT_counts_processed.csv\")\n",
    "hpth_counts.to_csv(\"HPTh_counts_processed.csv\")"
   ]
  },
  {
   "cell_type": "markdown",
   "metadata": {},
   "source": [
    "### **7. Separate Features and Labels**\n",
    "Description: Split each dataset into features (X) and labels (y) for machine learning.\n",
    "- **X**: Gene expression values used as input features (all columns except the label column).\n",
    "- **y**: Binary disease labels (0 or 1) used as the target variable.\n",
    "- Shapes of X and y are printed to verify the dimensions of the resulting datasets."
   ]
  },
  {
   "cell_type": "code",
   "execution_count": 16,
   "metadata": {},
   "outputs": [
    {
     "name": "stdout",
     "output_type": "stream",
     "text": [
      "PE X shape: (83, 35413)\n",
      "PE y shape: (83,)\n",
      "SLE X shape: (77, 28089)\n",
      "SLE y shape: (77,)\n",
      "HPT X shape: (30, 35413)\n",
      "HPT y shape: (30,)\n",
      "HPTh X shape: (9, 28125)\n",
      "HPTh y shape: (9,)\n"
     ]
    }
   ],
   "source": [
    "# Separate features and labels\n",
    "def separate_features_labels(df, label_col):\n",
    "    X = df.drop(columns=[label_col])\n",
    "    y = df[label_col]\n",
    "    return X, y\n",
    "pe_X, pe_y = separate_features_labels(pe_counts, 'pe_label')\n",
    "sle_X, sle_y = separate_features_labels(sle_counts, 'sle_label')\n",
    "hpt_X, hpt_y = separate_features_labels(hpt_counts, 'hpt_label')\n",
    "hpth_X, hpth_y = separate_features_labels(hpth_counts, 'hpth_label')\n",
    "\n",
    "# Print the shapes of the datasets\n",
    "print(\"PE X shape:\", pe_X.shape)\n",
    "print(\"PE y shape:\", pe_y.shape)\n",
    "print(\"SLE X shape:\", sle_X.shape)\n",
    "print(\"SLE y shape:\", sle_y.shape)\n",
    "print(\"HPT X shape:\", hpt_X.shape)\n",
    "print(\"HPT y shape:\", hpt_y.shape)\n",
    "print(\"HPTh X shape:\", hpth_X.shape)\n",
    "print(\"HPTh y shape:\", hpth_y.shape)"
   ]
  },
  {
   "cell_type": "markdown",
   "metadata": {},
   "source": [
    "### **8. Check Class Imbalance**\n",
    "Description: Assess the distribution of disease cases (1) and controls (0) in the labels.\n",
    "- Imbalanced classes (e.g., many more controls than cases) can bias the model.\n",
    "- **Function**: `check_class_imbalance` calculates the count of each class using `value_counts()`.\n",
    "- **Visualization**: Bar plots are created in a 2x2 grid to visually interpret the imbalance for PE, SLE, HPT, and HPTh."
   ]
  },
  {
   "cell_type": "code",
   "execution_count": 17,
   "metadata": {},
   "outputs": [
    {
     "name": "stdout",
     "output_type": "stream",
     "text": [
      "PE Class Counts:\n",
      " pe_label\n",
      "0    50\n",
      "1    33\n",
      "Name: count, dtype: int64\n",
      "SLE Class Counts:\n",
      " sle_label\n",
      "1    52\n",
      "0    25\n",
      "Name: count, dtype: int64\n",
      "HPT Class Counts:\n",
      " hpt_label\n",
      "1    19\n",
      "0    11\n",
      "Name: count, dtype: int64\n",
      "HPTh Class Counts:\n",
      " hpth_label\n",
      "0    6\n",
      "1    3\n",
      "Name: count, dtype: int64\n"
     ]
    }
   ],
   "source": [
    "# Check for class imbalance\n",
    "def check_class_imbalance(y):\n",
    "    class_counts = y.value_counts()\n",
    "    return class_counts\n",
    "pe_class_counts = check_class_imbalance(pe_y)\n",
    "sle_class_counts = check_class_imbalance(sle_y)\n",
    "hpt_class_counts = check_class_imbalance(hpt_y)\n",
    "hpth_class_counts = check_class_imbalance(hpth_y)\n",
    "print(\"PE Class Counts:\\n\", pe_class_counts)\n",
    "print(\"SLE Class Counts:\\n\", sle_class_counts)\n",
    "print(\"HPT Class Counts:\\n\", hpt_class_counts)\n",
    "print(\"HPTh Class Counts:\\n\", hpth_class_counts)"
   ]
  },
  {
   "cell_type": "code",
   "execution_count": 18,
   "metadata": {},
   "outputs": [
    {
     "data": {
      "image/png": "[encoded data removed]",
      "text/plain": [
       "<Figure size 1200x1000 with 4 Axes>"
      ]
     },
     "metadata": {},
     "output_type": "display_data"
    }
   ],
   "source": [
    "# Create a dictionary for easier iteration\n",
    "class_counts_dict = {\n",
    "    \"PE\": pe_class_counts,\n",
    "    \"SLE\": sle_class_counts,\n",
    "    \"HPT\": hpt_class_counts,\n",
    "    \"HPTh\": hpth_class_counts\n",
    "}\n",
    "\n",
    "# Create subplots (2x2 grid)\n",
    "fig, axs = plt.subplots(2, 2, figsize=(12, 10))\n",
    "axs = axs.flatten()\n",
    "\n",
    "for ax, (name, counts) in zip(axs, class_counts_dict.items()):\n",
    "    counts.plot(kind=\"bar\", ax=ax)\n",
    "    ax.set_title(f\"{name} Class Imbalance\")\n",
    "    ax.set_xlabel(\"Class\")\n",
    "    ax.set_ylabel(\"Count\")\n",
    "    ax.set_ylim(0, counts.max() * 1.1)\n",
    "\n",
    "plt.tight_layout()\n",
    "plt.show()"
   ]
  },
  {
   "cell_type": "markdown",
   "metadata": {},
   "source": [
    "### **9. Scale Features**\n",
    "Description: Standardize the gene expression features to have a mean of 0 and variance of 1.\n",
    "- **StandardScaler**: Used to transform the data, ensuring all features contribute equally to the model and preventing dominance by features with larger scales.\n",
    "- Scaled feature shapes are printed to confirm consistency with the original data."
   ]
  },
  {
   "cell_type": "code",
   "execution_count": 19,
   "metadata": {},
   "outputs": [
    {
     "name": "stdout",
     "output_type": "stream",
     "text": [
      "PE X scaled shape: (83, 35413)\n",
      "SLE X scaled shape: (77, 28089)\n",
      "HPT X scaled shape: (30, 35413)\n",
      "HPTh X scaled shape: (9, 28125)\n"
     ]
    }
   ],
   "source": [
    "# Scale the features\n",
    "def scale_features(X):\n",
    "    scaler = StandardScaler()\n",
    "    X_scaled = scaler.fit_transform(X)\n",
    "    return X_scaled\n",
    "pe_X_scaled = scale_features(pe_X)\n",
    "sle_X_scaled = scale_features(sle_X)\n",
    "hpt_X_scaled = scale_features(hpt_X)\n",
    "hpth_X_scaled = scale_features(hpth_X)\n",
    "# Print the shapes of the scaled datasets\n",
    "print(\"PE X scaled shape:\", pe_X_scaled.shape)\n",
    "print(\"SLE X scaled shape:\", sle_X_scaled.shape)\n",
    "print(\"HPT X scaled shape:\", hpt_X_scaled.shape)\n",
    "print(\"HPTh X scaled shape:\", hpth_X_scaled.shape)"
   ]
  },
  {
   "cell_type": "markdown",
   "metadata": {},
   "source": [
    "### **10. Train-Test Split**\n",
    "Description: Divide each dataset into training and testing sets to evaluate model performance.\n",
    "- **Split**: 80% of data for training, 20% for testing (test_size=0.2).\n",
    "- **random_state=42**: Ensures reproducibility of the split.\n",
    "- Shapes of training and testing sets are printed for verification."
   ]
  },
  {
   "cell_type": "code",
   "execution_count": 20,
   "metadata": {},
   "outputs": [
    {
     "name": "stdout",
     "output_type": "stream",
     "text": [
      "PE X_train shape: (66, 35413)\n",
      "PE X_test shape: (17, 35413)\n",
      "PE y_train shape: (66,)\n",
      "PE y_test shape: (17,)\n",
      "SLE X_train shape: (61, 28089)\n",
      "SLE X_test shape: (16, 28089)\n",
      "SLE y_train shape: (61,)\n",
      "SLE y_test shape: (16,)\n",
      "HPT X_train shape: (24, 35413)\n",
      "HPT X_test shape: (6, 35413)\n",
      "HPT y_train shape: (24,)\n",
      "HPT y_test shape: (6,)\n",
      "HPTh X_train shape: (7, 28125)\n",
      "HPTh X_test shape: (2, 28125)\n",
      "HPTh y_train shape: (7,)\n",
      "HPTh y_test shape: (2,)\n"
     ]
    }
   ],
   "source": [
    "# Train-test split\n",
    "def train_test_split_data(X, y, test_size=0.2, random_state=42):\n",
    "    X_train, X_test, y_train, y_test = train_test_split(X, y, test_size=test_size, random_state=random_state)\n",
    "    return X_train, X_test, y_train, y_test\n",
    "pe_X_train, pe_X_test, pe_y_train, pe_y_test = train_test_split_data(pe_X_scaled, pe_y)\n",
    "sle_X_train, sle_X_test, sle_y_train, sle_y_test = train_test_split_data(sle_X_scaled, sle_y)\n",
    "hpt_X_train, hpt_X_test, hpt_y_train, hpt_y_test = train_test_split_data(hpt_X_scaled, hpt_y)\n",
    "hpth_X_train, hpth_X_test, hpth_y_train, hpth_y_test = train_test_split_data(hpth_X_scaled, hpth_y)\n",
    "# Print the shapes of the train-test split datasets\n",
    "print(\"PE X_train shape:\", pe_X_train.shape)\n",
    "print(\"PE X_test shape:\", pe_X_test.shape)\n",
    "print(\"PE y_train shape:\", pe_y_train.shape)\n",
    "print(\"PE y_test shape:\", pe_y_test.shape)\n",
    "print(\"SLE X_train shape:\", sle_X_train.shape)\n",
    "print(\"SLE X_test shape:\", sle_X_test.shape)\n",
    "print(\"SLE y_train shape:\", sle_y_train.shape)\n",
    "print(\"SLE y_test shape:\", sle_y_test.shape)\n",
    "print(\"HPT X_train shape:\", hpt_X_train.shape)\n",
    "print(\"HPT X_test shape:\", hpt_X_test.shape)\n",
    "print(\"HPT y_train shape:\", hpt_y_train.shape)\n",
    "print(\"HPT y_test shape:\", hpt_y_test.shape)\n",
    "print(\"HPTh X_train shape:\", hpth_X_train.shape)\n",
    "print(\"HPTh X_test shape:\", hpth_X_test.shape)\n",
    "print(\"HPTh y_train shape:\", hpth_y_train.shape)\n",
    "print(\"HPTh y_test shape:\", hpth_y_test.shape)"
   ]
  },
  {
   "cell_type": "markdown",
   "metadata": {},
   "source": [
    "### **11. Train Random Forest Classifier**\n",
    "Description: Train a Random Forest Classifier on the training data to predict disease states.\n",
    "- **Random Forest**: An ensemble method that builds multiple decision trees and aggregates their predictions.\n",
    "- **random_state=42**: Ensures consistent results across runs.\n",
    "- A separate model is trained for each disease (PE, SLE, HPT, HPTh)."
   ]
  },
  {
   "cell_type": "code",
   "execution_count": 21,
   "metadata": {},
   "outputs": [],
   "source": [
    "# Train Random Forest Classifier\n",
    "def train_random_forest(X_train, y_train):\n",
    "    rf = RandomForestClassifier(random_state=42)\n",
    "    rf.fit(X_train, y_train)\n",
    "    return rf\n",
    "pe_rf = train_random_forest(pe_X_train, pe_y_train)\n",
    "sle_rf = train_random_forest(sle_X_train, sle_y_train)\n",
    "hpt_rf = train_random_forest(hpt_X_train, hpt_y_train)\n",
    "hpth_rf = train_random_forest(hpth_X_train, hpth_y_train)\n"
   ]
  },
  {
   "cell_type": "markdown",
   "metadata": {},
   "source": [
    "### **12. Evaluate Models**\n",
    "Description: Assess model performance on the test set using accuracy and detailed metrics.\n",
    "- **Accuracy**: Measures the proportion of correct predictions.\n",
    "- **Classification Report**: Provides precision, recall, and F1-score for a comprehensive evaluation.\n",
    "- **Warnings**: Filtered to avoid unnecessary output during evaluation.\n",
    "- Results are printed for each disease model."
   ]
  },
  {
   "cell_type": "code",
   "execution_count": 22,
   "metadata": {},
   "outputs": [
    {
     "name": "stdout",
     "output_type": "stream",
     "text": [
      "PE Model Evaluation:\n",
      "PE Accuracy: 0.7058823529411765\n",
      "PE Classification Report:\n",
      "               precision    recall  f1-score   support\n",
      "\n",
      "           0       0.82      0.75      0.78        12\n",
      "           1       0.50      0.60      0.55         5\n",
      "\n",
      "    accuracy                           0.71        17\n",
      "   macro avg       0.66      0.68      0.66        17\n",
      "weighted avg       0.72      0.71      0.71        17\n",
      "\n",
      "SLE Model Evaluation:\n",
      "SLE Accuracy: 1.0\n",
      "SLE Classification Report:\n",
      "               precision    recall  f1-score   support\n",
      "\n",
      "           0       1.00      1.00      1.00         7\n",
      "           1       1.00      1.00      1.00         9\n",
      "\n",
      "    accuracy                           1.00        16\n",
      "   macro avg       1.00      1.00      1.00        16\n",
      "weighted avg       1.00      1.00      1.00        16\n",
      "\n",
      "HPT Model Evaluation:\n",
      "HPT Accuracy: 1.0\n",
      "HPT Classification Report:\n",
      "               precision    recall  f1-score   support\n",
      "\n",
      "           0       1.00      1.00      1.00         2\n",
      "           1       1.00      1.00      1.00         4\n",
      "\n",
      "    accuracy                           1.00         6\n",
      "   macro avg       1.00      1.00      1.00         6\n",
      "weighted avg       1.00      1.00      1.00         6\n",
      "\n",
      "HPTh Model Evaluation:\n",
      "HPTh Accuracy: 0.5\n",
      "HPTh Classification Report:\n",
      "               precision    recall  f1-score   support\n",
      "\n",
      "           0       0.00      0.00      0.00         1\n",
      "           1       0.50      1.00      0.67         1\n",
      "\n",
      "    accuracy                           0.50         2\n",
      "   macro avg       0.25      0.50      0.33         2\n",
      "weighted avg       0.25      0.50      0.33         2\n",
      "\n"
     ]
    }
   ],
   "source": [
    "import warnings\n",
    "warnings.filterwarnings(\"ignore\", category=UserWarning, module=\"sklearn\")\n",
    "\n",
    "\n",
    "# Evaluate the model\n",
    "def evaluate_model(model, X_test, y_test):\n",
    "    y_pred = model.predict(X_test)\n",
    "    accuracy = accuracy_score(y_test, y_pred)\n",
    "    report = classification_report(y_test, y_pred)\n",
    "    return accuracy, report\n",
    "pe_accuracy, pe_report = evaluate_model(pe_rf, pe_X_test, pe_y_test)\n",
    "sle_accuracy, sle_report = evaluate_model(sle_rf, sle_X_test, sle_y_test)\n",
    "hpt_accuracy, hpt_report = evaluate_model(hpt_rf, hpt_X_test, hpt_y_test)\n",
    "hpth_accuracy, hpth_report = evaluate_model(hpth_rf, hpth_X_test, hpth_y_test)\n",
    "# Print the evaluation results\n",
    "print(\"PE Model Evaluation:\")\n",
    "print(\"PE Accuracy:\", pe_accuracy)\n",
    "print(\"PE Classification Report:\\n\", pe_report)\n",
    "print(\"SLE Model Evaluation:\")\n",
    "print(\"SLE Accuracy:\", sle_accuracy)\n",
    "print(\"SLE Classification Report:\\n\", sle_report)\n",
    "print(\"HPT Model Evaluation:\")\n",
    "print(\"HPT Accuracy:\", hpt_accuracy)\n",
    "print(\"HPT Classification Report:\\n\", hpt_report)\n",
    "print(\"HPTh Model Evaluation:\")\n",
    "print(\"HPTh Accuracy:\", hpth_accuracy)\n",
    "print(\"HPTh Classification Report:\\n\", hpth_report)"
   ]
  },
  {
   "cell_type": "markdown",
   "metadata": {},
   "source": [
    "### **13. Cross-Validation**\n",
    "Description: Perform 5-fold cross-validation to evaluate model robustness and generalizability.\n",
    "- **Process**: The dataset is split into 5 parts; the model trains on 4 and tests on 1, repeating for all combinations.\n",
    "- **Mean Score**: Provides a reliable estimate of performance across different data subsets.\n",
    "- Cross-validation scores are printed as the mean for each disease."
   ]
  },
  {
   "cell_type": "code",
   "execution_count": 23,
   "metadata": {},
   "outputs": [
    {
     "name": "stdout",
     "output_type": "stream",
     "text": [
      "PE Cross-validation scores: 0.7691176470588236\n",
      "SLE Cross-validation scores: 0.8950000000000001\n",
      "HPT Cross-validation scores: 0.9333333333333333\n",
      "HPTh Cross-validation scores: 0.8\n"
     ]
    }
   ],
   "source": [
    "# Cross-validation\n",
    "def cross_validate_model(model, X, y, cv=5):\n",
    "    scores = cross_val_score(model, X, y, cv=cv)\n",
    "    return scores\n",
    "pe_cv_scores = cross_validate_model(pe_rf, pe_X_scaled, pe_y)\n",
    "sle_cv_scores = cross_validate_model(sle_rf, sle_X_scaled, sle_y)\n",
    "hpt_cv_scores = cross_validate_model(hpt_rf, hpt_X_scaled, hpt_y)\n",
    "hpth_cv_scores = cross_validate_model(hpth_rf, hpth_X_scaled, hpth_y)\n",
    "# Print the cross-validation scores\n",
    "print(\"PE Cross-validation scores:\", pe_cv_scores.mean())\n",
    "print(\"SLE Cross-validation scores:\", sle_cv_scores.mean())\n",
    "print(\"HPT Cross-validation scores:\", hpt_cv_scores.mean())\n",
    "print(\"HPTh Cross-validation scores:\", hpth_cv_scores.mean())"
   ]
  },
  {
   "cell_type": "markdown",
   "metadata": {},
   "source": [
    "### **14. Visualize Model Metrics**\n",
    "Description: Create a bar plot to compare performance metrics (accuracy, precision, recall, F1-score) across all disease models.\n",
    "- **Metrics**: Computed for each disease using the test set predictions.\n",
    "- **Visualization**: A grouped bar plot displays the metrics, aiding in understanding model strengths and weaknesses.\n",
    "- Axes are labeled, and a grid is added for clarity."
   ]
  },
  {
   "cell_type": "code",
   "execution_count": 24,
   "metadata": {},
   "outputs": [
    {
     "data": {
      "image/png": "[encoded data removed]",
      "text/plain": [
       "<Figure size 1000x600 with 1 Axes>"
      ]
     },
     "metadata": {},
     "output_type": "display_data"
    }
   ],
   "source": [
    "# Define a dictionary for the datasets (test sets and models)\n",
    "datasets = {\n",
    "    \"PE\": (pe_rf, pe_X_test, pe_y_test),\n",
    "    \"SLE\": (sle_rf, sle_X_test, sle_y_test),\n",
    "    \"HPT\": (hpt_rf, hpt_X_test, hpt_y_test),\n",
    "    \"HPTh\": (hpth_rf, hpth_X_test, hpth_y_test)\n",
    "}\n",
    "\n",
    "# Compute metrics for each dataset\n",
    "metrics = {}\n",
    "for name, (model, X_test, y_test) in datasets.items():\n",
    "    y_pred = model.predict(X_test)\n",
    "    acc = accuracy_score(y_test, y_pred)\n",
    "    prec = precision_score(y_test, y_pred, average='binary')\n",
    "    rec = recall_score(y_test, y_pred, average='binary')\n",
    "    f1 = f1_score(y_test, y_pred, average='binary')\n",
    "    metrics[name] = {\"Accuracy\": acc, \"Precision\": prec, \"Recall\": rec, \"F1\": f1}\n",
    "\n",
    "# Create a DataFrame from the metrics dictionary\n",
    "metrics_df = pd.DataFrame(metrics).T\n",
    "\n",
    "# Plot the metrics as a grouped barplot\n",
    "ax = metrics_df.plot(kind=\"bar\", figsize=(10,6))\n",
    "ax.set_ylim(0, 1)\n",
    "plt.title(\"Model Metrics\")\n",
    "plt.ylabel(\"Score\")\n",
    "plt.xticks(rotation=0)\n",
    "plt.legend(title=\"Metric\")\n",
    "plt.grid(axis='y')\n",
    "plt.tight_layout()\n",
    "plt.show()"
   ]
  },
  {
   "cell_type": "markdown",
   "metadata": {},
   "source": [
    "### **15. Extract Feature Importances**\n",
    "Description: Identify the most influential genes (features) in the Random Forest models for each disease.\n",
    "- **Feature Importance**: Scores indicate each gene's contribution to the classification.\n",
    "- **Filtering**: Only genes with non-zero importance are retained.\n",
    "- Results are printed, including the total number of important features for each disease."
   ]
  },
  {
   "cell_type": "code",
   "execution_count": 25,
   "metadata": {},
   "outputs": [
    {
     "name": "stdout",
     "output_type": "stream",
     "text": [
      "PE Feature Importances:\n",
      " S100A10      0.013368\n",
      "FMO5         0.012978\n",
      "PTPRR        0.012074\n",
      "MYLK3        0.012008\n",
      "GXYLT1P4     0.010135\n",
      "               ...   \n",
      "WIPF3        0.000341\n",
      "F2           0.000325\n",
      "CBARP        0.000304\n",
      "RN7SL685P    0.000286\n",
      "HIF1AN       0.000285\n",
      "Length: 426, dtype: float64\n",
      "Total Number of Features for PE: 426\n",
      "SLE Feature Importances:\n",
      " BTG1            0.027820\n",
      "ARRDC3          0.016707\n",
      "GAS2L1          0.016026\n",
      "NFKBIA          0.015937\n",
      "LOC102723692    0.015729\n",
      "                  ...   \n",
      "GOLGA1          0.000558\n",
      "PROX2           0.000545\n",
      "ITIH6           0.000525\n",
      "NLN             0.000394\n",
      "SNORA68         0.000376\n",
      "Length: 250, dtype: float64\n",
      "Total Number of Features for SLE: 250\n",
      "HPT Feature Importances:\n",
      " LUM       0.021600\n",
      "OGN       0.020000\n",
      "S1PR4     0.020000\n",
      "PDHB      0.010000\n",
      "PTGFR     0.010000\n",
      "            ...   \n",
      "EIF1AX    0.001538\n",
      "MS4A2     0.001538\n",
      "LIMA1     0.001538\n",
      "ID3       0.001538\n",
      "SCARF1    0.001538\n",
      "Length: 136, dtype: float64\n",
      "Total Number of Features for HPT: 136\n",
      "HPTh Feature Importances:\n",
      " GHITM        0.022222\n",
      "R3HDM4       0.011111\n",
      "PLCB3        0.011111\n",
      "MRPL49       0.011111\n",
      "PBX2         0.011111\n",
      "               ...   \n",
      "HIST1H2AL    0.011111\n",
      "EIPR1        0.011111\n",
      "GP1BA        0.011111\n",
      "AOC3         0.011111\n",
      "KCNG4        0.011111\n",
      "Length: 89, dtype: float64\n",
      "Total Number of Features for HPTh: 89\n"
     ]
    }
   ],
   "source": [
    "# Feature importances with non-zero values in series\n",
    "def get_feature_importances(model, feature_names):\n",
    "    importances = model.feature_importances_\n",
    "    indices = np.argsort(importances)[::-1]\n",
    "    feature_importances = pd.Series(importances[indices], index=feature_names[indices])\n",
    "    return feature_importances[feature_importances > 0]\n",
    "pe_feature_importances = get_feature_importances(pe_rf, pe_X.columns)\n",
    "sle_feature_importances = get_feature_importances(sle_rf, sle_X.columns)\n",
    "hpt_feature_importances = get_feature_importances(hpt_rf, hpt_X.columns)\n",
    "hpth_feature_importances = get_feature_importances(hpth_rf, hpth_X.columns)\n",
    "# Print the feature importances\n",
    "print(\"PE Feature Importances:\\n\", pe_feature_importances)\n",
    "print(\"Total Number of Features for PE:\", len(pe_feature_importances))\n",
    "print(\"SLE Feature Importances:\\n\", sle_feature_importances)\n",
    "print(\"Total Number of Features for SLE:\", len(sle_feature_importances))\n",
    "print(\"HPT Feature Importances:\\n\", hpt_feature_importances)\n",
    "print(\"Total Number of Features for HPT:\", len(hpt_feature_importances))\n",
    "print(\"HPTh Feature Importances:\\n\", hpth_feature_importances)\n",
    "print(\"Total Number of Features for HPTh:\", len(hpth_feature_importances))\n"
   ]
  },
  {
   "cell_type": "markdown",
   "metadata": {},
   "source": [
    "### **16. Identify Common Biomarkers**\n",
    "Description: Find genes that are important across multiple disease models by intersecting their important features.\n",
    "- **Pairwise Intersection**: Identifies common biomarkers between pairs of diseases (e.g., PE and SLE, PE and HPT).\n",
    "- **All-Disease Intersection**: Identifies biomarkers common to PE, SLE, HPT, and HPTh.\n",
    "- Results are printed as lists of common genes and their counts, suggesting potential shared biological mechanisms."
   ]
  },
  {
   "cell_type": "code",
   "execution_count": 26,
   "metadata": {},
   "outputs": [
    {
     "name": "stdout",
     "output_type": "stream",
     "text": [
      "Common Biomarkers between PE and SLE:\n",
      " ['S100A10', 'CTTN', 'KIF11', 'IL6ST', 'LINC-PINT', 'CSNK2B', 'GFRA3', 'HERPUD1', 'DXO']\n",
      "Number of Common Biomarkers between PE and SLE: 9\n"
     ]
    }
   ],
   "source": [
    "# Common biomarkers between PE and SLE\n",
    "def get_common_biomarkers(pe_importances, sle_importances):\n",
    "    common_biomarkers = pe_importances.index.intersection(sle_importances.index)\n",
    "    return common_biomarkers\n",
    "pe_sle_common_biomarkers = get_common_biomarkers(pe_feature_importances, sle_feature_importances)\n",
    "print(\"Common Biomarkers between PE and SLE:\\n\", list(pe_sle_common_biomarkers))\n",
    "# Print the number of common biomarkers\n",
    "print(\"Number of Common Biomarkers between PE and SLE:\", len(pe_sle_common_biomarkers))"
   ]
  },
  {
   "cell_type": "code",
   "execution_count": 27,
   "metadata": {},
   "outputs": [
    {
     "name": "stdout",
     "output_type": "stream",
     "text": [
      "Common Biomarkers between PE and HPT:\n",
      " ['MFAP5', 'TRAM2-AS1', 'BTNL9', 'IKZF3']\n",
      "Number of Common Biomarkers between PE and HPT: 4\n"
     ]
    }
   ],
   "source": [
    "# Common biomarkers between PE and HPT\n",
    "pe_hpt_common_biomarkers = get_common_biomarkers(pe_feature_importances, hpt_feature_importances)\n",
    "print(\"Common Biomarkers between PE and HPT:\\n\", list(pe_hpt_common_biomarkers))\n",
    "# Print the number of common biomarkers\n",
    "print(\"Number of Common Biomarkers between PE and HPT:\", len(pe_hpt_common_biomarkers))"
   ]
  },
  {
   "cell_type": "code",
   "execution_count": 28,
   "metadata": {},
   "outputs": [
    {
     "name": "stdout",
     "output_type": "stream",
     "text": [
      "Common Biomarkers between PE and HPTh:\n",
      " []\n",
      "Number of Common Biomarkers between PE and HPTh: 0\n"
     ]
    }
   ],
   "source": [
    "# Common biomarkers between PE and HPTh\n",
    "pe_hpth_common_biomarkers = get_common_biomarkers(pe_feature_importances, hpth_feature_importances)\n",
    "print(\"Common Biomarkers between PE and HPTh:\\n\", list(pe_hpth_common_biomarkers))\n",
    "# Print the number of common biomarkers\n",
    "print(\"Number of Common Biomarkers between PE and HPTh:\", len(pe_hpth_common_biomarkers))"
   ]
  },
  {
   "cell_type": "code",
   "execution_count": 29,
   "metadata": {},
   "outputs": [
    {
     "name": "stdout",
     "output_type": "stream",
     "text": [
      "Common Biomarkers between SLE and HPT:\n",
      " ['TAGAP', 'CTSO']\n",
      "Number of Common Biomarkers between SLE and HPT: 2\n"
     ]
    }
   ],
   "source": [
    "# Common biomarkers between SLE and HPT\n",
    "sle_hpt_common_biomarkers = get_common_biomarkers(sle_feature_importances, hpt_feature_importances)\n",
    "print(\"Common Biomarkers between SLE and HPT:\\n\", list(sle_hpt_common_biomarkers))\n",
    "# Print the number of common biomarkers\n",
    "print(\"Number of Common Biomarkers between SLE and HPT:\", len(sle_hpt_common_biomarkers))"
   ]
  },
  {
   "cell_type": "code",
   "execution_count": 30,
   "metadata": {},
   "outputs": [
    {
     "name": "stdout",
     "output_type": "stream",
     "text": [
      "Common Biomarkers between SLE and HPTh:\n",
      " ['PSMB8-AS1']\n",
      "Number of Common Biomarkers between SLE and HPTh: 1\n"
     ]
    }
   ],
   "source": [
    "# Common biomarkers between SLE and HPTh\n",
    "sle_hpth_common_biomarkers = get_common_biomarkers(sle_feature_importances, hpth_feature_importances)\n",
    "print(\"Common Biomarkers between SLE and HPTh:\\n\", list(sle_hpth_common_biomarkers))\n",
    "# Print the number of common biomarkers\n",
    "print(\"Number of Common Biomarkers between SLE and HPTh:\", len(sle_hpth_common_biomarkers))"
   ]
  },
  {
   "cell_type": "code",
   "execution_count": 31,
   "metadata": {},
   "outputs": [
    {
     "name": "stdout",
     "output_type": "stream",
     "text": [
      "Common Biomarkers between HPT and HPTh:\n",
      " ['AOC3', 'HRH1']\n",
      "Number of Common Biomarkers between HPT and HPTh: 2\n"
     ]
    }
   ],
   "source": [
    "# Common biomarkers between HPT and HPTh\n",
    "hpt_hpth_common_biomarkers = get_common_biomarkers(hpt_feature_importances, hpth_feature_importances)\n",
    "print(\"Common Biomarkers between HPT and HPTh:\\n\", list(hpt_hpth_common_biomarkers))\n",
    "# Print the number of common biomarkers\n",
    "print(\"Number of Common Biomarkers between HPT and HPTh:\", len(hpt_hpth_common_biomarkers))"
   ]
  },
  {
   "cell_type": "code",
   "execution_count": 32,
   "metadata": {},
   "outputs": [
    {
     "name": "stdout",
     "output_type": "stream",
     "text": [
      "Common Biomarkers between PE, SLE, HPT, and HPTh:\n",
      " []\n",
      "Number of Common Biomarkers between PE, SLE, HPT, and HPTh: 0\n"
     ]
    }
   ],
   "source": [
    "# Common biomarkers between PE, SLE, HPT, and HPTh\n",
    "def get_common_biomarkers_all(pe_importances, sle_importances, hpt_importances, hpth_importances):\n",
    "    common_biomarkers = pe_importances.index.intersection(sle_importances.index).intersection(hpt_importances.index).intersection(hpth_importances.index)\n",
    "    return common_biomarkers\n",
    "pe_sle_hpt_hpth_common_biomarkers = get_common_biomarkers_all(pe_feature_importances, sle_feature_importances, hpt_feature_importances, hpth_feature_importances)\n",
    "print(\"Common Biomarkers between PE, SLE, HPT, and HPTh:\\n\", list(pe_sle_hpt_hpth_common_biomarkers))\n",
    "# Print the number of common biomarkers\n",
    "print(\"Number of Common Biomarkers between PE, SLE, HPT, and HPTh:\", len(pe_sle_hpt_hpth_common_biomarkers))"
   ]
  }
 ],
 "metadata": {
  "kernelspec": {
   "display_name": "sajid",
   "language": "python",
   "name": "python3"
  },
  "language_info": {
   "codemirror_mode": {
    "name": "ipython",
    "version": 3
   },
   "file_extension": ".py",
   "mimetype": "text/x-python",
   "name": "python",
   "nbconvert_exporter": "python",
   "pygments_lexer": "ipython3",
   "version": "3.12.6"
  }
 },
 "nbformat": 4,
 "nbformat_minor": 2
}

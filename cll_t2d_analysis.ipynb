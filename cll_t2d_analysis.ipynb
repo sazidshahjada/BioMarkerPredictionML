{
 "cells": [
  {
   "cell_type": "markdown",
   "metadata": {},
   "source": [
    "### **1. Import Libraries**\n",
    "Description: Import necessary Python libraries for data manipulation, machine learning, and visualization.\n",
    "- **pandas**: Used for handling and manipulating structured data (e.g., DataFrames).\n",
    "- **numpy**: Provides support for numerical operations and array handling.\n",
    "- **matplotlib.pyplot**: Enables plotting and visualization of results (e.g., class imbalance, metrics).\n",
    "- **sklearn** modules: Provide tools for preprocessing (StandardScaler), model training (RandomForestClassifier),\n",
    "    evaluation (accuracy_score, classification_report, etc.), and data splitting (train_test_split)."
   ]
  },
  {
   "cell_type": "code",
   "execution_count": 21,
   "metadata": {},
   "outputs": [],
   "source": [
    "import pandas as pd\n",
    "import numpy as np\n",
    "import matplotlib.pyplot as plt\n",
    "from sklearn.model_selection import train_test_split, cross_val_score\n",
    "from sklearn.preprocessing import StandardScaler\n",
    "from sklearn.ensemble import RandomForestClassifier\n",
    "from sklearn.metrics import accuracy_score, classification_report, precision_score, recall_score, f1_score"
   ]
  },
  {
   "cell_type": "markdown",
   "metadata": {},
   "source": [
    "### **2. Define Data Paths**\n",
    "Description: Store file paths to the gene expression counts data and metadata for CLL and T2D in a dictionary.\n",
    "This centralizes file references, making it easier to manage and update paths if needed."
   ]
  },
  {
   "cell_type": "code",
   "execution_count": 22,
   "metadata": {},
   "outputs": [],
   "source": [
    "data_paths = {\n",
    "    \"cll_counts\": \"data/Countsdata/GSE70830_counts_data.csv\",\n",
    "    \"cll_metadata\": \"data/Metadata/GSE70830_metadata.csv\",\n",
    "    \"t2d_counts\": \"data/Countsdata/GSE159984_counts_data.csv\",\n",
    "    \"t2d_metadata\": \"data/Metadata/GSE159984_metadata.csv\",\n",
    "}"
   ]
  },
  {
   "cell_type": "markdown",
   "metadata": {},
   "source": [
    "### **3. Load Datasets**\n",
    "Description: Load the gene expression counts data and metadata from CSV files into pandas DataFrames.\n",
    "- Counts data contains gene expression levels for each sample.\n",
    "- Metadata includes sample information (e.g., disease condition).\n",
    "- index_col=0 sets the first column as the DataFrame index (e.g., gene symbols or sample IDs)."
   ]
  },
  {
   "cell_type": "code",
   "execution_count": 23,
   "metadata": {},
   "outputs": [],
   "source": [
    "# Load CLL dataset\n",
    "cll_counts = pd.read_csv(data_paths[\"cll_counts\"], index_col=0)\n",
    "cll_metadata = pd.read_csv(data_paths[\"cll_metadata\"])\n",
    "\n",
    "# Load T2D dataset\n",
    "t2d_counts = pd.read_csv(data_paths[\"t2d_counts\"], index_col=0)\n",
    "t2d_metadata = pd.read_csv(data_paths[\"t2d_metadata\"])"
   ]
  },
  {
   "cell_type": "markdown",
   "metadata": {},
   "source": [
    "### **4. Label Metadata**\n",
    "Description: Assign binary labels to metadata based on the \"Condition\" column to indicate disease state.\n",
    "- 1 represents \"Case\" (disease present, e.g., CLL or T2D).\n",
    "- 0 represents \"Control\" (healthy, no disease).\n",
    "\n",
    "A lambda function is applied to create a new column with these labels."
   ]
  },
  {
   "cell_type": "code",
   "execution_count": 24,
   "metadata": {},
   "outputs": [],
   "source": [
    "# Label CLL metadata\n",
    "cll_metadata[\"cll_label\"] = cll_metadata[\"Condition\"].apply(lambda x: 1 if x == \"Case\" else 0)\n",
    "# Label T2D metadata\n",
    "t2d_metadata[\"t2d_label\"] = t2d_metadata[\"Condition\"].apply(lambda x: 1 if x == \"Case\" else 0)"
   ]
  },
  {
   "cell_type": "markdown",
   "metadata": {},
   "source": [
    "### **5. Preprocess Counts Data**\n",
    "#Description: Transform the counts data into a suitable format for analysis.\n",
    "- Set **'gene_symbol'** as the index to organize data by genes.\n",
    "- Transpose the DataFrame so samples are rows and genes are columns, aligning with typical machine learning input.\n",
    "- Name the index **'GSM'** to represent sample IDs.\n",
    "- Add disease labels from metadata to the counts DataFrame.\n",
    "- Ensure column names are strings, handling cases where they might be tuples or other types."
   ]
  },
  {
   "cell_type": "code",
   "execution_count": 25,
   "metadata": {},
   "outputs": [],
   "source": [
    "# Preprocess CLL data\n",
    "cll_counts = cll_counts.set_index('gene_symbol').T\n",
    "cll_counts.index.name = 'GSM'\n",
    "cll_counts['cll_label'] = cll_metadata['cll_label'].values\n",
    "cll_counts.columns = [col if isinstance(col, str) else col[0] for col in cll_counts.columns]\n",
    "\n",
    "# Preprocess T2D data\n",
    "t2d_counts = t2d_counts.set_index('gene_symbol').T\n",
    "t2d_counts.indexname = 'GSM'\n",
    "t2d_counts['t2d_label'] = t2d_metadata['t2d_label'].values\n",
    "t2d_counts.columns = [col if isinstance(col, str) else col[0] for col in t2d_counts.columns]"
   ]
  },
  {
   "cell_type": "markdown",
   "metadata": {},
   "source": [
    "### **6. Check Data Quality and Save**\n",
    "Description: Perform quality checks on the datasets to ensure they are suitable for analysis.\n",
    "- **check_missing_values:** Identifies columns with missing values, which could affect model performance if not handled.\n",
    "- **check_duplicates:** Detects duplicate rows, which could skew results if present.\n",
    "- Save the preprocessed dataset for future works"
   ]
  },
  {
   "cell_type": "code",
   "execution_count": 26,
   "metadata": {},
   "outputs": [
    {
     "name": "stdout",
     "output_type": "stream",
     "text": [
      "CLL Missing Values:\n",
      " Series([], dtype: int64)\n",
      "T2D Missing Values:\n",
      " Series([], dtype: int64)\n",
      "CLL Duplicates: 0\n",
      "T2D Duplicates: 0\n"
     ]
    }
   ],
   "source": [
    "# Check for missing values\n",
    "def check_missing_values(df):\n",
    "    missing_values = df.isnull().sum()\n",
    "    return missing_values[missing_values > 0]\n",
    "\n",
    "cll_missing = check_missing_values(cll_counts)\n",
    "t2d_missing = check_missing_values(t2d_counts)\n",
    "print(\"CLL Missing Values:\\n\", cll_missing)\n",
    "print(\"T2D Missing Values:\\n\", t2d_missing)\n",
    "\n",
    "# Check for duplicates\n",
    "def check_duplicates(df):\n",
    "    duplicates = df.duplicated().sum()\n",
    "    return duplicates\n",
    "\n",
    "cll_duplicates = check_duplicates(cll_counts)\n",
    "t2d_duplicates = check_duplicates(t2d_counts)\n",
    "print(\"CLL Duplicates:\", cll_duplicates)\n",
    "print(\"T2D Duplicates:\", t2d_duplicates)"
   ]
  },
  {
   "cell_type": "code",
   "execution_count": 27,
   "metadata": {},
   "outputs": [],
   "source": [
    "# Save the dataframes to CSV\n",
    "cll_counts.to_csv(\"processed_cll_counts.csv\")\n",
    "t2d_counts.to_csv(\"processed_t2d_counts.csv\")"
   ]
  },
  {
   "cell_type": "markdown",
   "metadata": {},
   "source": [
    "### **7. Separate Features and Labels**\n",
    "Description: Split the dataset into features (X) and labels (y) for machine learning.\n",
    "- X: Gene expression values used as input features.\n",
    "- y: Binary disease labels (0 or 1) used as the target variable."
   ]
  },
  {
   "cell_type": "code",
   "execution_count": 28,
   "metadata": {},
   "outputs": [],
   "source": [
    "def separate_features_labels(df, label_col):\n",
    "    X = df.drop(columns=[label_col])\n",
    "    y = df[label_col]\n",
    "    return X, y\n",
    "\n",
    "cll_X, cll_y = separate_features_labels(cll_counts, 'cll_label')\n",
    "t2d_X, t2d_y = separate_features_labels(t2d_counts, 't2d_label')"
   ]
  },
  {
   "cell_type": "markdown",
   "metadata": {},
   "source": [
    "### **8. Check Class Imbalance**\n",
    "Description: Assess the distribution of disease cases (1) and controls (0) in the labels.\n",
    "- Imbalanced classes (e.g., many more controls than cases) can bias the model.\n",
    "- Visualization with bar plots helps interpret the imbalance visually."
   ]
  },
  {
   "cell_type": "code",
   "execution_count": 29,
   "metadata": {},
   "outputs": [
    {
     "name": "stdout",
     "output_type": "stream",
     "text": [
      "CLL Class Counts:\n",
      " cll_label\n",
      "1    10\n",
      "0     5\n",
      "Name: count, dtype: int64\n",
      "T2D Class Counts:\n",
      " t2d_label\n",
      "0    103\n",
      "1     28\n",
      "Name: count, dtype: int64\n"
     ]
    }
   ],
   "source": [
    "def check_class_imbalance(y):\n",
    "    class_counts = y.value_counts()\n",
    "    return class_counts\n",
    "\n",
    "cll_class_counts = check_class_imbalance(cll_y)\n",
    "t2d_class_counts = check_class_imbalance(t2d_y)\n",
    "print(\"CLL Class Counts:\\n\", cll_class_counts)\n",
    "print(\"T2D Class Counts:\\n\", t2d_class_counts)"
   ]
  },
  {
   "cell_type": "code",
   "execution_count": 30,
   "metadata": {},
   "outputs": [
    {
     "data": {
      "image/png": "[encoded data removed]",
      "text/plain": [
       "<Figure size 1000x500 with 2 Axes>"
      ]
     },
     "metadata": {},
     "output_type": "display_data"
    }
   ],
   "source": [
    "class_counts_dict = {\"CLL\": cll_class_counts, \"T2D\": t2d_class_counts}\n",
    "fig, axs = plt.subplots(1, 2, figsize=(10, 5))\n",
    "axs = axs.flatten()\n",
    "\n",
    "for ax, (name, counts) in zip(axs, class_counts_dict.items()):\n",
    "    counts.plot(kind=\"bar\", ax=ax)\n",
    "    ax.set_title(f\"{name} Class Imbalance\")\n",
    "    ax.set_xlabel(\"Class\")\n",
    "    ax.set_ylabel(\"Count\")\n",
    "    ax.set_ylim(0, counts.max() * 1.1)\n",
    "\n",
    "plt.tight_layout()\n",
    "plt.show()"
   ]
  },
  {
   "cell_type": "markdown",
   "metadata": {},
   "source": [
    "### **9. Scale Features**\n",
    "Description: Standardize the gene expression features to have a mean of 0 and variance of 1.\n",
    "- Standardization ensures all features contribute equally to the model, preventing dominance by features with larger scales.\n",
    "- **StandardScaler** is used to transform the data."
   ]
  },
  {
   "cell_type": "code",
   "execution_count": 31,
   "metadata": {},
   "outputs": [],
   "source": [
    "def scale_features(X):\n",
    "    scaler = StandardScaler()\n",
    "    X_scaled = scaler.fit_transform(X)\n",
    "    return X_scaled\n",
    "\n",
    "cll_X_scaled = scale_features(cll_X)\n",
    "t2d_X_scaled = scale_features(t2d_X)"
   ]
  },
  {
   "cell_type": "markdown",
   "metadata": {},
   "source": [
    "### **10. Train-Test Split**\n",
    "Description: Divide the dataset into training and testing sets to evaluate model performance.\n",
    "- 80% of data is used for training, 20% for testing (test_size=0.2).\n",
    "- **random_state=42** ensures reproducibility of the split."
   ]
  },
  {
   "cell_type": "code",
   "execution_count": 32,
   "metadata": {},
   "outputs": [],
   "source": [
    "def train_test_split_data(X, y, test_size=0.2, random_state=42):\n",
    "    X_train, X_test, y_train, y_test = train_test_split(X, y, test_size=test_size, random_state=random_state)\n",
    "    return X_train, X_test, y_train, y_test\n",
    "\n",
    "cll_X_train, cll_X_test, cll_y_train, cll_y_test = train_test_split_data(cll_X_scaled, cll_y)\n",
    "t2d_X_train, t2d_X_test, t2d_y_train, t2d_y_test = train_test_split_data(t2d_X_scaled, t2d_y)"
   ]
  },
  {
   "cell_type": "markdown",
   "metadata": {},
   "source": [
    "### **11. Train Random Forest Classifier**\n",
    "Description: Train a Random Forest Classifier on the training data to predict disease states.\n",
    "- Random Forest is an ensemble method that builds multiple decision trees and aggregates their predictions.\n",
    "- **random_state=42** ensures consistent results across runs."
   ]
  },
  {
   "cell_type": "code",
   "execution_count": 33,
   "metadata": {},
   "outputs": [],
   "source": [
    "def train_random_forest(X_train, y_train):\n",
    "    rf = RandomForestClassifier(random_state=42)\n",
    "    rf.fit(X_train, y_train)\n",
    "    return rf\n",
    "\n",
    "cll_rf = train_random_forest(cll_X_train, cll_y_train)\n",
    "t2d_rf = train_random_forest(t2d_X_train, t2d_y_train)"
   ]
  },
  {
   "cell_type": "markdown",
   "metadata": {},
   "source": [
    "### **12. Evaluate Models**\n",
    "Description: Assess model performance on the test set using accuracy and detailed metrics.\n",
    "- **Accuracy** measures the proportion of correct predictions.\n",
    "- Classification report provides **Precision**, **Recall**, and **F1-score** for a comprehensive evaluation."
   ]
  },
  {
   "cell_type": "code",
   "execution_count": 34,
   "metadata": {},
   "outputs": [
    {
     "name": "stdout",
     "output_type": "stream",
     "text": [
      "CLL Model Evaluation:\n",
      "Accuracy: 0.6666666666666666\n",
      "Classification Report:\n",
      "               precision    recall  f1-score   support\n",
      "\n",
      "           0       0.00      0.00      0.00         1\n",
      "           1       0.67      1.00      0.80         2\n",
      "\n",
      "    accuracy                           0.67         3\n",
      "   macro avg       0.33      0.50      0.40         3\n",
      "weighted avg       0.44      0.67      0.53         3\n",
      "\n",
      "T2D Model Evaluation:\n",
      "Accuracy: 0.8148148148148148\n",
      "Classification Report:\n",
      "               precision    recall  f1-score   support\n",
      "\n",
      "           0       0.83      0.95      0.88        20\n",
      "           1       0.75      0.43      0.55         7\n",
      "\n",
      "    accuracy                           0.81        27\n",
      "   macro avg       0.79      0.69      0.71        27\n",
      "weighted avg       0.81      0.81      0.80        27\n",
      "\n"
     ]
    }
   ],
   "source": [
    "import warnings\n",
    "warnings.filterwarnings(\"ignore\")\n",
    "\n",
    "def evaluate_model(model, X_test, y_test):\n",
    "    y_pred = model.predict(X_test)\n",
    "    accuracy = accuracy_score(y_test, y_pred)\n",
    "    report = classification_report(y_test, y_pred)\n",
    "    return accuracy, report\n",
    "\n",
    "cll_accuracy, cll_report = evaluate_model(cll_rf, cll_X_test, cll_y_test)\n",
    "t2d_accuracy, t2d_report = evaluate_model(t2d_rf, t2d_X_test, t2d_y_test)\n",
    "\n",
    "print(\"CLL Model Evaluation:\")\n",
    "print(\"Accuracy:\", cll_accuracy)\n",
    "print(\"Classification Report:\\n\", cll_report)\n",
    "print(\"T2D Model Evaluation:\")\n",
    "print(\"Accuracy:\", t2d_accuracy)\n",
    "print(\"Classification Report:\\n\", t2d_report)"
   ]
  },
  {
   "cell_type": "markdown",
   "metadata": {},
   "source": [
    "### 13. Cross-Validation\n",
    "Description: Perform 5-fold cross-validation to evaluate model robustness and generalizability.\n",
    "- The dataset is split into 5 parts; the model trains on 4 and tests on 1, repeating for all combinations.\n",
    "- Mean score provides a reliable estimate of performance across different data subsets."
   ]
  },
  {
   "cell_type": "code",
   "execution_count": 35,
   "metadata": {},
   "outputs": [
    {
     "name": "stdout",
     "output_type": "stream",
     "text": [
      "CLL Cross-validation Mean Score: 0.8666666666666666\n",
      "T2D Cross-validation Mean Score: 0.8173789173789174\n"
     ]
    }
   ],
   "source": [
    "def cross_validate_model(model, X, y, cv=5):\n",
    "    scores = cross_val_score(model, X, y, cv=cv)\n",
    "    return scores\n",
    "\n",
    "cll_cv_scores = cross_validate_model(cll_rf, cll_X_scaled, cll_y)\n",
    "t2d_cv_scores = cross_validate_model(t2d_rf, t2d_X_scaled, t2d_y)\n",
    "\n",
    "print(\"CLL Cross-validation Mean Score:\", cll_cv_scores.mean())\n",
    "print(\"T2D Cross-validation Mean Score:\", t2d_cv_scores.mean())"
   ]
  },
  {
   "cell_type": "markdown",
   "metadata": {},
   "source": [
    "### 14. Visualize Model Metrics\n",
    "Description: Create a bar plot to compare performance metrics (accuracy, precision, recall, F1-score) across CLL and T2D models.\n",
    "- Visual representation aids in understanding model strengths and weaknesses."
   ]
  },
  {
   "cell_type": "code",
   "execution_count": 36,
   "metadata": {},
   "outputs": [
    {
     "data": {
      "image/png": "[encoded data removed]",
      "text/plain": [
       "<Figure size 1000x600 with 1 Axes>"
      ]
     },
     "metadata": {},
     "output_type": "display_data"
    }
   ],
   "source": [
    "datasets = {\"CLL\": (cll_rf, cll_X_test, cll_y_test), \"T2D\": (t2d_rf, t2d_X_test, t2d_y_test)}\n",
    "metrics = {}\n",
    "for name, (model, X_test, y_test) in datasets.items():\n",
    "    y_pred = model.predict(X_test)\n",
    "    metrics[name] = {\n",
    "        \"Accuracy\": accuracy_score(y_test, y_pred),\n",
    "        \"Precision\": precision_score(y_test, y_pred, average='binary'),\n",
    "        \"Recall\": recall_score(y_test, y_pred, average='binary'),\n",
    "        \"F1\": f1_score(y_test, y_pred, average='binary')\n",
    "    }\n",
    "\n",
    "metrics_df = pd.DataFrame(metrics).T\n",
    "ax = metrics_df.plot(kind=\"bar\", figsize=(10, 6))\n",
    "ax.set_ylim(0, 1)\n",
    "plt.title(\"Model Metrics for CLL and T2D\")\n",
    "plt.ylabel(\"Score\")\n",
    "plt.xticks(rotation=0)\n",
    "plt.legend(title=\"Metric\")\n",
    "plt.grid(axis='y')\n",
    "plt.tight_layout()\n",
    "plt.show()"
   ]
  },
  {
   "cell_type": "markdown",
   "metadata": {},
   "source": [
    "### **15. Extract Feature Importances**\n",
    "Description: Identify the most influential genes (features) in the Random Forest models.\n",
    "- Feature importance scores indicate each gene's contribution to the classification.\n",
    "- Only genes with non-zero importance are retained for further analysis."
   ]
  },
  {
   "cell_type": "code",
   "execution_count": 37,
   "metadata": {},
   "outputs": [
    {
     "name": "stdout",
     "output_type": "stream",
     "text": [
      "CLL Feature Importances:\n",
      " ATXN7           0.020202\n",
      "GSS             0.020202\n",
      "TRIM10          0.010101\n",
      "LOC100506178    0.010101\n",
      "HOXD1           0.010101\n",
      "                  ...   \n",
      "SVIP            0.010101\n",
      "LINC00664       0.010101\n",
      "LINC00658       0.010101\n",
      "MLH1            0.010101\n",
      "AMZ2            0.010101\n",
      "Length: 97, dtype: float64\n",
      "Total Number of Features for CLL: 97\n",
      "T2D Feature Importances:\n",
      " MPC1         0.011411\n",
      "ABHD10       0.010811\n",
      "TBPL1        0.010044\n",
      "ZNF823       0.007216\n",
      "DRAM2        0.006935\n",
      "               ...   \n",
      "FGFRL1       0.000279\n",
      "ARHGAP29     0.000272\n",
      "RAB40A       0.000258\n",
      "CYP2F1       0.000216\n",
      "LINC01538    0.000160\n",
      "Length: 548, dtype: float64\n",
      "Total Number of Features for T2D: 548\n"
     ]
    }
   ],
   "source": [
    "def get_feature_importances(model, feature_names):\n",
    "    importances = model.feature_importances_\n",
    "    indices = np.argsort(importances)[::-1]\n",
    "    feature_importances = pd.Series(importances[indices], index=feature_names[indices])\n",
    "    return feature_importances[feature_importances > 0]\n",
    "\n",
    "cll_feature_importances = get_feature_importances(cll_rf, cll_X.columns)\n",
    "t2d_feature_importances = get_feature_importances(t2d_rf, t2d_X.columns)\n",
    "\n",
    "print(\"CLL Feature Importances:\\n\", cll_feature_importances)\n",
    "print(\"Total Number of Features for CLL:\", len(cll_feature_importances))\n",
    "print(\"T2D Feature Importances:\\n\", t2d_feature_importances)\n",
    "print(\"Total Number of Features for T2D:\", len(t2d_feature_importances))"
   ]
  },
  {
   "cell_type": "markdown",
   "metadata": {},
   "source": [
    "### **16. Identify Common Biomarkers**\n",
    "Description: Find genes that are important in both CLL and T2D models by intersecting their important features.\n",
    "- Common biomarkers may indicate shared biological mechanisms between the two diseases."
   ]
  },
  {
   "cell_type": "code",
   "execution_count": 38,
   "metadata": {},
   "outputs": [
    {
     "name": "stdout",
     "output_type": "stream",
     "text": [
      "Common Biomarkers between CLL and T2D:\n",
      " ['TRIM10', 'NDUFA8', 'HSCB', 'TIMM8B']\n",
      "Number of Common Biomarkers: 4\n"
     ]
    }
   ],
   "source": [
    "def get_common_biomarkers(importances1, importances2):\n",
    "    common_biomarkers = importances1.index.intersection(importances2.index)\n",
    "    return common_biomarkers\n",
    "\n",
    "cll_t2d_common_biomarkers = get_common_biomarkers(cll_feature_importances, t2d_feature_importances)\n",
    "print(\"Common Biomarkers between CLL and T2D:\\n\", list(cll_t2d_common_biomarkers))\n",
    "print(\"Number of Common Biomarkers:\", len(cll_t2d_common_biomarkers))"
   ]
  },
  {
   "cell_type": "markdown",
   "metadata": {},
   "source": []
  }
 ],
 "metadata": {
  "kernelspec": {
   "display_name": "sajid",
   "language": "python",
   "name": "python3"
  },
  "language_info": {
   "codemirror_mode": {
    "name": "ipython",
    "version": 3
   },
   "file_extension": ".py",
   "mimetype": "text/x-python",
   "name": "python",
   "nbconvert_exporter": "python",
   "pygments_lexer": "ipython3",
   "version": "3.12.6"
  }
 },
 "nbformat": 4,
 "nbformat_minor": 2
}

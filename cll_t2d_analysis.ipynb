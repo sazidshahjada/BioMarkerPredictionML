{
 "cells": [
  {
   "cell_type": "markdown",
   "metadata": {},
   "source": [
    "### **1. Import Libraries**\n",
    "Description: Import necessary Python libraries for data manipulation, machine learning, and visualization.\n",
    "- **pandas**: Used for handling and manipulating structured data (e.g., DataFrames).\n",
    "- **numpy**: Provides support for numerical operations and array handling.\n",
    "- **matplotlib.pyplot**: Enables plotting and visualization of results (e.g., class imbalance, metrics).\n",
    "- **sklearn** modules: Provide tools for preprocessing (StandardScaler), model training (RandomForestClassifier),\n",
    "    evaluation (accuracy_score, classification_report, etc.), and data splitting (train_test_split)."
   ]
  },
  {
   "cell_type": "code",
   "execution_count": 120,
   "metadata": {},
   "outputs": [],
   "source": [
    "import pandas as pd\n",
    "import numpy as np\n",
    "import matplotlib.pyplot as plt\n",
    "from scipy.stats import ttest_ind\n",
    "from imblearn.over_sampling import SMOTE\n",
    "from sklearn.model_selection import train_test_split, cross_val_score\n",
    "from sklearn.preprocessing import StandardScaler\n",
    "from sklearn.ensemble import RandomForestClassifier\n",
    "from sklearn.metrics import accuracy_score, classification_report, precision_score, recall_score, f1_score"
   ]
  },
  {
   "cell_type": "markdown",
   "metadata": {},
   "source": [
    "### **2. Define Data Paths**\n",
    "Description: Store file paths to the gene expression counts data and metadata for CLL and T2D in a dictionary.\n",
    "This centralizes file references, making it easier to manage and update paths if needed."
   ]
  },
  {
   "cell_type": "code",
   "execution_count": 121,
   "metadata": {},
   "outputs": [],
   "source": [
    "data_paths = {\n",
    "    \"cll_counts\": \"Data for ML_CLL/Countsdata/GSE70830_counts_data.csv\",\n",
    "    \"cll_metadata\": \"Data for ML_CLL/Metadata/GSE70830_metadata.csv\",\n",
    "    \"t2d_counts\": \"Data for ML_CLL/Countsdata/GSE159984_counts_data.csv\",\n",
    "    \"t2d_metadata\": \"Data for ML_CLL/Metadata/GSE159984_metadata.csv\",\n",
    "}"
   ]
  },
  {
   "cell_type": "markdown",
   "metadata": {},
   "source": [
    "### **3. Load Datasets**\n",
    "Description: Load the gene expression counts data and metadata from CSV files into pandas DataFrames.\n",
    "- Counts data contains gene expression levels for each sample.\n",
    "- Metadata includes sample information (e.g., disease condition).\n",
    "- index_col=0 sets the first column as the DataFrame index (e.g., gene symbols or sample IDs)."
   ]
  },
  {
   "cell_type": "code",
   "execution_count": 122,
   "metadata": {},
   "outputs": [],
   "source": [
    "# Load CLL dataset\n",
    "cll_counts = pd.read_csv(data_paths[\"cll_counts\"], index_col=0)\n",
    "cll_metadata = pd.read_csv(data_paths[\"cll_metadata\"])\n",
    "\n",
    "# Load T2D dataset\n",
    "t2d_counts = pd.read_csv(data_paths[\"t2d_counts\"], index_col=0)\n",
    "t2d_metadata = pd.read_csv(data_paths[\"t2d_metadata\"])"
   ]
  },
  {
   "cell_type": "markdown",
   "metadata": {},
   "source": [
    "### **4. Label Metadata**\n",
    "Description: Assign binary labels to metadata based on the \"Condition\" column to indicate disease state.\n",
    "- 1 represents \"Case\" (disease present, e.g., CLL or T2D).\n",
    "- 0 represents \"Control\" (healthy, no disease).\n",
    "\n",
    "A lambda function is applied to create a new column with these labels."
   ]
  },
  {
   "cell_type": "code",
   "execution_count": 123,
   "metadata": {},
   "outputs": [],
   "source": [
    "# Label CLL metadata\n",
    "cll_metadata[\"cll_label\"] = cll_metadata[\"Condition\"].apply(lambda x: 1 if x == \"Case\" else 0)\n",
    "# Label T2D metadata\n",
    "t2d_metadata[\"t2d_label\"] = t2d_metadata[\"Condition\"].apply(lambda x: 1 if x == \"Case\" else 0)"
   ]
  },
  {
   "cell_type": "markdown",
   "metadata": {},
   "source": [
    "### **5. Preprocess Counts Data**\n",
    "#Description: Transform the counts data into a suitable format for analysis.\n",
    "- Set **'gene_symbol'** as the index to organize data by genes.\n",
    "- Transpose the DataFrame so samples are rows and genes are columns, aligning with typical machine learning input.\n",
    "- Name the index **'GSM'** to represent sample IDs.\n",
    "- Add disease labels from metadata to the counts DataFrame.\n",
    "- Ensure column names are strings, handling cases where they might be tuples or other types."
   ]
  },
  {
   "cell_type": "code",
   "execution_count": 124,
   "metadata": {},
   "outputs": [],
   "source": [
    "# Preprocess CLL data\n",
    "cll_counts = cll_counts.set_index('gene_symbol').T\n",
    "cll_counts.index.name = 'GSM'\n",
    "cll_counts['cll_label'] = cll_metadata['cll_label'].values\n",
    "cll_counts.columns = [col if isinstance(col, str) else col[0] for col in cll_counts.columns]\n",
    "\n",
    "# Preprocess T2D data\n",
    "t2d_counts = t2d_counts.set_index('gene_symbol').T\n",
    "t2d_counts.index.name = 'GSM'\n",
    "t2d_counts['t2d_label'] = t2d_metadata['t2d_label'].values\n",
    "t2d_counts.columns = [col if isinstance(col, str) else col[0] for col in t2d_counts.columns]"
   ]
  },
  {
   "cell_type": "markdown",
   "metadata": {},
   "source": [
    "### **6. Check Data Quality and Save**\n",
    "Description: Perform quality checks on the datasets to ensure they are suitable for analysis.\n",
    "- **check_missing_values:** Identifies columns with missing values, which could affect model performance if not handled.\n",
    "- **check_duplicates:** Detects duplicate rows, which could skew results if present.\n",
    "- Save the preprocessed dataset for future works"
   ]
  },
  {
   "cell_type": "code",
   "execution_count": 125,
   "metadata": {},
   "outputs": [],
   "source": [
    "# # Check for missing values\n",
    "# def check_missing_values(df):\n",
    "#     missing_values = df.isnull().sum()\n",
    "#     return missing_values[missing_values > 0]\n",
    "\n",
    "# cll_missing = check_missing_values(cll_counts)\n",
    "# t2d_missing = check_missing_values(t2d_counts)\n",
    "# print(\"CLL Missing Values:\\n\", cll_missing)\n",
    "# print(\"T2D Missing Values:\\n\", t2d_missing)\n",
    "\n",
    "# # Check for duplicates\n",
    "# def check_duplicates(df):\n",
    "#     duplicates = df.duplicated().sum()\n",
    "#     return duplicates\n",
    "\n",
    "# cll_duplicates = check_duplicates(cll_counts)\n",
    "# t2d_duplicates = check_duplicates(t2d_counts)\n",
    "# print(\"CLL Duplicates:\", cll_duplicates)\n",
    "# print(\"T2D Duplicates:\", t2d_duplicates)"
   ]
  },
  {
   "cell_type": "code",
   "execution_count": 126,
   "metadata": {},
   "outputs": [],
   "source": [
    "# Save the dataframes to CSV\n",
    "cll_counts.to_csv(\"clean_data/clean_cll_counts.csv\")\n",
    "t2d_counts.to_csv(\"clean_data/clean_t2d_counts.csv\")"
   ]
  },
  {
   "cell_type": "markdown",
   "metadata": {},
   "source": [
    "### **7. Separate Features and Labels**\n",
    "Description: Split the dataset into features (X) and labels (y) for machine learning.\n",
    "- X: Gene expression values used as input features.\n",
    "- y: Binary disease labels (0 or 1) used as the target variable."
   ]
  },
  {
   "cell_type": "code",
   "execution_count": 127,
   "metadata": {},
   "outputs": [],
   "source": [
    "def separate_features_labels(df, label_col):\n",
    "    X = df.drop(columns=[label_col])\n",
    "    y = df[label_col]\n",
    "    return X, y\n",
    "\n",
    "cll_X, cll_y = separate_features_labels(cll_counts, 'cll_label')\n",
    "t2d_X, t2d_y = separate_features_labels(t2d_counts, 't2d_label')"
   ]
  },
  {
   "cell_type": "markdown",
   "metadata": {},
   "source": [
    "### **8. Check Class Imbalance**\n",
    "Description: Assess the distribution of disease cases (1) and controls (0) in the labels.\n",
    "- Imbalanced classes (e.g., many more controls than cases) can bias the model.\n",
    "- Visualization with bar plots helps interpret the imbalance visually."
   ]
  },
  {
   "cell_type": "code",
   "execution_count": 128,
   "metadata": {},
   "outputs": [
    {
     "name": "stdout",
     "output_type": "stream",
     "text": [
      "CLL Class Counts:\n",
      " cll_label\n",
      "1    10\n",
      "0     5\n",
      "Name: count, dtype: int64\n",
      "T2D Class Counts:\n",
      " t2d_label\n",
      "0    103\n",
      "1     28\n",
      "Name: count, dtype: int64\n"
     ]
    }
   ],
   "source": [
    "def check_class_imbalance(y):\n",
    "    class_counts = y.value_counts()\n",
    "    return class_counts\n",
    "\n",
    "cll_class_counts = check_class_imbalance(cll_y)\n",
    "t2d_class_counts = check_class_imbalance(t2d_y)\n",
    "print(\"CLL Class Counts:\\n\", cll_class_counts)\n",
    "print(\"T2D Class Counts:\\n\", t2d_class_counts)"
   ]
  },
  {
   "cell_type": "code",
   "execution_count": 129,
   "metadata": {},
   "outputs": [
    {
     "data": {
      "image/png": "[encoded data removed]",
      "text/plain": [
       "<Figure size 1000x500 with 2 Axes>"
      ]
     },
     "metadata": {},
     "output_type": "display_data"
    }
   ],
   "source": [
    "class_counts_dict = {\"CLL\": cll_class_counts, \"T2D\": t2d_class_counts}\n",
    "fig, axs = plt.subplots(1, 2, figsize=(10, 5))\n",
    "axs = axs.flatten()\n",
    "\n",
    "for ax, (name, counts) in zip(axs, class_counts_dict.items()):\n",
    "    counts.plot(kind=\"bar\", ax=ax)\n",
    "    ax.set_title(f\"{name} Class Imbalance\")\n",
    "    ax.set_xlabel(\"Class\")\n",
    "    ax.set_ylabel(\"Count\")\n",
    "    ax.set_ylim(0, counts.max() * 1.1)\n",
    "\n",
    "plt.tight_layout()\n",
    "plt.show()"
   ]
  },
  {
   "cell_type": "markdown",
   "metadata": {},
   "source": [
    "### **9. Scale Features**\n",
    "Description: Standardize the gene expression features to have a mean of 0 and variance of 1.\n",
    "- Standardization ensures all features contribute equally to the model, preventing dominance by features with larger scales.\n",
    "- **StandardScaler** is used to transform the data."
   ]
  },
  {
   "cell_type": "code",
   "execution_count": 130,
   "metadata": {},
   "outputs": [],
   "source": [
    "def scale_features(X):\n",
    "    scaler = StandardScaler()\n",
    "    X_scaled = scaler.fit_transform(X)\n",
    "    return X_scaled\n",
    "\n",
    "cll_X_scaled = scale_features(cll_X)\n",
    "t2d_X_scaled = scale_features(t2d_X)\n",
    "\n",
    "# Make dataframes for CLL and T2D\n",
    "cll_X_scaled = pd.DataFrame(cll_X_scaled, columns=cll_X.columns)\n",
    "t2d_X_scaled = pd.DataFrame(t2d_X_scaled, columns=t2d_X.columns)\n",
    "\n",
    "# # Handle class imbalance using SMOTE\n",
    "# smote = SMOTE(random_state=42, k_neighbors=3)\n",
    "# cll_X_resampled, cll_y_resampled = smote.fit_resample(cll_X_scaled, cll_y)\n",
    "# t2d_X_resampled, t2d_y_resampled = smote.fit_resample(t2d_X_scaled, t2d_y)\n",
    "# # Visualize the resampled class distribution\n",
    "# cll_resampled_counts = pd.Series(cll_y_resampled).value_counts()\n",
    "# t2d_resampled_counts = pd.Series(t2d_y_resampled).value_counts()\n",
    "# fig, axs = plt.subplots(1, 2, figsize=(10, 5))\n",
    "# axs = axs.flatten()\n",
    "# for ax, (name, counts) in zip(axs, {\"CLL\": cll_resampled_counts, \"T2D\": t2d_resampled_counts}.items()):\n",
    "#     counts.plot(kind=\"bar\", ax=ax)\n",
    "#     ax.set_title(f\"{name} Resampled Class Distribution\")\n",
    "#     ax.set_xlabel(\"Class\")\n",
    "#     ax.set_ylabel(\"Count\")\n",
    "#     ax.set_ylim(0, counts.max() * 1.1)\n",
    "# plt.tight_layout()\n",
    "# plt.show()"
   ]
  },
  {
   "cell_type": "markdown",
   "metadata": {},
   "source": [
    "### **10. Train-Test Split**\n",
    "Description: Divide the dataset into training and testing sets to evaluate model performance.\n",
    "- 80% of data is used for training, 20% for testing (test_size=0.2).\n",
    "- **random_state=42** ensures reproducibility of the split."
   ]
  },
  {
   "cell_type": "code",
   "execution_count": 131,
   "metadata": {},
   "outputs": [],
   "source": [
    "def train_test_split_data(X, y, test_size=0.2, random_state=42):\n",
    "    X_train, X_test, y_train, y_test = train_test_split(X, y, test_size=test_size, random_state=random_state)\n",
    "    return X_train, X_test, y_train, y_test\n",
    "\n",
    "cll_X_train, cll_X_test, cll_y_train, cll_y_test = train_test_split_data(cll_X_scaled, cll_y)\n",
    "t2d_X_train, t2d_X_test, t2d_y_train, t2d_y_test = train_test_split_data(t2d_X_scaled, t2d_y)"
   ]
  },
  {
   "cell_type": "markdown",
   "metadata": {},
   "source": [
    "### **11. Train Random Forest Classifier**\n",
    "Description: Train a Random Forest Classifier on the training data to predict disease states.\n",
    "- Random Forest is an ensemble method that builds multiple decision trees and aggregates their predictions.\n",
    "- **random_state=42** ensures consistent results across runs."
   ]
  },
  {
   "cell_type": "code",
   "execution_count": 132,
   "metadata": {},
   "outputs": [],
   "source": [
    "def train_random_forest(X_train, y_train):\n",
    "    rf = RandomForestClassifier(random_state=42)\n",
    "    rf.fit(X_train, y_train)\n",
    "    return rf\n",
    "\n",
    "cll_rf = train_random_forest(cll_X_train, cll_y_train)\n",
    "t2d_rf = train_random_forest(t2d_X_train, t2d_y_train)"
   ]
  },
  {
   "cell_type": "markdown",
   "metadata": {},
   "source": [
    "### **12. Evaluate Models**\n",
    "Description: Assess model performance on the test set using accuracy and detailed metrics.\n",
    "- **Accuracy** measures the proportion of correct predictions.\n",
    "- Classification report provides **Precision**, **Recall**, and **F1-score** for a comprehensive evaluation."
   ]
  },
  {
   "cell_type": "code",
   "execution_count": 133,
   "metadata": {},
   "outputs": [
    {
     "name": "stdout",
     "output_type": "stream",
     "text": [
      "CLL Model Evaluation:\n",
      "Accuracy: 0.6666666666666666\n",
      "Classification Report:\n",
      "               precision    recall  f1-score   support\n",
      "\n",
      "           0       0.00      0.00      0.00         1\n",
      "           1       0.67      1.00      0.80         2\n",
      "\n",
      "    accuracy                           0.67         3\n",
      "   macro avg       0.33      0.50      0.40         3\n",
      "weighted avg       0.44      0.67      0.53         3\n",
      "\n",
      "T2D Model Evaluation:\n",
      "Accuracy: 0.8148148148148148\n",
      "Classification Report:\n",
      "               precision    recall  f1-score   support\n",
      "\n",
      "           0       0.83      0.95      0.88        20\n",
      "           1       0.75      0.43      0.55         7\n",
      "\n",
      "    accuracy                           0.81        27\n",
      "   macro avg       0.79      0.69      0.71        27\n",
      "weighted avg       0.81      0.81      0.80        27\n",
      "\n"
     ]
    }
   ],
   "source": [
    "import warnings\n",
    "warnings.filterwarnings(\"ignore\")\n",
    "\n",
    "def evaluate_model(model, X_test, y_test):\n",
    "    y_pred = model.predict(X_test)\n",
    "    accuracy = accuracy_score(y_test, y_pred)\n",
    "    report = classification_report(y_test, y_pred)\n",
    "    return accuracy, report\n",
    "\n",
    "cll_accuracy, cll_report = evaluate_model(cll_rf, cll_X_test, cll_y_test)\n",
    "t2d_accuracy, t2d_report = evaluate_model(t2d_rf, t2d_X_test, t2d_y_test)\n",
    "\n",
    "print(\"CLL Model Evaluation:\")\n",
    "print(\"Accuracy:\", cll_accuracy)\n",
    "print(\"Classification Report:\\n\", cll_report)\n",
    "print(\"T2D Model Evaluation:\")\n",
    "print(\"Accuracy:\", t2d_accuracy)\n",
    "print(\"Classification Report:\\n\", t2d_report)"
   ]
  },
  {
   "cell_type": "markdown",
   "metadata": {},
   "source": [
    "### **13. Cross-Validation**\n",
    "Description: Perform 5-fold cross-validation to evaluate model robustness and generalizability.\n",
    "- The dataset is split into 5 parts; the model trains on 4 and tests on 1, repeating for all combinations.\n",
    "- Mean score provides a reliable estimate of performance across different data subsets."
   ]
  },
  {
   "cell_type": "code",
   "execution_count": 134,
   "metadata": {},
   "outputs": [
    {
     "name": "stdout",
     "output_type": "stream",
     "text": [
      "CLL Cross-validation Mean Score: 0.8666666666666666\n",
      "T2D Cross-validation Mean Score: 0.8173789173789174\n"
     ]
    }
   ],
   "source": [
    "def cross_validate_model(model, X, y, cv=5):\n",
    "    scores = cross_val_score(model, X, y, cv=cv)\n",
    "    return scores\n",
    "\n",
    "cll_cv_scores = cross_validate_model(cll_rf, cll_X_scaled, cll_y)\n",
    "t2d_cv_scores = cross_validate_model(t2d_rf, t2d_X_scaled, t2d_y)\n",
    "\n",
    "print(\"CLL Cross-validation Mean Score:\", cll_cv_scores.mean())\n",
    "print(\"T2D Cross-validation Mean Score:\", t2d_cv_scores.mean())"
   ]
  },
  {
   "cell_type": "markdown",
   "metadata": {},
   "source": [
    "### **14. Visualize Model Metrics**\n",
    "Description: Create a bar plot to compare performance metrics (accuracy, precision, recall, F1-score) across CLL and T2D models.\n",
    "- Visual representation aids in understanding model strengths and weaknesses."
   ]
  },
  {
   "cell_type": "code",
   "execution_count": 135,
   "metadata": {},
   "outputs": [
    {
     "data": {
      "image/png": "[encoded data removed]",
      "text/plain": [
       "<Figure size 1000x600 with 1 Axes>"
      ]
     },
     "metadata": {},
     "output_type": "display_data"
    }
   ],
   "source": [
    "datasets = {\"CLL\": (cll_rf, cll_X_test, cll_y_test), \"T2D\": (t2d_rf, t2d_X_test, t2d_y_test)}\n",
    "metrics = {}\n",
    "for name, (model, X_test, y_test) in datasets.items():\n",
    "    y_pred = model.predict(X_test)\n",
    "    metrics[name] = {\n",
    "        \"Accuracy\": accuracy_score(y_test, y_pred),\n",
    "        \"Precision\": precision_score(y_test, y_pred, average='binary'),\n",
    "        \"Recall\": recall_score(y_test, y_pred, average='binary'),\n",
    "        \"F1\": f1_score(y_test, y_pred, average='binary')\n",
    "    }\n",
    "\n",
    "metrics_df = pd.DataFrame(metrics).T\n",
    "ax = metrics_df.plot(kind=\"bar\", figsize=(10, 6))\n",
    "ax.set_ylim(0, 1)\n",
    "plt.title(\"Model Metrics for CLL and T2D\")\n",
    "plt.ylabel(\"Score\")\n",
    "plt.xticks(rotation=0)\n",
    "plt.legend(title=\"Metric\")\n",
    "plt.grid(axis='y')\n",
    "plt.tight_layout()\n",
    "plt.show()"
   ]
  },
  {
   "cell_type": "markdown",
   "metadata": {},
   "source": [
    "### **15. Extract Feature Importances**\n",
    "Description: Identify the most influential genes (features) in the Random Forest models.\n",
    "- Feature importance scores indicate each gene's contribution to the classification.\n",
    "- Only genes with non-zero importance are retained for further analysis."
   ]
  },
  {
   "cell_type": "code",
   "execution_count": 136,
   "metadata": {},
   "outputs": [
    {
     "name": "stdout",
     "output_type": "stream",
     "text": [
      "Total Number of Biomarkers for CLL: 97\n",
      "Total Number of Biomarkers for T2D: 548\n"
     ]
    }
   ],
   "source": [
    "def get_feature_importances(model, feature_names):\n",
    "    importances = model.feature_importances_\n",
    "    indices = np.argsort(importances)[::-1]\n",
    "    feature_importances = pd.Series(importances[indices], index=feature_names[indices])\n",
    "    return feature_importances[feature_importances > 0.0]\n",
    "\n",
    "cll_feature_importances = get_feature_importances(cll_rf, cll_X.columns)\n",
    "t2d_feature_importances = get_feature_importances(t2d_rf, t2d_X.columns)\n",
    "\n",
    "print(\"Total Number of Biomarkers for CLL:\", len(cll_feature_importances))\n",
    "print(\"Total Number of Biomarkers for T2D:\", len(t2d_feature_importances))"
   ]
  },
  {
   "cell_type": "code",
   "execution_count": 137,
   "metadata": {},
   "outputs": [],
   "source": [
    "# Save feature importances to CSV\n",
    "cll_feature_importances.to_csv(\"results/cll_feature_importances.csv\")\n",
    "t2d_feature_importances.to_csv(\"results/t2d_feature_importances.csv\")"
   ]
  },
  {
   "cell_type": "markdown",
   "metadata": {},
   "source": [
    "### **16. Identify Common Biomarkers**\n",
    "Description: Find genes that are important in both CLL and T2D models by intersecting their important features.\n",
    "- Common biomarkers may indicate shared biological mechanisms between the two diseases."
   ]
  },
  {
   "cell_type": "code",
   "execution_count": 138,
   "metadata": {},
   "outputs": [
    {
     "name": "stdout",
     "output_type": "stream",
     "text": [
      "Common Biomarkers between CLL and T2D:\n",
      " ['TRIM10', 'NDUFA8', 'HSCB', 'TIMM8B']\n",
      "Number of Common Biomarkers: 4\n"
     ]
    }
   ],
   "source": [
    "def get_common_biomarkers(importances1, importances2):\n",
    "    common_biomarkers = importances1.index.intersection(importances2.index)\n",
    "    return common_biomarkers\n",
    "\n",
    "cll_t2d_common_biomarkers = get_common_biomarkers(cll_feature_importances, t2d_feature_importances)\n",
    "print(\"Common Biomarkers between CLL and T2D:\\n\", list(cll_t2d_common_biomarkers))\n",
    "print(\"Number of Common Biomarkers:\", len(cll_t2d_common_biomarkers))"
   ]
  },
  {
   "cell_type": "markdown",
   "metadata": {},
   "source": [
    "### **17. Verify biomarkers using Hypothsis testing**\n",
    "Description: This section identifies significant genes (biomarkers) for CLL and T2D using a T-test to compare gene expression between classes (p-value < 0.05). It includes:\n",
    "\n",
    "- T-test: A function computes p-values for genes in scaled datasets (cll_X_scaled, t2d_X_scaled).\n",
    "\n",
    "- Significant Biomarkers: Genes with p-values < 0.05 are saved as CSV files and counted.\n",
    "\n",
    "- Common Biomarkers: Shared biomarkers between CLL and T2D are identified and saved.\n",
    "\n",
    "- Validation: Duplicates are removed, and p-values are compared across T-test and ML approaches.\n",
    "\n",
    "The analysis outputs significant biomarker counts and p-value comparisons for biological validation."
   ]
  },
  {
   "cell_type": "code",
   "execution_count": null,
   "metadata": {},
   "outputs": [
    {
     "name": "stdout",
     "output_type": "stream",
     "text": [
      "Number of Significant Biomarkers for CLL from T-test: 7301\n",
      "Number of Significant Biomarkers for T2D from T-test: 16175\n"
     ]
    }
   ],
   "source": [
    "# Create a function to perform t-test from given X and y\n",
    "def perform_t_test(X, y):\n",
    "    X = X.reset_index(drop=True)  # Reset index of X\n",
    "    y = y.reset_index(drop=True)  # Reset index of y\n",
    "    class_0 = X[y == 0]\n",
    "    class_1 = X[y == 1]\n",
    "    t_stat, p_values = ttest_ind(class_0, class_1, axis=0)\n",
    "    return p_values\n",
    "cll_p_values = perform_t_test(cll_X_scaled, cll_y)\n",
    "t2d_p_values = perform_t_test(t2d_X_scaled, t2d_y)\n",
    "cll_p_values_df = pd.DataFrame(cll_p_values, index=cll_X.columns, columns=[\"p_value\"])\n",
    "t2d_p_values_df = pd.DataFrame(t2d_p_values, index=t2d_X.columns, columns=[\"p_value\"])\n",
    "cll_p_values_df.to_csv(\"results/cll_p_values.csv\")\n",
    "t2d_p_values_df.to_csv(\"results/t2d_p_values.csv\")\n",
    "\n",
    "def get_significant_features(p_values_df, threshold=0.05):\n",
    "    significant_features = p_values_df[p_values_df[\"p_value\"] < threshold]\n",
    "    return significant_features\n",
    "\n",
    "cll_significant_features = get_significant_features(cll_p_values_df).sort_values(by=\"p_value\", ascending=True)\n",
    "t2d_significant_features = get_significant_features(t2d_p_values_df).sort_values(by=\"p_value\", ascending=True)\n",
    "\n",
    "print(\"Number of Significant Biomarkers for CLL from T-test:\", len(cll_significant_features))\n",
    "print(\"Number of Significant Biomarkers for T2D from T-test:\", len(t2d_significant_features))"
   ]
  },
  {
   "cell_type": "code",
   "execution_count": 145,
   "metadata": {},
   "outputs": [
    {
     "name": "stdout",
     "output_type": "stream",
     "text": [
      "Common Significant Biomarkers between CLL and T2D:\n",
      " ['SNORA3B', 'LOC100506178', 'TATDN2', 'SNORD12B', 'FFAR1', 'ENAM', 'KCNIP2', 'HLTF-AS1', 'ATP9B', 'LITAF', 'MIR216B', 'SHC3', 'JUP', 'SNORA53', 'SYNPO', 'SNORA55', 'NBPF10', 'PARM1', 'PTPRK', 'IL10RA', 'PCDHA12', 'LINC01238', 'LINC00641', 'ZBTB9', 'LINC01798', 'SNORA80B', 'SEC14L1P1', 'ANXA5', 'SNORD94', 'TMEFF2', 'MIR616', 'MATN1', 'SLC45A3', 'MNX1-AS1', 'CERKL', 'LINC01237', 'LINC00907', 'ADAM7', 'ITGA4', 'GPR75', 'NME4', 'HPS6', 'SCN3A', 'TP53INP1', 'ZNHIT2', 'SLBP', 'DNAJC5', 'SLC39A1', 'SNORA19', 'LINC00852', 'GRK1', 'HSP90AA1', 'SCARB1', 'MOB3B', 'C1orf115', 'PAFAH1B2', 'BANK1', 'LINC00659', 'KCNQ5-AS1', 'TMEM250', 'EZR', 'LOC101928844', 'BAG3', 'GGT6', 'PTGES3', 'TPST1', 'SURF4', 'TUBA1C', 'AK8', 'ACAP3', 'LINC01547', 'MAN1A1', 'EPB41L2', 'ZNF618', 'HEPN1', 'PELO', 'TMEM115', 'DOLK', 'GAB2', 'SPOCK2', 'TRIM69', 'DPF3', 'ST6GALNAC4', 'SELENOT', 'TSC22D3', 'TTC34', 'MIR421', 'HSPD1', 'XKR8', 'SNORA28', 'EMC6', 'HSPA8', 'IL5RA', 'PIK3C2B', 'ASPH', 'MACF1', 'SCPEP1', 'MBP', 'SAMD4A', 'PTPRN2', 'EPYC', 'GATA6', 'CCDC150', 'LOC100506682', 'FLJ36000', 'KEAP1', 'LOC100996447', 'MORF4L1', 'ATP1B3', 'SMG8', 'VDAC1', 'IL15', 'ILK', 'PLAC8', 'MAMDC2', 'BORCS6', 'PSMB5', 'DNAJA1', 'IQSEC1', 'ADARB1', 'CCSER1', 'BZW1', 'MATN3', 'PPP1R14A', 'MAPK6', 'RPL7L1', 'GPX8', 'LINC00106', 'SNRPG', 'DOK7', 'SNORA75', 'LOC101927837', 'CD63', 'KMT5A', 'BTG3', 'CISD2', 'MXI1', 'DYNC1I2', 'NCRNA00250', 'PNRC2', 'FADD', 'TAS2R46', 'LINC00327', 'RALGDS', 'TEX9', 'SDHD', 'DNAJC5B', 'GCNT1', 'HS1BP3-IT1', 'SAMD1', 'BHLHE40', 'TRIM21', 'EHD4', 'DYNLL1', 'OR3A2', 'PLAG1', 'ARHGAP32', 'PRDX1', 'BCL2L1', 'BTG2', 'COPA', 'LMNB2', 'HSPE1', 'EIF2AK3', 'LOC105378044', 'FKBP4', 'RHOBTB3', 'NFE2L1', 'CALCA', 'MAGED2', 'ISY1-RAB43', 'ABR', 'FAM183A', 'YWHAE', 'NRBF2', 'ARRDC4', 'TIMM23', 'PI4K2A', 'BRAP', 'MCM6', 'NAB2', 'TRPM2', 'PCSK7', 'CARMIL3', 'CRIP3', 'TPH1', 'VOPP1', 'OGDH', 'POP7', 'TPRG1L', 'CLGN', 'AASS', 'MYZAP', 'LOC101929066', 'ZNF311', 'MAGEE2', 'ZNF460', 'TIMM8B', 'TPM4', 'SCML4', 'SLC2A6', 'IL21R-AS1', 'PHF23', 'BPIFB1', 'SNORD14A', 'ZBTB37', 'VKORC1', 'SNORD15B', 'CUBN', 'PPM1N', 'CREB3', 'AGTR1', 'GMNN', 'MYL12B', 'CLTA', 'SLC43A2', 'KIF24', 'RALA', 'ZNF574', 'GPC4', 'MGAT2', 'DUBR', 'ATP2B4', 'MAOB', 'LRGUK', 'RPN1', 'ZDHHC14', 'TMED1', 'PSG4', 'RAB6A', 'SCARNA8', 'FAM181B', 'PLS3', 'GALNT10', 'INTS5', 'SERBP1', 'CDCA4', 'XRCC6', 'ABCG2', 'ITCH', 'ANGPTL1', 'CLC', 'ZNF215', 'AKAP4', 'LOC102725254', 'RFX3-AS1', 'TCEAL3', 'SLC38A4', 'FAM13A-AS1', 'C14orf119', 'MPP6', 'HSPE1-MOB4', 'GPR3', 'SCML1', 'ID3', 'ABHD4', 'MDM4', 'CORO2B', 'YWHAZ', 'ITGB1', 'APMAP', 'ETF1', 'LINC02356', 'PHF13', 'BCL2L11', 'SELENOS', 'PCDHB4', 'EIF4H', 'NFE2L2', 'PCBP1', 'ARHGAP22', 'MELK', 'GBA', 'TMC4', 'AK6', 'ABCC6', 'SYN3', 'IGSF5', 'YIPF5', 'LINC01504', 'DNAJC12', 'CTSB', 'ING2', 'CPA3', 'MOXD1', 'SMIM2-AS1', 'NACC1', 'CPED1', 'PKM', 'SLC6A19', 'NECTIN3', 'ABCA1', 'GNS', 'TMEM102', 'SLC17A9', 'RRAGA', 'RTN3', 'SMS', 'CDV3', 'PPIL1', 'TWF2', 'ACTG1P17', 'MFSD5', 'PA2G4', 'ARHGAP25', 'GUCD1', 'IAPP', 'SLC30A1', 'ATP1A1', 'LAPTM4A', 'LINC01602', 'ZNF703', 'LIMS1', 'UBE2L3', 'GNPDA1', 'MRPS7', 'RXFP4', 'FAM227A', 'FSCN2', 'LCA5', 'RHEB', 'SNORA31', 'MRPL17', 'HMBOX1', 'LINC01340', 'NDUFS5', 'MDH1B', 'PEAR1', 'METAP1D', 'RNF181', 'MSMB', 'TIMP4', 'CKMT2', 'LARGE1', 'SSPN', 'C11orf68', 'FKBP2', 'RNF185', 'NPHP3-AS1', 'CACYBP', 'LPIN2', 'PPARGC1B', 'NSDHL', 'TSPAN13', 'MACROD2', 'LOC101928797', 'PSMC3', 'E2F6', 'ANXA7', 'TRIO', 'UBL4A', 'FKBPL', 'PSMA6', 'AREG', 'RPL36AL', 'PGD', 'GUSBP5', 'ZBTB16', 'LOC101929719', 'PAIP1', 'PSG8', 'TUBB4B', 'ENAH', 'PPFIBP1', 'SQSTM1', 'RPL26L1', 'NOP10', 'UPK2', 'IL1R2', 'SYCE3', 'VAV3', 'TBC1D16', 'TARBP1', 'SPRYD3', 'PARG', 'C22orf24', 'AMHR2', 'ANTXRL', 'SET', 'SLC1A5', 'NXF2B', 'RNF19B', 'ERH', 'GTF3C6', 'TATDN1', 'ARL6IP1', 'WHRN', 'SNTB1', 'YTHDF2', 'MIR3936HG', 'FBXO34', 'ICMT', 'SLC38A11', 'HIGD1A', 'TMEM50A', 'RGS10', 'CCDC85A', 'TMED6', 'ARHGAP19-SLIT1', 'WDR82', 'ERICH6', 'SNX12', 'ALG2', 'MAP1S', 'NRBP1', 'ATG5', 'CABYR', 'PLPP5', 'STX19', 'ST6GALNAC6', 'TM4SF19-AS1', 'KIAA2013', 'TMEM144', 'DGKD', 'SLC25A42', 'LINC01090', 'HIVEP1', 'LOC105375624', 'TMEM208', 'AP5B1', 'SEC23B', 'CD200R1L', 'ANKRD34C', 'PLEKHB2', 'BRF2', 'HNRNPF', 'STIP1', 'RIOX1', 'C1orf43', 'NYAP2', 'APBA1', 'MRFAP1L1', 'PRR29', 'HTR1E', 'DACT2', 'OR2C3', 'RALBP1', 'TCEAL7', 'CHMP1B2P', 'KLF6', 'TREH', 'PDZK1', 'GSPT1', 'RTN4', 'CD58', 'FAM50A', 'C1orf122', 'CYFIP1', 'SEC61B', 'DAAM2', 'INS', 'SPATA6', 'NOTCH2', 'MRPL15', 'MAP3K20-AS1', 'LOC101928371', 'SCGB2A2', 'FGF12', 'DNAJC8', 'CCDC158', 'JUN', 'CYP51A1', 'LINC01619', 'FOCAD-AS1', 'CEP112', 'CREG1', 'UVSSA', 'DIAPH3', 'UBQLN4', 'HDGF', 'DNASE2B', 'POLR3E', 'PROKR1', 'KRT40', 'PGAM1', 'OR13A1', 'SSH1', 'TCFL5', 'NKX6-3', 'PEX12', 'CSMD1', 'ZNF544', 'ANK3', 'CYYR1-AS1', 'ALDOA', 'OR2A14', 'SDCBP', 'DUSP1', 'REG4', 'PARS2', 'SNAPIN', 'CENPP', 'THSD7A', 'ZNF214', 'LAMTOR2', 'CKAP4', 'ZDHHC18', 'MRPL49', 'MAPKAPK2', 'SLC3A2', 'ZNF587B', 'ACTG1', 'ZCCHC3', 'TRIM8', 'LINC01659', 'CD59', 'SNORA33', 'DUSP3', 'TOM1', 'GORASP2', 'WBP11', 'SUMO1', 'CSTB', 'ADAM23', 'MACC1', 'SNORD11', 'LINC02212', 'GPBAR1', 'CNRIP1', 'ARMC10', 'FAM66B', 'STK33', 'STARD7', 'MIR590', 'SCGB2A1', 'LEPROTL1', 'C11orf98', 'PRKAR1A', 'APOL4', 'BAAT', 'SNORA2A', 'GTF2F1', 'ARL8B', 'MNS1', 'NAPRT', 'ZNF430', 'RNF11', 'MIR3936', 'SQOR', 'DDX28', 'LIMK1', 'MFSD14B', 'RAMP2-AS1', 'CDHR5', 'KIF17', 'RAB7A', 'KCNJ1', 'EPHA4', 'AHSA1', 'GYS2', 'MS4A2', 'SLCO5A1', 'SOCS2-AS1', 'SEPHS2', 'CHST15', 'SH3RF1', 'TCEA1', 'TSPEAR', 'MYO1B', 'CDC26', 'MCAT', 'ADPRH', 'CALM2', 'MAPK10', 'NDFIP1', 'LINGO4', 'ADRM1', 'OR2A7', 'SYT14', 'SELENBP1', 'RUFY3', 'PSMB6', 'AMER2', 'PCDHA11', 'TPRA1', 'FBXO40', 'ZNF516', 'TMEM60', 'ATP6V1E1', 'TUSC2', 'RPUSD2', 'PSMD1', 'BTBD6', 'CDR2', 'EAF2', 'COL4A1', 'ALKBH5', 'RAP1B', 'CD151', 'MRPL44', 'SLC25A45', 'C3orf35', 'N4BP1', 'LAX1', 'DOK1', 'CERS2', 'SLC4A7', 'UBAP1', 'SERINC1', 'SLC2A2', 'CADM2-AS2', 'METTL7B', 'CFAP99', 'MRPL51', 'HCN2', 'PCNA', 'CBLN3', 'NKTR', 'NDUFA8', 'SPATA2L', 'FGF16', 'ASTN1', 'FABP7', 'CMTM3', 'HTR1D', 'HSPA9', 'NR3C1', 'VCP', 'IDS', 'LINC00538', 'THRB', 'SMIM5', 'ARL6IP5', 'LINC00887', 'LOC101929759', 'PRUNE2', 'ZNF350-AS1', 'IRF2BP1', 'OCLN', 'TMEM101', 'TACO1', 'RNF212', 'TBCC', 'EIF4A3', 'ZNF689', 'ANKRD36C', 'CDH17', 'REM2', 'SLC4A8', 'TMEM196', 'EIF2S2', 'CDC42SE2', 'TAS2R20', 'CCNB2', 'GABRR3', 'FGF1', 'CDKN2AIP', 'TMBIM6', 'SPATA45', 'LOC107985579', 'EIF1', 'RANBP2', 'GNA14-AS1', 'SUSD5', 'CDHR3', 'PSMD4', 'VAC14-AS1', 'SRC', 'CACNA2D3', 'SYNDIG1', 'JAGN1', 'CR2', 'STRADB', 'LINC00517', 'DNAJC1', 'PCMT1', 'PTPN1', 'PTPN12', 'ID4', 'MANSC4', 'CTNNA1', 'FAM133A', 'CD99', 'TGFBR2', 'COX5A', 'ETV1', 'MAPRE1', 'SNORA54', 'MIR378J', 'PDIA3', 'LINC01258', 'GSTO1', 'DRAP1', 'ZNF318', 'TMEM229B', 'TMEM127', 'AGR3', 'TMEM45A', 'PIM3', 'ARF4', 'NAMPT', 'CTNNA2', 'MYL6', 'CFAP61', 'ZGRF1', 'TSIX', 'MPG', 'IL23R', 'LRRC52', 'TMEM140', 'CNOT3', 'MEI4', 'NDUFB3', 'LINC01505', 'CHRM4', 'CREBL2', 'SPRY1', 'EIF5B', 'KCND2', 'MAD2L1BP', 'INE1', 'DNASE2', 'MEA1', 'POLR1E', 'FGD6', 'EXOSC4', 'CCDC160', 'TAS2R14', 'TNFAIP8L3', 'SLC35E1', 'GLUD1', 'PHF5A', 'BET1L', 'GADD45GIP1', 'FAM177B', 'SDF2', 'DOK6', 'PAXBP1-AS1', 'VDAC2', 'PARD6A', 'SRXN1', 'TMEM200A', 'GOLPH3', 'FRAT2', 'SGTA', 'HNRNPH2', 'CIB4', 'ELOF1', 'DOC2A', 'LINC00632', 'HSP90AB1', 'PSMC1', 'LOC101927827', 'NRSN1', 'TRMT112', 'THAP11', 'TRABD', 'SPTLC3', 'ACTR1A', 'PALMD', 'DIO1', 'LRRC42', 'SH3BP2', 'C11orf65', 'FAM135B', 'SYCE1', 'PCYT1B', 'CASP10', 'ZBTB42', 'GLRA2', 'UBE2Z', 'PIM2', 'HRH1', 'SLCO1A2', 'UBE2S', 'ITIH2', 'NR2F2-AS1', 'TXNRD1', 'ALAS1', 'PLK3', 'TMEM109', 'NOTUM', 'MTX3', 'NME9', 'RETREG2', 'ING1', 'SYTL3', 'TALDO1', 'DZIP1', 'RASGRF1', 'RAP1GAP2', 'SPAG6', 'LOC102723968', 'LINC01761', 'TPI1', 'ZNF622', 'CCDC47', 'LOC101928858', 'ADO', 'LINC01914', 'ENO1', 'IMP3', 'KTN1-AS1', 'WDR1', 'TUSC1', 'KDELR2', 'NUP62', 'RAB6C-AS1', 'MFAP1', 'LOC283335', 'LINC01814', 'RAB31', 'PPP1R1C', 'SNORD116-30', 'TMEM178A', 'NT5C1A', 'DNAJB1', 'FAM126A', 'CNIH4', 'MKRN2OS', 'SMIM18', 'TMEM139', 'TM2D2', 'ZBTB2', 'MSS51', 'ATP6V0A1', 'CFAP54', 'TIPARP', 'SLA2', 'GYG1', 'PHB', 'DLGAP5', 'RTF1', 'FBXO21', 'SMAD9', 'DHRS7', 'C1orf220', 'STOM', 'GRM7-AS3', 'TMED9', 'HNRNPC', 'HTR1F', 'PLP2', 'TAL2', 'UTP3', 'HP', 'ANO3', 'PHLDB2', 'RAN', 'EIF1AX', 'EIF3I', 'SNAPC2', 'ORAI2', 'NPW', 'CYP2C18', 'ANKK1', 'LY6G5C', 'TMEM35A', 'CDIP1', 'PPY', 'LINC02287', 'LMAN2', 'MCMBP', 'MRLN', 'SNORD116-29', 'TOR1B', 'IP6K1', 'BUD31', 'CANX', 'MRPS12', 'SUPT4H1', 'AGAP3', 'ASGR1', 'RBM42', 'SEC14L6', 'DSP', 'KLF7', 'PLEKHA5', 'NHS', 'NCAN', 'LOC101928837', 'TP53TG3', 'PARP4', 'USP3-AS1', 'ZBED9', 'KIF1C', 'EMC3', 'FYTTD1', 'SLC25A21-AS1', 'LENG1', 'DNAJA2', 'PLOD3', 'GTPBP6', 'MPRIP', 'MAP7D2', 'RORC', 'LOC101927318', 'CCDC85C', 'LOC388282', 'RDX', 'PDCD1', 'LAT2', 'TINCR', 'TOGARAM2', 'CHMP2A', 'USP10', 'PGK1', 'ARHGEF10L', 'IL1RL2', 'LOC284788', 'UNC119B', 'ANXA2', 'CDC34', 'GOLGA8DP', 'SCARNA9', 'GJA3', 'JAM3', 'ACKR4', 'ACAA2', 'MRPS10', 'MTAP', 'SRSF12', 'LGALS3', 'INS-IGF2', 'INHBA-AS1', 'UGT3A2', 'RTN2', 'API5', 'NAXE', 'TP53RK', 'EPHA6', 'PEF1', 'KPNB1', 'SLC39A11', 'PHF19', 'PRKD1', 'VWA8-AS1', 'ZCCHC17', 'ADCK1', 'DDX24', 'GABARAP', 'C2orf66', 'TMEM11', 'PLEKHO2', 'BOLA2', 'LINC01772', 'GPX4', 'ARMC7', 'NT5DC2', 'CA5B', 'RAB1B', 'CCDC80', 'DAD1', 'PRMT6', 'CABIN1', 'BAK1', 'PHAX', 'ITGB1BP2', 'BHLHE41', 'TBC1D8B', 'LINC00595', 'LINC00449', 'CDK4', 'TMED10', 'PGRMC1', 'LASP1', 'SLC7A9', 'DES', 'ATP6V0C', 'MFSD4A', 'COPRS', 'ZNF410', 'IRAK2', 'KCND3-IT1', 'VEZF1', 'CNP', 'AGPAT3', 'ACVR1', 'RALGPS2', 'PECR', 'RCC1L', 'ATP6V0E1', 'MIR559', 'LOC101927237', 'MID1', 'NPM1', 'SLC6A1', 'PBXIP1', 'ROBO1', 'ATG16L2', 'MAIP1', 'ETFBKMT', 'NDUFV2', 'SYAP1', 'CEP19', 'CDK2AP2', 'NTMT1', 'FBXL13', 'BCOR', 'ZBTB7A', 'BLOC1S3', 'NFATC2', 'SMARCA2', 'PLPBP', 'GRIA3', 'HLF', 'CAPN13', 'PPP1R8', 'CACNG5', 'CANT1', 'MLIP', 'CST4', 'SLC25A19', 'FKBP8', 'EFHC2', 'MTHFD2', 'ARHGEF28', 'INTU', 'FRMPD3', 'KLHDC3', 'GLP1R', 'HIVEP2', 'JDP2', 'XRCC2', 'AAR2', 'MIF4GD', 'SF3B4', 'CYYR1', 'SCIN', 'RAET1E-AS1', 'UBTD2', 'DCBLD2', 'ALG1', 'SENP3', 'ABCC9', 'HCP5', 'SRP14', 'DBNL', 'KCNB1', 'GRIA2', 'ADARB2-AS1', 'SRF', 'RASSF3', 'LOC101929705', 'AFM', 'JPH1', 'FLJ22447', 'BCL2', 'GAPDH', 'NUP50', 'CCT7', 'CNTF', 'UNC45A', 'TSPYL5', 'SPINK2', 'GPR160', 'MRGBP', 'RASAL2-AS1', 'RPS6KC1', 'PPP2CA', 'NEGR1', 'SDCBP2-AS1', 'TEX38', 'PTCHD4', 'UNC80', 'HMGB1', 'DMGDH', 'MED29', 'DSCR4', 'THRA1/BTR', 'UNG', 'PPP2R5C', 'UBE2M', 'LINC01584', 'LINC00847', 'GNB3', 'MCF2L2', 'MMP14', 'ARMCX6', 'STAT3', 'USP27X', 'LOC105371084', 'RGN', 'TMEM178B', 'TUB', 'MAT2B', 'MYO15B', 'LEF1', 'PABPC4L', 'PPP1R26', 'RPA1', 'RAB3C', 'RNASE10', 'PCBD1', 'STAU1', 'VPREB3', 'PLEKHH2', 'YWHAG', 'IYD', 'TMEM175', 'LINC01634', 'PCDHAC1', 'MYADM', 'CHTF8', 'ETHE1', 'MICAL3', 'MEP1A', 'BSG', 'WDFY2', 'STAM', 'LOC101928438', 'PTK2B', 'HECW2', 'PHC2', 'TNIP1', 'HLA-DOB', 'LRRC59', 'GPKOW', 'TIMP1', 'CD99P1', 'CAPRIN1', 'ORAI3', 'INTS6L-AS1', 'HSPH1', 'IL17RD', 'ENDOG', 'ZNF670-ZNF695', 'EPHA1-AS1', 'ATP13A3', 'G3BP2', 'ANO5', 'LINC00910', 'VPS4A', 'SYT4', 'CATSPER2', 'C15orf39', 'PPP1CB', 'PLEKHA6', 'IER3IP1', 'PPP1R3D', 'TTLL10', 'GDE1', 'CENPB', 'FARSA', 'DNAJB2', 'ESRP1', 'FLOT1', 'CHP1', 'LMCD1', 'FFAR4', 'EPGN', 'SEC14L1', 'SYT1', 'UBE2Q2P2', 'TXLNA', 'ZBTB20-AS3', 'COL10A1', 'GTF2H2', 'ZBTB4', 'BMF', 'RAC1', 'ADAMTS16', 'EMP2', 'PEX11G', 'PNMA1', 'PCK1', 'CDRT4', 'TCAF1', 'OPHN1', 'XPOT', 'ZBTB10', 'UQCRC1', 'RNF113A', 'PPP5D1', 'LIN7B', 'COPS4', 'UACA', 'DCTPP1', 'KCNJ11', 'GTF2IP4', 'CAPNS1', 'AURKAIP1', 'GNG5', 'FUT1', 'CLVS2', 'CTSD', 'MAP1LC3B', 'ASB9', 'ELAVL1', 'FEN1', 'PJA2', 'PTENP1-AS', 'CNPPD1', 'CENPBD1P1', 'IRF2BP2', 'TMA7', 'PSAP', 'LOC729732', 'KRAS', 'VAV3-AS1', 'MAEA', 'RETREG1', 'CASC17', 'SESN3', 'SARAF', 'BIRC2', 'SLAMF7', 'PTX4', 'TRIM31-AS1', 'LINC01886', 'HYOU1', 'LINC01782', 'SEMA6A', 'DEPDC1', 'TESK1', 'C12orf50', 'DCAF7', 'CD81-AS1', 'ADAM3A', 'HCST', 'TRMT10C', 'TMED2', 'PSMC4', 'EIF6', 'CD1D', 'RNF4', 'ACP2', 'TMEM163', 'SDHAF1', 'RAB35', 'ROR1', 'COL9A3', 'ROR2', 'CSNK2A1', 'LOC101927495', 'ZNFX1', 'ROMO1', 'ITPRIPL1', 'ZNF322', 'MYDGF', 'LINC01600', 'FAM66C', 'ETV3', 'ELOA', 'PYGO2', 'PDCL3', 'BFSP1', 'SHANK1', 'RORB', 'ISCA1', 'MUC15', 'VAMP7', 'TPPP2', 'HYAL2', 'SLC51B', 'S100A10', 'NMNAT3', 'TMEM43', 'PCDHB5', 'LRRC74B', 'ZNF709', 'MED18', 'COX8A', 'KCTD5', 'LRIG3', 'ABLIM3', 'PFDN2', 'TMEM184B', 'DAPK3', 'TESC', 'TIGD1', 'LIPG', 'SUPT16H', 'ZNF627', 'DNAAF2', 'APOBEC4', 'DAZL', 'TOPORS', 'HLA-DQA1', 'CCDC151', 'HMGCLL1', 'ZNF768', 'CCNF', 'GRB2', 'SSNA1', 'ENTPD1-AS1', 'COMMD3-BMI1', 'EYA4', 'LINC01252', 'XYLB', 'PCSK2', 'TGM4', 'DYNLRB1', 'MYRIP', 'FAM47E', 'PABPC1', 'UBA7', 'HABP4', 'LINC01876', 'NDUFAF6', 'VIL1', 'PAF1', 'HSF2BP', 'IRF2BPL', 'HSP90B2P', 'C1orf210', 'OR10H5', 'ARF1', 'C17orf107', 'GRIA4', 'B4GALNT4', 'PWRN1', 'LOC644669', 'LOC101929353', 'CFDP1', 'LIX1L-AS1', 'ZNF416', 'PACRG', 'TPD52', 'SLC44A3-AS1', 'BANF1', 'OR52R1', 'B4GAT1', 'OTOGL', 'SMIM10L2A', 'CARM1', 'PRDX3', 'RAI1', 'CETN2', 'DOHH', 'MTMR7', 'NR0B1', 'RBM24', 'FAM81A', 'PGM1', 'SIGLEC15', 'MRPS2', 'NGRN', 'LSR', 'TMEM47', 'ATXN1', 'KLHL21', 'ANKRD23', 'SMIM17', 'SNAP25-AS1', 'TTLL6', 'PRMT5', 'MRPL50', 'CCDC187', 'UQCR10', 'MIPOL1', 'NUS1', 'CBX1', 'TRIM46', 'EID2', 'SFXN3', 'SOHLH1', 'PARP14', 'LELP1', 'UBE2B', 'TRAM1', 'PSMD8', 'RILPL2', 'COX17', 'TRDMT1', 'FGD4', 'ABCF2', 'SLC17A1', 'TRPM6', 'SSR4P1', 'LINC01285', 'FAM47C', 'ZNF507', 'ZMAT2', 'RTL6', 'EXTL3-AS1', 'NBPF26', 'RAPGEF1', 'RDH12', 'WWC3', 'LDB2', 'RBM4', 'LAMP1', 'SLC8A1-AS1', 'TPM3', 'NEK7', 'CDKL5', 'PEBP1', 'TOMM5', 'AZIN1', 'SNX8', 'SHISA5', 'GSKIP', 'LINC01376', 'SPATA4', 'FHL5', 'LINC00645', 'PAK5', 'LAMB1', 'HERPUD2', 'XIAP', 'SYT11', 'ZNF668', 'PEA15', 'RTP4', 'DCTN2', 'KCNE4', 'GRIN2D', 'SUMO2', 'SP140L', 'ZHX1-C8orf76', 'EIF4G1', 'PICALM', 'ADD3', 'SDHC', 'ZBTB6', 'CDHR2', 'COX14', 'PLXNA2', 'RHBDL2', 'ADORA2A', 'LSM14A', 'TFPT', 'ZNF830', 'CYP2C19', 'LIN28B', 'PSORS1C1', 'HNRNPK', 'MATR3', 'PCDHGB3', 'LINC01470', 'DRC3', 'SMCO3', 'FANCB', 'PIP4K2C', 'ARRDC3-AS1', 'SCG5', 'LRRC37A5P', 'CTNNA3', 'TBL1X', 'NCOA4', 'PUF60', 'ILF2', 'ELAVL4', 'GNA13', 'GCHFR', 'CENPM', 'ADGRE5', 'ZHX3', 'ZC3H11A', 'CSRNP3', 'HECTD4', 'DDB1', 'ST14', 'TRIM26', 'TIMM29', 'HPGD', 'SH3GL2', 'TCTEX1D1', 'GLTP', 'SLC52A2', 'CTDSP2', 'LOC100130691', 'LRRC3', 'CENPBD1', 'TVP23C-CDRT4', 'RHOB', 'CER1', 'MRFAP1', 'RAD21-AS1', 'STX5', 'FAM66E', 'SNORA66', 'TACC3', 'SMIM22', 'ACOT2', 'LYN', 'TEX37', 'ELOVL1', 'AKIRIN2', 'TRIM71', 'ETV6', 'BBOX1-AS1', 'SLC27A4', 'HNRNPUL2-BSCL2', 'EFCAB10', 'PIK3R2', 'TTC13', 'FOXO6', 'TMEM187', 'TRIM38', 'BCAR3', 'LOC100130111', 'ST13', 'TRIB1', 'MRPL12', 'TMC3', 'ATP6V1D', 'DTX3L', 'HSPA4', 'RFFL', 'RPS6KL1', 'CITED2', 'AIP', 'ALDH1A1', 'ZMIZ1-AS1', 'PPIB', 'ATP1B2', 'MIR1322', 'AP2S1', 'AKIRIN1', 'CDK9', 'LOC100506258', 'SLC35F3', 'CASP12', 'LRRC4', 'LIN7A', 'NAALADL2', 'CRTC3-AS1', 'PSMA5', 'SMIM2', 'EME1', 'ARSJ', 'RPS19BP1', 'SCGB3A2', 'POU6F2', 'MOCS3', 'SYS1', 'SLC45A1', 'PRSS12', 'UBE2N', 'CBX3', 'CTHRC1', 'LINC01139', 'LTBP1', 'MANEAL', 'ALLC', 'POTEI', 'VPS18', 'SLC17A6', 'RHOA', 'GOT1', 'BMS1', 'TOP1', 'TREML3P', 'PCLO', 'TUBGCP3', 'DNAH1', 'PABPC5', 'ACLY', 'BACH1', 'LINC01714', 'CTSH', 'NPTN', 'METTL2A', 'ANKDD1A', 'SLCO4C1', 'PCDH15', 'CNIH1', 'GRINA', 'MRPL34', 'ZNF593', 'LINC01554', 'AP3S1', 'COX6A1', 'TRAPPC2L', 'WNT4', 'TMEM119', 'SF3B5', 'CCDC112', 'BCO2', 'MUL1', 'MBNL1-AS1', 'TSPYL1', 'ZMAT4', 'CD3D', 'WBP2NL', 'B3GALT2', 'RDH10-AS1', 'NMT1', 'C11orf87', 'ADAMTS5', 'LYSMD2', 'STAT5A', 'M6PR', 'P4HB', 'YIPF3', 'TUBB2B', 'FNBP1', 'TSPO2', 'MIR200CHG', 'ZNF227', 'GALNT1', 'SMIM15', 'PRELID1', 'B4GALT6', 'LOC101929626', 'ABCA12', 'VIM', 'DSCR8', 'ARFGEF1', 'MRM3', 'S100A6', 'CYP4F62P', 'DYNLT3', 'CNTNAP5', 'EIF3J', 'SLC17A4', 'IQGAP1', 'TMEM123', 'AR', 'TOX3', 'ISX', 'AARD', 'ATP10D', 'FAM107A', 'ENKD1', 'PSMD2', 'FBXO16', 'GTF2B', 'CDC42', 'ASPA', 'SAE1', 'SUN3', 'NCF2', 'RNF5', 'SPCS2', 'CRYBG2', 'IL6R', 'AMBN', 'ERMN', 'LAMP2', 'MED19', 'CD5', 'SLC35D2', 'DYDC2', 'CAMK1G', 'C14orf39', 'BBS12', 'ARCN1', 'TXNDC2', 'RFX2', 'FBXL15', 'ABT1', 'CA10', 'ACP7', 'LINC01315', 'LINC02388', 'PCDHA10', 'GIT1', 'TUBG1', 'TERF1', 'LINC00398', 'RPA2', 'TSFM', 'RAB10', 'TMEM72-AS1', 'SCRN1', 'MPV17L', 'ZCWPW2', 'SKP1', 'TRAPPC12', 'OR1L8', 'TTC39A-AS1', 'SCN9A', 'PTPN11', 'TMEM86A', 'IFIT5', 'SDR16C5', 'PPP4C', 'WSB2', 'EFL1', 'TC2N', 'DGCR2', 'FSTL5', 'KBTBD4', 'CALHM2', 'DNAH7', 'ZNF608', 'SRP9', 'CCDC189', 'ADGRF3', 'PPM1D', 'KBTBD7', 'DIRAS1', 'RWDD4', 'SLC6A17', 'CDRT1', 'BLOC1S4', 'PIGL', 'LOC105379194', 'GPRC6A', 'PRPF19', 'HGH1', 'SRPRB', 'GPR158-AS1', 'MFAP3L', 'PROS1', 'DUSP12', 'FALEC', 'KCNH1', 'ACAT2', 'ENTPD3', 'C4orf50', 'MAB21L3', 'BCAP31', 'MAFTRR', 'RMST', 'KRTAP4-4', 'CTDP1', 'FAM160A1', 'NPY1R', 'GNAS', 'TENM4', 'CKB', 'ARFGAP3', 'CCDC122', 'CFAP36', 'FANCF', 'EHMT1', 'CROCC2', 'UST', 'P2RX6', 'CCNL1', 'RAB3IL1', 'TMPRSS5', 'DEXI', 'AMBRA1', 'DDX39B', 'LINC02261', 'PTGDR2', 'RITA1', 'SCAMP2', 'C8orf37', 'TOB1', 'ARHGEF26-AS1', 'LOC731157', 'CROCCP3', 'BTN2A2', 'TAS2R5', 'ITIH5', 'IQUB', 'LOC254028', 'RBM47', 'IGFBP6', 'MED8', 'ASB11', 'CKAP5', 'GHITM', 'SGO1-AS1', 'ATP6V1F', 'PASK', 'GBA3', 'CHPF', 'ECI1', 'PRR13', 'MIR659', 'UPK3B', 'DACH2', 'TTLL9', 'COL21A1', 'SOD1', 'GZMB', 'SNORD83A', 'TMED7', 'CCDC114', 'PDPK1', 'GHET1', 'STK4', 'NUDT7', 'MMRN1', 'LINC01697', 'CHST2', 'MORC4', 'HCCS', 'RBM44', 'RRN3', 'NREP-AS1', 'ELL', 'RAB6B', 'ANKRD31', 'FAM218A', 'SLITRK6', 'RABGGTB', 'HNRNPLL', 'LINC00184', 'KCNK7', 'AKAP6', 'MOB3A', 'LINC01981', 'FIRRE', 'MIR1250', 'PCDHA3', 'GPR137B', 'PLAGL2', 'GNG2', 'E2F3', 'COL2A1', 'B4GALNT1', 'BAG1', 'SLC35F1', 'KCTD4', 'F11R', 'RGS9BP', 'EIF4E', 'KY', 'TAAR1', 'CBR3-AS1', 'SLC18A2', 'KDELR3', 'EIF3C', 'DDX50', 'FAM32A', 'MGAT4C', 'MAGEH1', 'ZNF140', 'PRELID3A', 'MYO10', 'RPS6KA5', 'GLRA1', 'GABRA3', 'CFTR', 'BCKDK', 'RNF180', 'NEU1', 'LINC00365', 'LOC100507156', 'MRPS25', 'AKR1E2', 'NF2', 'B3GALT1', 'MAL2', 'KCNJ6', 'TSN', 'BAZ1B', 'LRRC2-AS1', 'ZNF491', 'FAM167A-AS1', 'ABCA4', 'FRRS1L', 'SARNP', 'C1orf141', 'PLA2G4F', 'SLC30A10', 'SIRPA', 'GLMP', 'ACSL1', 'JOSD2', 'OXGR1', 'MRPL21', 'EIF4B', 'PITPNC1', 'MIR6782', 'YWHAQ', 'RPP38', 'ABHD15', 'UGT2B7', 'SLC16A12', 'CCDC181', 'SGPP1', 'COA6', 'KITLG', 'G6PC', 'ELAVL3', 'TTC39A', 'CASP7', 'ELOVL4', 'ID2', 'PDCD7', 'TAPT1', 'PPARGC1A', 'VSTM4', 'SECISBP2', 'CLEC6A', 'TAPT1-AS1', 'TVP23B', 'MRAP2', 'NRIP1', 'NENF', 'RANBP9', 'ICA1L', 'DCDC2', 'FAXC', 'GPR108', 'CLDN23', 'METAP2', 'PTN', 'ELOB', 'IGFBP4', 'KIAA0825', 'PCGF5', 'BVES', 'AP2M1', 'CNKSR3', 'SPINK4', 'HSPA13', 'AQP4', 'PINK1', 'CHRNA2', 'ONECUT2', 'STRAP', 'DUSP14', 'ST18', 'TMEM203', 'SF3A3', 'TNFRSF10B', 'FGF10', 'MAGT1', 'TET1', 'MAP7D1', 'ZNF502', 'MIR3942', 'SAMD12', 'TUBA1B', 'SPECC1', 'TMEM159', 'KCTD11', 'USF3', 'PLEKHG6', 'SEC61A1', 'PTGER3', 'SERTAD1', 'CXCR3', 'LOC105372352', 'PRKN', 'VSNL1', 'SS18L2', 'SERPINA6', 'ACTC1', 'KAZALD1', 'SLC12A9', 'FNDC5', 'PPP2R1A', 'SYDE2', 'ARHGEF18', 'QPCTL', 'PIGZ', 'ZCCHC10', 'PSMA3-AS1', 'PANK2', 'SLC2A1-AS1', 'LRRC69', 'MRPL57', 'LSS', 'SNRNP40', 'GRPEL1', 'DACT3-AS1', 'PAIP2', 'FAM155A', 'SLC5A8', 'TAF13', 'NAA50', 'ENO1-AS1', 'CPS1', 'DBNDD1', 'CYB5A', 'QSOX1', 'NINJ1', 'COX5B', 'LRRC49', 'HM13-AS1', 'ZER1', 'ASMTL', 'SNHG15', 'RNF133', 'CSNK1A1', 'IGFLR1', 'ERF', 'MEG9', 'CCDC92', 'KMT2D', 'FGG', 'DYNLL2', 'ODF2L', 'OR10A5', 'SPOCK3', 'FAM222B', 'PI4K2B', 'ANKS1B', 'SGSM3', 'PRUNE1', 'TMEM147', 'DNAJB6', 'OXCT2P1', 'LINC02175', 'MSL2', 'MIR600HG', 'PBDC1', 'TSPAN19', 'S100P', 'VTI1B', 'DISP3', 'NATD1', 'LRRC29', 'COA1', 'TNFRSF1A', 'NCKAP1', 'ERLEC1', 'CYP4F3', 'RAPGEF4-AS1', 'DGCR11', 'AP2B1', 'WDFY1', 'GRPR', 'RIC8A', 'EIF3A', 'MAPK1', 'RAB9A', 'ZFAND3', 'PCDHB13', 'FSCN3', 'TGFBR3', 'FXYD3', 'ADGRG2', 'SPC25', 'SLC45A4', 'CALB1', 'C17orf58', 'UAP1', 'PSMA7', 'AHR', 'CYCS', 'PRDX4', 'DRAM1', 'SNIP1', 'CRKL', 'LINGO2', 'SLC35C1', 'TMTC1', 'HAX1', 'CERK', 'ATMIN', 'SNX6', 'SGCD', 'AQP5', 'NCL', 'KRBOX1', 'MSANTD1', 'PDE10A', 'LCN12', 'MANF', 'RNVU1-15', 'CFAP43', 'FGF14', 'TCTN2', 'WBP1L', 'TMEM216', 'CHST14', 'RAB11B', 'GLB1L3', 'C6', 'WBP1', 'RPP25L', 'APEX2', 'SDHAF2', 'ZGPAT', 'MIF', 'VTCN1', 'DNAI1', 'HNF1A-AS1', 'LRFN5', 'MLEC', 'LINC00174', 'C2', 'GHRL', 'ADIPOR1', 'ELK1', 'RTCB', 'OAZ1', 'CPTP', 'ZNF281', 'RNF25', 'MBL1P', 'ZDHHC12', 'CFAP65', 'KCTD2', 'MRPS18A', 'SLC10A3', 'TMEM179', 'DPM1', 'RAD51AP2', 'ESCO2', 'ZP2', 'TDP1', 'LRAT', 'DSG2', 'FAM200A', 'STUB1', 'RACGAP1', 'TARM1', 'MED20', 'CLN8', 'ANGPTL3', 'CLCA2', 'MYLIP', 'CDC25C', 'AHI1', 'PAK2', 'PARK7', 'VPS33A', 'GJC1', 'FXR2', 'SMC2-AS1', 'ST3GAL5', 'SGPL1', 'NPHP1', 'CACHD1', 'DCPS', 'HAO1', 'MEPCE', 'SCRN3', 'PRPF4', 'SIM1', 'RFC1', 'RTL8C', 'MSRB1', 'CD8A', 'LGI1', 'DLGAP2', 'COLCA2', 'TLE4', 'KBTBD6', 'TXNDC11', 'ZNF133', 'ZHX2', 'METTL24', 'LINC00562', 'CSN3', 'PSMD7', 'RIPPLY2', 'PART1', 'SPEF2', 'SNRPB2', 'RTL5', 'AVPI1', 'NXF5', 'TRAPPC4', 'CCPG1', 'CDIPT', 'TREX1', 'EMC7', 'AMT', 'ATP6V0D2', 'MYL4', 'TMEM241', 'LINC00488', 'CRB1', 'CABP1', 'HSPB8', 'F2R', 'ANKRD50', 'MGAT1', 'PRDX5', 'NUP98', 'UBA2', 'POLD3', 'LOC643201', 'ARL2BP', 'LSM4', 'SLC25A34', 'RAVER1', 'RAPGEF4', 'STPG2', 'ADCK2', 'GRN', 'MPDZ', 'KIAA1549L', 'LINC00240', 'ACOT12', 'PRORSD1P', 'CHCHD1', 'TMEM156', 'MEIG1', 'WFIKKN2', 'PLCXD2', 'SOX6', 'PEPD', 'LOC105369980', 'NOMO2', 'KCND3', 'PBX1', 'PSME4', 'TIMM10', 'OSTC', 'DSTNP2', 'NDUFC1', 'PRDX6', 'ACTL10', 'OST4', 'OR51I2', 'UXT-AS1', 'CCT4', 'TM9SF2', 'MCC', 'RIT1', 'SP2-AS1', 'ACTR2', 'CTR9', 'PPM1G', 'PARD3B', 'KCNC2', 'TTC23L', 'GSTO2', 'DEPTOR', 'CCDC124', 'USP11', 'KDELR1', 'IPO7', 'ANGPTL5', 'TBK1', 'PABPC5-AS1', 'IFI27', 'LOC283299', 'PRKG2', 'PGM5', 'ADCY1', 'R3HCC1', 'LSM1', 'GPN1', 'PSMD10', 'SHC4', 'STATH', 'FASTKD5', 'MEX3C', 'THSD4', 'COMMD5', 'RTL9', 'DNHD1', 'LOC105369779', 'WDR18', 'LOC101929331', 'TSSC4', 'SAMD13', 'MEGF11', 'FAM120AOS', 'LCMT1', 'COBL', 'SKI', 'HIF1AN', 'SZRD1', 'MRPL45', 'GABRB3', 'RABAC1', 'DTNA', 'S100Z', 'PRRG1', 'EHF', 'RAB43', 'PDK1', 'STXBP5L', 'DYRK3', 'COX7A2', 'SPRY3', 'PPIC', 'MRPS18B', 'MIR924HG', 'TGFBR1', 'KLHL6-AS1', 'PLXND1', 'SART3', 'C10orf90', 'PSENEN', 'DNLZ', 'CNBP', 'NOP58', 'NFIA-AS2', 'LINC01361', 'KIAA0895L', 'COPE', 'RIMS1', 'LRP12', 'AFF1', 'KRT33A', 'LOC284930', 'BID', 'PRLR', 'MDH1', 'BAZ2B', 'PCYOX1', 'CFAP47', 'DNAH9', 'CSDE1', 'HAL', 'RAI14', 'CCT3', 'CHMP5', 'TUBA4A', 'LINC00888', 'UBL5', 'SMARCA5', 'CC2D2A', 'MKRN1', 'ZNF584', 'LYPLA2', 'MRPL4', 'TTLL7', 'GABRR1', 'NEB', 'GCC1', 'GLDN', 'C20orf202', 'FER1L6-AS2', 'SLC13A1', 'FIGN', 'FBXL14', 'RING1', 'MXRA7', 'TRPM3', 'LIPH', 'SERPINH1', 'CCDC85B', 'ZNF711', 'CNTN1', 'OAS1', 'RUBCN', 'SYT9', 'DEGS1', 'MRPL18', 'MTFR1', 'FGFR2', 'TCTN3', 'MAMLD1', 'HNF1A', 'TMX4', 'AMIGO1', 'OSGIN2', 'FBXO46', 'LINC01267', 'NDUFB10', 'RSL24D1', 'DNAJC14', 'MINPP1', 'ARHGAP28', 'YIPF2', 'ME3', 'NMNAT2', 'ARHGAP29', 'RBM38', 'PTPRZ1', 'SERINC3', 'REPS2', 'ESRRG', 'SLC38A3', 'ACOT7', 'PTPRG-AS1', 'GSS', 'NALCN', 'PDIA6', 'LEO1', 'ABCC11', 'TMED7-TICAM2', 'SLC1A2', 'C10orf67', 'ATP6V1B2', 'NEK10', 'CHRNB2', 'FREM2', 'C9orf135', 'KCNN4', 'BOD1', 'SOWAHD', 'SLC15A1', 'MRPS36', 'PDE7A', 'ACD', 'OR11H4', 'MAGI2-AS3', 'ART5', 'NDUFA13', 'SOX12', 'KC6', 'FAM168B', 'NXN', 'CEACAM6', 'C9orf64', 'CCDC178', 'COPB2', 'MAFG', 'HMGN4', 'SCYL1', 'INSIG1', 'GC', 'SPAG7', 'SIAH2', 'PPP2R5D', 'CHMP1A', 'FREM1', 'DALRD3', 'ZNF408', 'PRPS1', 'SCML2', 'TMEM70', 'SNRPD2', 'UBE2R2', 'SGPP2', 'LINC01744', 'EPHA3', 'NFU1', 'BUD13', 'LINC01410', 'TMSB4X', 'LINC00320', 'PSME3', 'USP1', 'LINC02177', 'MRPS34', 'FAM169A', 'FAM13B', 'SIGLEC6', 'C4orf36', 'PFDN6', 'CEBPZ', 'FRG1', 'CFAP69', 'SPTLC1', 'SPINT2', 'PGR', 'LRRC37A11P', 'PIK3R3', 'PDE4B', 'GULP1', 'PEX5L', 'PRC1', 'CPT1A', 'PDE3A', 'CKS1B', 'KIF3C', 'LPP', 'BNIP3L', 'PRKAR1B', 'ARMCX2', 'WIPF3', 'ARL4C', 'TMPRSS12', 'KHSRP', 'EEF2KMT', 'MORF4L2', 'FSTL1', 'JMJD6', 'DRC7', 'TATDN3', 'LINC00261', 'BMPR2', 'CLTC', 'STT3A', 'FAM174A', 'ARHGAP44', 'LOC101927267', 'SOCS2', 'DLX1', 'HMOX2', 'STYXL1', 'SEMA5A', 'GABRP', 'DENND6B', 'MAP1B', 'NDUFA2', 'CRISPLD1', 'TUFM', 'UBE2Q2', 'PPP1R14C', 'BRINP1', 'TBL2', 'ABCG8', 'NUTF2', 'NEBL', 'RASSF5', 'UBE2Q1', 'MAFK', 'AGPAT5', 'ADGRG4', 'TMEM150C', 'MTTP', 'LAMTOR3', 'RAB1A', 'MSI1', 'UBAP1L', 'LINC01419', 'PLET1', 'TRIM55', 'NLGN1', 'TMEM245', 'PTRH1', 'F8A1', 'GPT2', 'LONRF3', 'USP9X', 'CD6', 'SCN3B', 'TYW1', 'LRP2BP', 'TMED11P', 'CALD1', 'LOC442497', 'TSPAN31', 'PPP2R2C', 'MED26', 'CSE1L', 'STON2', 'NXF4', 'VPS13A', 'CCDC28A', 'TINF2', 'HNRNPA1L2', 'MBOAT2', 'RPH3A', 'GPN3', 'PCSK1', 'RARB', 'PITHD1', 'RECQL', 'DHX9', 'SLC48A1', 'RRS1-AS1', 'PPP1R1A', 'MRPL10', 'ZNF98', 'DLGAP3', 'SNTG2', 'PDE11A', 'RCBTB2', 'LOC100288748', 'SNHG20', 'FAM234A', 'C3orf52', 'CERS3', 'FAM91A1', 'PTPN6', 'SVOP', 'RGS7BP', 'AMZ2', 'PDAP1', 'COPB1', 'MIA2', 'GREM1', 'LYRM2', 'TAX1BP1', 'LINC00589', 'FAHD1', 'DEPDC1B', 'DSC2', 'GPR137C', 'CTSA', 'PLCB3', 'SAGE1', 'LMBRD1', 'B9D1', 'EPB41', 'TM9SF1', 'LMCD1-AS1', 'LINC02009', 'SNORD69', 'SLC30A5', 'LINC01091', 'ZDHHC20', 'POLDIP3', 'CSTF1', 'MIEF2', 'DGKK', 'RASEF', 'ADAMTS18', 'ZBTB45', 'GRIN2B', 'CNIH3', 'HADHB', 'PLEKHJ1', 'ERC2', 'RHCE', 'BLOC1S5', 'ATP1B1', 'PRR19', 'ANAPC13', 'AZI2', 'SPSB4', 'LINC01618', 'MYL3', 'ARF3', 'LAP3', 'SH3GL3', 'HNF4A', 'XPC', 'XRN2', 'TBC1D17', 'SMC3', 'HEG1', 'NUDC', 'SDHA', 'CTSZ', 'CGN', 'GRM5', 'LARP6', 'CSTF2T', 'BBIP1', 'RNPS1', 'GABRG2', 'SLC8A3', 'SLC25A11', 'KPNA4', 'NXPE4', 'CRAT37', 'LOC101928035', 'NDUFA1', 'RAB39B', 'ZBTB5', 'SPTY2D1', 'LOC101929709', 'TMEM100', 'APOBEC3C', 'RIPK1', 'CCNYL2', 'CLIP2', 'MRPL14', 'KCNJ15', 'PPM1H', 'STXBP6', 'SPATA2', 'RBPJ', 'FTX', 'NOL7', 'CNTN6', 'LOC108783654', 'KIAA0232', 'ADAT2', 'ZNF526', 'LOC100128164', 'XKR4', 'PITPNB', 'RELA', 'CNKSR1', 'CHCHD2', 'COL3A1', 'CCL15', 'DTX3', 'CMYA5', 'TMEM269', 'DVL2', 'NRG4', 'PDLIM3', 'ARHGEF26', 'GPR1', 'ZNF845', 'FOS', 'ADAMTS15', 'NDUFC2', 'EOGT', 'LOC339874', 'IKBIP', 'TIMM17B', 'RHNO1', 'DCX', 'BEND5', 'SMU1', 'ARF6', 'FLJ46284', 'ZNF730', 'AK7', 'TFIP11', 'AGFG2', 'UBE2G1', 'LINC01474', 'SNX9', 'CXXC4', 'PLEKHA7', 'POT1-AS1', 'ILDR1', 'PITPNA', 'SV2B', 'GPM6B', 'USP6NL', 'ZNF217', 'LINC00908', 'TMEM132D', 'TMEM129', 'PTCHD3', 'SDAD1', 'LIFR', 'HTD2', 'NUBP1', 'KAT5', 'KCNJ3', 'CALR', 'GPR142', 'MUC4', 'BRK1', 'CTDSP1', 'COL25A1', 'EFCAB5', 'TPO', 'ITGA9-AS1', 'ZNF831', 'KCNAB3', 'IMPG2', 'TTC6', 'FBXO31', 'ZNF524', 'ASIC4', 'PRTG', 'TRIP4', 'PLA2G15', 'LAGE3', 'ERRFI1', 'FOXO3', 'GLRX5', 'ARHGAP11A', 'DNAJC27-AS1', 'COL4A3', 'FAM162B', 'SLC12A1', 'SRGAP3-AS2', 'SAP30L', 'CDKN2B-AS1', 'DEUP1', 'PHTF1', 'KCTD17', 'PDRG1', 'LINC00894', 'BMI1', 'CYP39A1', 'PHC3', 'ZNF385D', 'KCNA5', 'ACTL6B', 'UPF1', 'RPN2', 'KCNMA1', 'PPP1R11', 'MIR181B2', 'TBC1D32', 'DAP', 'AK1', 'PCDHB10', 'HTATSF1', 'ROBO2', 'SLC25A39', 'UNC5C', 'SFMBT1', 'HIBADH', 'RASSF6', 'MICU1', 'CHN2', 'CSRP2', 'GRIN3A', 'IRF5', 'GBE1', 'ZBED1', 'CYP1B1-AS1', 'DNAJC10', 'TPSAB1', 'PRKRA', 'GPX7', 'TOP1MT', 'STRIP2', 'LOC101928002', 'PRB3', 'OR2H2', 'IFNGR2', 'TEP1', 'SLC2A4RG', 'EYA2', 'CYSTM1', 'PAPPA-AS1', 'CIR1', 'ARFGEF3', 'CLP1', 'ARPP19', 'C3orf70', 'LAMA1', 'THRIL', 'U2AF1', 'KLB', 'JTB', 'PRKAR2A', 'RHOH', 'PNPLA6', 'TOB2', 'TRMT1L', 'ADTRP', 'SGIP1', 'LOC101927124', 'YWHAH', 'A1CF', 'PLPPR5', 'RAB5B', 'SCAF1', 'PPP1R3C', 'PITPNM2', 'LINC02389', 'SH2B2', 'SPATA18', 'PTPRD', 'BCDIN3D', 'FAM83F', 'ATRNL1', 'PUS3', 'WDR44', 'LRRTM2', 'THOP1', 'JADE2', 'OAZ3', 'PRKCQ', 'CCDC97', 'SPATS2L', 'PPIF', 'CAMKK1', 'PSMB1', 'CHRM3', 'RNF130', 'WEE2', 'PLCXD3', 'GPBP1', 'POLR2M', 'RGCC', 'TMEM200B', 'NTRK2', 'EAPP', 'LRR1', 'FAM83G', 'ITFG1', 'SELENOW', 'ESYT1', 'NEUROD1', 'ANKS4B', 'TRIM27', 'CLRN3', 'DDX19B', 'RHOBTB1', 'DPH3', 'LRRC41', 'NDNF', 'HSD17B10', 'PSMC2', 'RNF10', 'TDRD5', 'PLCB4', 'B3GNT9', 'CRTAC1', 'LNX2', 'PYY', 'ZNF169', 'ISCA2', 'S100A4', 'DIP2A-IT1', 'FMNL2', 'MMP21', 'NDUFAF1', 'PCDH20', 'ZNF267', 'GLIPR1L1', 'EMC9', 'MTMR10', 'GLA', 'SYNPR', 'SAC3D1', 'FAM13C', 'SLC2A9', 'RNF150', 'OLAH', 'AASDHPPT', 'SFXN2', 'GLIPR1L2', 'BHMT2', 'ATL3', 'TMEM232', 'MGAM2', 'CYB5B', 'RNVU1-1', 'SNAPC5', 'OSBP', 'ACOT11', 'SRSF3', 'HCFC1R1', 'LINC01484', 'PCDH18', 'C16orf54', 'ALK', 'SNX18', 'ZNF662', 'CDC14B', 'SUDS3', 'CHCHD4', 'PRELID2', 'C6orf141', 'SLC38A2', 'SERP2', 'TP53BP2', 'POR', 'MAOA', 'CLSPN', 'PLEKHA1', 'CD8B', 'CDH19', 'HHIPL1', 'RARG', 'PRDM12', 'NKX2-2', 'ARHGAP21', 'LOH12CR2', 'SLC9C2', 'CALR3', 'PCDHB16', 'WDPCP', 'MRPL47', 'NFIA', 'TAB2', 'LOC101927636', 'PPP1R2', 'ZNF519', 'EGFLAM', 'ZNF134', 'ZNF710', 'MYO3B', 'PYM1', 'HUS1B', 'STKLD1', 'PREB', 'KRTCAP2', 'KLF10', 'ESAM', 'LINC01121', 'DDOST', 'LOC101928978', 'NUDT4', 'RPAIN', 'LPXN', 'TXNDC12', 'SLC35G1', 'C1orf216', 'CAB39', 'SRPRA', 'CD72', 'SCG3', 'LENG8', 'TOX4', 'SLC13A5', 'RRM1', 'NAALAD2', 'TECR', 'LDLRAD4', 'CCNK', 'CASP9', 'ZBTB38', 'DENND4B', 'MED11', 'GSG1', 'VAT1L', 'STAMBPL1', 'RBFOX2', 'SERPINA7', 'TM4SF4', 'LMNB1', 'SNX4', 'SND1-IT1', 'MVP', 'SHKBP1', 'NDUFAB1', 'DDHD2', 'KATNAL2', 'ARHGEF17', 'CST1', 'NDUFAF3', 'RAB25', 'DERL3', 'TOM1L1', 'COQ10B', 'TMEM200C', 'IRX2', 'TULP3', 'MID1IP1', 'SH3BP5L', 'NOD1', 'ABCC1', 'WFS1', 'RGS4', 'ZNF511', 'DSCAM', 'CLIC1', 'ADGRB2', 'HCG17', 'CAPN3', 'FNBP1L', 'GTF3C4', 'CLPP', 'EBP', 'ISOC1', 'PCDHGB6', 'ZNF319', 'CRTC3', 'LINC00511', 'VAMP8', 'GSTT2B', 'CCDC54', 'RHBDD2', 'ACE2', 'PCDH7', 'LOC145694', 'ASTE1', 'GABRD', 'SF3B6', 'BRD1', 'MCM2', 'GUCY1A2', 'SLC22A14', 'ACBD7', 'ARL3', 'RPGRIP1L', 'ZRANB1', 'DCAF6', 'DNAJC7', 'NELFE', 'PAPSS2', 'PLA2R1', 'TESK2', 'GON7', 'C1R', 'RAP2C-AS1', 'ARHGEF35', 'VPS35', 'ACTR8', 'TMEM248', 'C10orf120', 'ZNF70', 'MEIOB', 'RBM46', 'POLR2C', 'MCOLN2', 'WBP4', 'SNU13', 'TRIAP1', 'TP53I13', 'B4GALT5', 'EPB42', 'SMR3B', 'LINC00622', 'SNORA7B', 'IKZF2', 'BTBD3', 'DDX19A', 'THAP1', 'ZNF727', 'ASNSD1', 'ZNF79', 'GPD2', 'SUGT1P3', 'WDR86', 'BRMS1', 'TM9SF4', 'CAGE1', 'AVPR1A', 'DHRS4', 'SERTAD3', 'LATS2', 'TLK1', 'ZBTB7C', 'RAB40C', 'C6orf47', 'MATN2', 'PRELID3B', 'ACTR6', 'ANLN', 'LINC01687', 'MIR4771-1', 'MAP3K15', 'WDCP', 'SPATA41', 'MFSD14A', 'HDAC9', 'DET1', 'PRPF6', 'TPD52L2', 'RELT', 'EDIL3', 'CTDNEP1', 'TCF4', 'COPZ1', 'RANGAP1', 'LRRC9', 'PPAN', 'MIEF1', 'PAX5', 'LTBP3', 'ABRA', 'TNFAIP1', 'THYN1', 'HSD52', 'SMPDL3B', 'WFIKKN1', 'CMTR2', 'CDC42EP3', 'LOC101927787', 'RNF187', 'XKR9', 'DHRS13', 'NCMAP', 'SLC20A1', 'REST', 'NOSIP', 'RBBP9', 'ANGPT1', 'RRP36', 'EAF1', 'GJA1', 'PCDHB3', 'ANP32E', 'TDGF1', 'MSMO1', 'GALNT2', 'HADHA', 'PCDH8', 'B3GALT4', 'PAQR8', 'SNW1', 'CNTN5', 'DNM3', 'RNF41', 'CYP51A1-AS1', 'ECHS1', 'PRKD2', 'SLC2A10', 'DPM3', 'BNC1', 'LINC01133', 'CDK7', 'FAT1', 'RAB38', 'METTL18', 'GRHPR', 'GRM7', 'ZNF814', 'RXRA', 'NYNRIN', 'STS', 'KRT222', 'OTUD5', 'SF3B2', 'LOXL4', 'INSC', 'PUM2', 'TUSC3', 'LOC101928626', 'MAF1', 'MXD3', 'BIN1', 'RNF165', 'TMPPE', 'LINC01998', 'TSPAN1', 'ZMAT1', 'PTBP1', 'ARHGDIA', 'ASB4', 'RUVBL1-AS1', 'CAMKK2', 'RNF152', 'UBTD1', 'FAM124A', 'CATSPER2P1', 'GPR156', 'CCDC183-AS1', 'STAT4', 'DIXDC1', 'PAFAH1B1', 'CDK17', 'TRAK2', 'SLC39A7', 'KPNA3', 'ZNF81', 'TTC12', 'SETD1A', 'LOC100128568', 'CCT6A', 'AXDND1', 'CYP4X1', 'KLHL1', 'NOB1', 'KDSR', 'ANP32B', 'SOX5', 'LINC00857', 'ENO4', 'STAC', 'LONP1', 'DDX1', 'SSBP2', 'CWC15', 'PTPN20', 'ARHGEF3', 'RNF149', 'NUDT13', 'CENPS', 'KIF21A', 'DCAF4', 'TMEM215', 'VPS37C', 'CRNKL1', 'P2RY1', 'NADK', 'CNPY3', 'GPC6', 'THEMIS2', 'SMCO4', 'PXN', 'CARD10', 'PLSCR4', 'ASPHD2', 'STK32A', 'SNORA60', 'ENO2', 'WASHC2A', 'PAGR1', 'NIF3L1', 'EFS', 'ATP13A4', 'SIN3A', 'LRRC8D', 'DNAAF4', 'DRC1', 'FAP', 'CD164L2', 'CMTM6', 'RNF40', 'RBBP8', 'CCDC169', 'MYL6B', 'LRRC39', 'C1orf116', 'SLC45A2', 'NLRX1', 'CAHM', 'PTTG1IP', 'NREP', 'MAP3K8', 'COX10-AS1', 'IK', 'MKKS', 'CLPTM1', 'GPR37', 'BOLA1', 'GABRA5', 'LOC105375614', 'RSPH4A', 'NDUFB2', 'GALNT6', 'ZNF22', 'SBK3', 'PDCL', 'B3GALT5', 'AXIN1', 'COL28A1', 'HSP90B1', 'CHML', 'CRACR2A', 'BSPRY', 'C1QTNF7', 'LIME1', 'SMARCD2', 'LAMP5', 'OLFML1', 'WNK4', 'JOSD1', 'STYK1', 'CAPN12', 'CYB5RL', 'TBCB', 'HHAT', 'TTI2', 'CAPZA2', 'CCDC183', 'ZNF573', 'PCSK9', 'GID8', 'SMAP1', 'CACNA2D1', 'ATP6V0B', 'STON1', 'PCDHA6', 'BCL10', 'NEDD8', 'CTAGE4', 'LILRB4', 'PTPRR', 'COL9A1', 'ARMC2', 'SCN4B', 'ZXDC', 'ADRA2A', 'MCCC2', 'APOBEC3G', 'AHCYL1', 'CXorf58', 'THY1', 'ZNF321P', 'CENPVL2', 'TSR2', 'AHCTF1', 'POLR2L', 'ZNF488', 'FRAS1', 'RBM28', 'SLC35A4', 'OSCP1', 'KCNB2', 'YPEL3', 'GNL1', 'TTC1', 'MFGE8', 'SOS2', 'MEGF8', 'HES5', 'MROH8', 'HS6ST3', 'DIABLO', 'SNRPC', 'CABLES1', 'ZNF891', 'CYP46A1', 'NLRP14', 'CBX7', 'PIAS4', 'AMH', 'UBL7', 'OLA1', 'GTF2H4', 'DSEL', 'NUDT21', 'CLVS1', 'LGALS1', 'SOX9-AS1', 'LPIN1', 'SAMD14', 'ZNF652', 'LOC105274304', 'BAG5', 'DZIP1L', 'AP4B1', 'TOE1', 'PRKCI', 'YWHAB', 'TARID', 'MTFP1', 'TENM2', 'CHRM2', 'PES1', 'PAH', 'AQP10', 'SELENOI', 'CD164', 'CPNE8', 'PPM1M', 'WDR17', 'ZDHHC5', 'MTA2', 'ZNF644', 'PTPRT', 'PGRMC2', 'PRKCH', 'PIP5K1B', 'FEM1B', 'CYP2D6', 'SORCS1', 'PIGT', 'BOLA2-SMG1P6', 'SEPHS1', 'TRIM35', 'LOC100129620', 'IARS2', 'MKRN2', 'PCDHB6', 'SNORD9', 'ABHD14A', 'LOC101929099', 'LAMC1', 'GRM3', 'LOC101928728', 'WDR86-AS1', 'ZMPSTE24', 'FAM83B', 'ENOX1', 'AQP3', 'REPIN1', 'MYOZ1', 'MBOAT7', 'UBE2G2', 'LOC100129175', 'C2CD6', 'NSMCE3', 'SEMA6D', 'CIB1', 'ZNF121', 'SLC4A3', 'CCDC3', 'KRTAP5-AS1', 'CAPN6', 'TRIP10', 'CKAP2L', 'FAM104A', 'CHST7', 'ELP5', 'TMOD2', 'NR1H4', 'DBR1', 'MCOLN3', 'VAMP3', 'ARMT1', 'LINCR-0001', 'STXBP1', 'STMN1', 'LOC105375304', 'NAGA', 'CHRDL1', 'CNTNAP4', 'TAT-AS1', 'ITPR2', 'POU5F1B', 'STOML2', 'RIMS2', 'LINC01979', 'UTP11', 'FUT9', 'MRPL33', 'KCNJ5', 'FRMPD4', 'TPP1', 'SRP68', 'TLK2', 'KCNJ16', 'SLC35B2', 'DZIP3', 'PRKAA2', 'DCT', 'DNTTIP2', 'STAT1', 'CDON', 'NDST3', 'BRD2', 'GNB1', 'MYH3', 'SF3A2', 'SUCLG2-AS1', 'DDX25', 'PEX14', 'LOC102546229', 'GPR176', 'IGSF10', 'TOMM6', 'LINC02382', 'SLC7A14', 'LMO2', 'THEGL', 'SUCLA2', 'OR2D3', 'INIP', 'LOC105370027', 'SMPD3', 'PCDHGB5', 'TUBAL3', 'TCF24', 'PTPA', 'CASC2', 'BAHD1', 'LYPLAL1', 'TLN2', 'RXFP3', 'AMOTL1', 'RNF20', 'PYGO1', 'GAREM1', 'TMEM263', 'ATP6AP1', 'PSMA1', 'ACSM2B', 'SAR1A', 'LINC00870', 'ARPC1B', 'KHDRBS1', 'PON3', 'KRT36', 'ECH1', 'ZDHHC16', 'DGKB', 'ARID3A', 'NUDT16L1', 'PYROXD2', 'STK4-AS1', 'NCKAP5', 'CRYBA2', 'ADAR', 'GALNT5', 'GPBP1L1', 'CHST9', 'SEZ6L', 'HOMEZ', 'TMX2', 'ADAM21', 'ASAH2', 'RHOG', 'LINC01270', 'CHCHD3', 'DLG3-AS1', 'FZD4', 'PDGFD', 'PCIF1', 'SPATA6L', 'A2M-AS1', 'FAT4', 'TDRP', 'LRP4', 'PPFIA2', 'GPX1', 'CELF3', 'SFPQ', 'CFAP206', 'STX18-AS1', 'ZNF219', 'SPA17']\n",
      "Number of Common Significant Biomarkers: 3504\n"
     ]
    }
   ],
   "source": [
    "# Get the common significant features\n",
    "cll_t2d_common_significant_features = get_common_biomarkers(cll_significant_features, t2d_significant_features)\n",
    "print(\"Common Significant Biomarkers between CLL and T2D:\\n\", list(cll_t2d_common_significant_features))\n",
    "print(\"Number of Common Significant Biomarkers:\", len(cll_t2d_common_significant_features))\n",
    "\n",
    "# Common Biomarkers between CLL and T2D:\n",
    "#  ['TRIM10', 'NDUFA8', 'HSCB', 'TIMM8B']"
   ]
  },
  {
   "cell_type": "code",
   "execution_count": 146,
   "metadata": {},
   "outputs": [
    {
     "name": "stdout",
     "output_type": "stream",
     "text": [
      "CLL and T2D Common Significant Biomarkers from T-test:\n",
      "               CLL_p_value   T2D_p_value\n",
      "SNORA3B          0.000003  1.843276e-02\n",
      "LOC100506178     0.000005  2.802381e-02\n",
      "TATDN2           0.000008  9.072846e-06\n",
      "SNORD12B         0.000009  1.668511e-02\n",
      "FFAR1            0.000018  1.934142e-04\n",
      "...                   ...           ...\n",
      "SFPQ             0.049903  1.084618e-04\n",
      "CFAP206          0.049941  1.376608e-03\n",
      "STX18-AS1        0.049950  2.422352e-05\n",
      "ZNF219           0.049972  2.763747e-02\n",
      "SPA17            0.049974  7.926721e-07\n",
      "\n",
      "[3504 rows x 2 columns]\n"
     ]
    }
   ],
   "source": [
    "# Remove duplicate labels from significant features\n",
    "cll_significant_features = cll_significant_features[~cll_significant_features.index.duplicated(keep=\"first\")]\n",
    "t2d_significant_features = t2d_significant_features[~t2d_significant_features.index.duplicated(keep=\"first\")]\n",
    "\n",
    "# Ensure common features exist in both DataFrames\n",
    "valid_common_features = cll_t2d_common_significant_features[\n",
    "    cll_t2d_common_significant_features.isin(cll_significant_features.index) &\n",
    "    cll_t2d_common_significant_features.isin(t2d_significant_features.index)\n",
    "]\n",
    "\n",
    "# Create a DataFrame for common significant features\n",
    "cll_t2d_common_significant_features_df = pd.DataFrame(index=valid_common_features)\n",
    "\n",
    "# Align indices using reindex to avoid length mismatch\n",
    "cll_t2d_common_significant_features_df[\"CLL_p_value\"] = cll_significant_features.reindex(valid_common_features)[\"p_value\"].values\n",
    "cll_t2d_common_significant_features_df[\"T2D_p_value\"] = t2d_significant_features.reindex(valid_common_features)[\"p_value\"].values\n",
    "\n",
    "# Save to CSV\n",
    "cll_t2d_common_significant_features_df.to_csv(\"results/cll_t2d_common_significant_features.csv\")\n",
    "\n",
    "# Print the result\n",
    "print(\"CLL and T2D Common Significant Biomarkers from T-test:\\n\", cll_t2d_common_significant_features_df)"
   ]
  },
  {
   "cell_type": "code",
   "execution_count": 147,
   "metadata": {},
   "outputs": [
    {
     "name": "stdout",
     "output_type": "stream",
     "text": [
      "CLL and T2D Common Biomarkers from ML Aproach P values:\n",
      "         CLL_p_value   T2D_p_value\n",
      "TRIM10     0.000208  3.659457e-01\n",
      "NDUFA8     0.005598  3.424038e-08\n",
      "HSCB       0.182190  6.635155e-08\n",
      "TIMM8B     0.001525  1.682190e-04\n"
     ]
    }
   ],
   "source": [
    "# Remove duplicate labels from p-values DataFrames\n",
    "cll_p_values_df = cll_p_values_df[~cll_p_values_df.index.duplicated(keep=\"first\")]\n",
    "t2d_p_values_df = t2d_p_values_df[~t2d_p_values_df.index.duplicated(keep=\"first\")]\n",
    "\n",
    "# Ensure common biomarkers exist in both DataFrames\n",
    "valid_common_biomarkers = cll_t2d_common_biomarkers[\n",
    "    cll_t2d_common_biomarkers.isin(cll_p_values_df.index) &\n",
    "    cll_t2d_common_biomarkers.isin(t2d_p_values_df.index)\n",
    "]\n",
    "\n",
    "# Create a DataFrame for common biomarkers\n",
    "cll_t2d_common_biomarkers_df = pd.DataFrame(index=valid_common_biomarkers)\n",
    "\n",
    "# Align indices using reindex to avoid length mismatch\n",
    "cll_t2d_common_biomarkers_df[\"CLL_p_value\"] = cll_p_values_df.reindex(valid_common_biomarkers)[\"p_value\"].values\n",
    "cll_t2d_common_biomarkers_df[\"T2D_p_value\"] = t2d_p_values_df.reindex(valid_common_biomarkers)[\"p_value\"].values\n",
    "\n",
    "# Print the result\n",
    "print(\"CLL and T2D Common Biomarkers from ML Aproach P values:\\n\", cll_t2d_common_biomarkers_df)"
   ]
  },
  {
   "cell_type": "markdown",
   "metadata": {},
   "source": []
  }
 ],
 "metadata": {
  "kernelspec": {
   "display_name": "dsenv",
   "language": "python",
   "name": "python3"
  },
  "language_info": {
   "codemirror_mode": {
    "name": "ipython",
    "version": 3
   },
   "file_extension": ".py",
   "mimetype": "text/x-python",
   "name": "python",
   "nbconvert_exporter": "python",
   "pygments_lexer": "ipython3",
   "version": "3.12.3"
  }
 },
 "nbformat": 4,
 "nbformat_minor": 2
}

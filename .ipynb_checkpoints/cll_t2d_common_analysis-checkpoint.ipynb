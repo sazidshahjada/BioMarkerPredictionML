{
 "cells": [
  {
   "cell_type": "markdown",
   "metadata": {},
   "source": [
    "# **Biomarker Selection for CLL and T2D**\n",
    "\n",
    "This notebook performs feature selection to identify significant biomarkers for Chronic Lymphocytic Leukemia (CLL) and Type 2 Diabetes (T2D) using a merged gene expression dataset. Three feature selection methods—Lasso, Random Forest, and SVM-RFE—are applied to rank and select biomarkers. The intersection of selected features is identified, and a t-test is used to verify the statistical significance of the common biomarkers. The results are saved for further analysis."
   ]
  },
  {
   "cell_type": "markdown",
   "metadata": {},
   "source": [
    "### **1. Import Libraries**\n",
    "\n",
    "The following libraries are imported for data manipulation, visualization, statistical testing, and machine learning-based feature selection."
   ]
  },
  {
   "cell_type": "code",
   "execution_count": null,
   "metadata": {},
   "outputs": [
    {
     "ename": "",
     "evalue": "",
     "output_type": "error",
     "traceback": [
      "\u001b[1;31mFailed to start the Kernel 'dsenv (Python 3.12.3)'. \n",
      "\u001b[1;31mView Jupyter <a href='command:jupyter.viewOutput'>log</a> for further details. WebSocket is not defined"
     ]
    }
   ],
   "source": [
    "# Import libraries\n",
    "import numpy as np\n",
    "import pandas as pd\n",
    "import seaborn as sns\n",
    "from scipy.stats import ttest_ind\n",
    "import matplotlib.pyplot as plt\n",
    "from sklearn.svm import SVC\n",
    "from sklearn.linear_model import Lasso\n",
    "from sklearn.ensemble import RandomForestClassifier\n",
    "from sklearn.preprocessing import StandardScaler\n",
    "from imblearn.over_sampling import SMOTE\n",
    "from sklearn.feature_selection import RFE\n",
    "from sklearn.model_selection import train_test_split"
   ]
  },
  {
   "cell_type": "markdown",
   "metadata": {},
   "source": [
    "### **2. Load Dataset**\n",
    "\n",
    "The merged dataset containing gene expression data for CLL and T2D is loaded from a CSV file."
   ]
  },
  {
   "cell_type": "code",
   "execution_count": null,
   "metadata": {},
   "outputs": [],
   "source": [
    "# Load the dataset\n",
    "data = pd.read_csv('clean_data/merged_cll_t2d_data.csv')\n",
    "data.head()"
   ]
  },
  {
   "cell_type": "markdown",
   "metadata": {},
   "source": [
    "### **3. Select Features and Target**\n",
    "\n",
    "The dataset is split into features (X: gene expression values) and the target variable (y: labels indicating disease status)."
   ]
  },
  {
   "cell_type": "code",
   "execution_count": null,
   "metadata": {},
   "outputs": [],
   "source": [
    "# Select features and target variable (X, y)\n",
    "X = data.drop(columns=['label'])\n",
    "y = data['label']"
   ]
  },
  {
   "cell_type": "markdown",
   "metadata": {},
   "source": [
    "### **4. Standardize Features**\n",
    "\n",
    "Features are standardized using StandardScaler to ensure comparability, as many ML algorithms (e.g., SVM) are sensitive to feature scales."
   ]
  },
  {
   "cell_type": "code",
   "execution_count": null,
   "metadata": {},
   "outputs": [],
   "source": [
    "# Standardize the features\n",
    "scaler = StandardScaler()\n",
    "X_scaled = scaler.fit_transform(X)"
   ]
  },
  {
   "cell_type": "markdown",
   "metadata": {},
   "source": [
    "### **5. Visualize Class Distribution**\n",
    "\n",
    "A count plot visualizes the distribution of classes (e.g., healthy, T2D, CLL) in the dataset."
   ]
  },
  {
   "cell_type": "code",
   "execution_count": null,
   "metadata": {},
   "outputs": [],
   "source": [
    "# Visualize the class distribution\n",
    "sns.countplot(x=y)\n",
    "plt.title('Class Distribution')\n",
    "plt.xlabel('Classes')\n",
    "plt.ylabel('Count')\n",
    "plt.grid(True, axis='y')\n",
    "plt.show()"
   ]
  },
  {
   "cell_type": "markdown",
   "metadata": {},
   "source": [
    "### **6. Handle Class Imbalance (Commented Out)**\n",
    "\n",
    "The code for handling class imbalance using SMOTE is present but commented out. It would upsample the minority class and visualize the new class distribution."
   ]
  },
  {
   "cell_type": "code",
   "execution_count": null,
   "metadata": {},
   "outputs": [],
   "source": [
    "# # Handle class imbalance using SMOTE\n",
    "# smote = SMOTE(random_state=42)\n",
    "# X_resampled, y_resampled = smote.fit_resample(X_scaled, y)\n",
    "# # print the shapesbefore and after SMOTE\n",
    "# print(f\"Original dataset shape: {X.shape}, {y.shape}\")\n",
    "# print(f\"Resampled dataset shape: {X_resampled.shape}, {y_resampled.shape}\")\n",
    "# # Visualize the class distribution after SMOTE\n",
    "# sns.countplot(x=y_resampled)\n",
    "# plt.title('Class Distribution After SMOTE')\n",
    "# plt.xlabel('Classes')\n",
    "# plt.ylabel('Count')\n",
    "# plt.grid(True, axis='y')\n",
    "# plt.show()"
   ]
  },
  {
   "cell_type": "markdown",
   "metadata": {},
   "source": [
    "### **7. Lasso Feature Selection**\n",
    "\n",
    "A Lasso model is trained to select features by shrinking less important feature coefficients to zero. The absolute values of the coefficients are used to rank features."
   ]
  },
  {
   "cell_type": "code",
   "execution_count": null,
   "metadata": {},
   "outputs": [],
   "source": [
    "# Train Lasso model and perform feature selection s\n",
    "lasso = Lasso(alpha=0.01)\n",
    "lasso.fit(X, y)\n",
    "importance = np.abs(lasso.coef_)\n",
    "# Create a DataFrame for feature importance\n",
    "feature_importance = pd.DataFrame({'Feature': X.columns, 'Importance': importance})\n",
    "# Sort the features by importance\n",
    "feature_importance = feature_importance.sort_values(by='Importance', ascending=False)\n",
    "feature_importance.reset_index(drop=True, inplace=True)\n",
    "lasso_feature_importance = feature_importance[feature_importance['Importance'] > 0]\n",
    "# Print the selected features\n",
    "print(\"Number of Biomarkers selected by Lasso:\", len(lasso_feature_importance))\n",
    "print(\"Selected Biomarkers using Lasso:\")\n",
    "print(lasso_feature_importance)"
   ]
  },
  {
   "cell_type": "markdown",
   "metadata": {},
   "source": [
    "### **8. Random Forest Feature Selection**\n",
    "\n",
    "A Random Forest model is trained to select features based on their importance scores, derived from their contribution to classification."
   ]
  },
  {
   "cell_type": "code",
   "execution_count": null,
   "metadata": {},
   "outputs": [],
   "source": [
    "# Train Random Forest model and perform feature selection\n",
    "rf = RandomForestClassifier(n_estimators=100, random_state=42)\n",
    "rf.fit(X, y)\n",
    "importance = rf.feature_importances_\n",
    "# Create a DataFrame for feature importance\n",
    "feature_importance = pd.DataFrame({'Feature': X.columns, 'Importance': importance})\n",
    "# Sort the features by importance\n",
    "feature_importance = feature_importance.sort_values(by='Importance', ascending=False)\n",
    "feature_importance.reset_index(drop=True, inplace=True)\n",
    "rf_feature_importance = feature_importance[feature_importance['Importance'] > 0]\n",
    "# Print the selected features\n",
    "print(\"Number of Biomarkers selected by Random Forest:\", len(rf_feature_importance))\n",
    "print(\"Selected Biomarkers using Random Forest:\")\n",
    "print(rf_feature_importance)"
   ]
  },
  {
   "cell_type": "markdown",
   "metadata": {},
   "source": [
    "### **9. SVM-RFE Feature Selection**\n",
    "\n",
    "SVM-RFE is used to select the top 10 features by iteratively eliminating the least important features based on SVM weights."
   ]
  },
  {
   "cell_type": "code",
   "execution_count": null,
   "metadata": {},
   "outputs": [],
   "source": [
    "# Train SVM-RFE model and perform feature selection\n",
    "svm = SVC(kernel='linear', random_state=42)\n",
    "rfe = RFE(estimator=svm, n_features_to_select=10)\n",
    "rfe.fit(X, y)\n",
    "# Create a DataFrame for feature importance\n",
    "feature_importance = pd.DataFrame({'Feature': X.columns, 'Importance': rfe.ranking_})\n",
    "# Sort the features by importance\n",
    "feature_importance = feature_importance.sort_values(by='Importance', ascending=False)\n",
    "feature_importance.reset_index(drop=True, inplace=True)\n",
    "svmrfe_feature_importance = feature_importance[feature_importance['Importance'] > 0.0]\n",
    "# Print the selected features\n",
    "print(\"Number of Biomarkers selected by SVM-RFE:\", len(svmrfe_feature_importance))\n",
    "print(\"Selected Biomarkers using SVM-RFE:\")\n",
    "print(svmrfe_feature_importance)"
   ]
  },
  {
   "cell_type": "markdown",
   "metadata": {},
   "source": [
    "### **10. Intersection of Selected Features**\n",
    "\n",
    "The common biomarkers selected by all three methods (Lasso, Random Forest, and SVM-RFE) are identified."
   ]
  },
  {
   "cell_type": "code",
   "execution_count": null,
   "metadata": {},
   "outputs": [],
   "source": [
    "# Intersection of selected features from all three methods\n",
    "lasso_features = set(lasso_feature_importance['Feature'])\n",
    "rf_features = set(rf_feature_importance['Feature'])\n",
    "svmrfe_features = set(svmrfe_feature_importance['Feature'])\n",
    "intersection_features = lasso_features.intersection(rf_features).intersection(svmrfe_features)\n",
    "# Print the intersection of selected features\n",
    "print(\"Number of Biomarkers in intersection:\", len(list(intersection_features)))\n",
    "print(\"Intersection of Selected Biomarkers:\")\n",
    "print(intersection_features)"
   ]
  },
  {
   "cell_type": "markdown",
   "metadata": {},
   "source": [
    "### **11. Compile Selected Features with Scores**\n",
    "\n",
    "A DataFrame is created to compile the importance scores from all three methods for the common biomarkers.\n",
    "\n"
   ]
  },
  {
   "cell_type": "code",
   "execution_count": null,
   "metadata": {},
   "outputs": [],
   "source": [
    "# Create a new DataFrame with the selected features with scores from all three methods\n",
    "# Create a list to store rows\n",
    "rows = []\n",
    "for feature in intersection_features:\n",
    "    lasso_score = lasso_feature_importance[lasso_feature_importance['Feature'] == feature]['Importance'].values[0]\n",
    "    rf_score = rf_feature_importance[rf_feature_importance['Feature'] == feature]['Importance'].values[0]\n",
    "    svmrfe_score = svmrfe_feature_importance[svmrfe_feature_importance['Feature'] == feature]['Importance'].values[0]\n",
    "    rows.append({\n",
    "        'Feature': feature,\n",
    "        'Lasso': lasso_score,\n",
    "        'Random Forest': rf_score,\n",
    "        'SVM-RFE': svmrfe_score\n",
    "    })\n",
    "\n",
    "selected_features = pd.DataFrame(rows)\n",
    "# Print the selected features with scores\n",
    "print(\"Selected Biomarkers with Scores:\")\n",
    "print(selected_features)\n",
    "# Save to CSV\n",
    "selected_features.to_csv('results/cll_t2d_multimode_selected_features.csv', index=False)"
   ]
  },
  {
   "cell_type": "markdown",
   "metadata": {},
   "source": [
    "### **12. Verify Common Biomarkers with T-test**\n",
    "\n",
    "A t-test is performed to verify the statistical significance of the common biomarkers by comparing their expression levels between healthy (label 0) and T2D (label 1) groups."
   ]
  },
  {
   "cell_type": "code",
   "execution_count": null,
   "metadata": {},
   "outputs": [],
   "source": [
    "# Verify the common biomarkers with t-test\n",
    "# Load the dataset again\n",
    "data = pd.read_csv('clean_data/merged_cll_t2d_data.csv')\n",
    "# Select features and target variable (X, y)\n",
    "X = data.drop(columns=['label'])\n",
    "y = data['label']\n",
    "# Select the common biomarkers\n",
    "common_biomarkers = list(intersection_features)\n",
    "# Create a new DataFrame with the common biomarkers\n",
    "common_biomarkers_df = data[common_biomarkers]\n",
    "# Add the target variable\n",
    "common_biomarkers_df['label'] = y\n",
    "# Perform t-test for each common biomarker\n",
    "t_test_results = []\n",
    "for feature in common_biomarkers:\n",
    "    group1 = common_biomarkers_df[common_biomarkers_df['label'] == 0][feature]\n",
    "    group2 = common_biomarkers_df[common_biomarkers_df['label'] == 1][feature]\n",
    "    t_stat, p_value = ttest_ind(group1, group2)\n",
    "    t_test_results.append({\n",
    "        'Feature': feature,\n",
    "        't-statistic': t_stat,\n",
    "        'p-value': p_value\n",
    "    })\n",
    "# Create a DataFrame for t-test results\n",
    "t_test_results_df = pd.DataFrame(t_test_results)\n",
    "# Print the t-test results\n",
    "print(\"T-test Results:\")\n",
    "print(t_test_results_df)\n",
    "# Save t-test results to CSV\n",
    "t_test_results_df.to_csv('results/cll_t2d_multimode_t_test_results.csv', index=False)"
   ]
  },
  {
   "cell_type": "code",
   "execution_count": null,
   "metadata": {},
   "outputs": [],
   "source": []
  }
 ],
 "metadata": {
  "kernelspec": {
   "display_name": "dsenv",
   "language": "python",
   "name": "python3"
  },
  "language_info": {
   "codemirror_mode": {
    "name": "ipython",
    "version": 3
   },
   "file_extension": ".py",
   "mimetype": "text/x-python",
   "name": "python",
   "nbconvert_exporter": "python",
   "pygments_lexer": "ipython3",
   "version": "3.12.3"
  }
 },
 "nbformat": 4,
 "nbformat_minor": 2
}
